{
 "cells": [
  {
   "cell_type": "markdown",
   "metadata": {
    "papermill": {
     "duration": 0.029718,
     "end_time": "2020-10-26T12:46:41.276296",
     "exception": false,
     "start_time": "2020-10-26T12:46:41.246578",
     "status": "completed"
    },
    "tags": []
   },
   "source": [
    "</center><img src=\"https://www.inovex.de/wp-content/uploads/2019/02/Price-Prediction-in-Online-Car-Marketplaces-1500x880.png\" style=\"width: 200px;\"/></center>\n",
    "\n",
    "## Прогнозирование стоимости автомобиля по характеристикам\n",
    "\n",
    "> **baseline** создается больше как шаблон, где можно посмотреть как происходит обращение с входящими данными и что нужно получить на выходе. При этом МЛ начинка может быть достаточно простой. Это помогает быстрее приступить к самому МЛ, а не тратить ценное время на чисто инженерные задачи. \n",
    "Также baseline является хорошей опорной точкой по метрике. Если твое решение хуже baseline - ты явно делаешь что-то не то и стоит попробовать другой путь) "
   ]
  },
  {
   "cell_type": "markdown",
   "metadata": {
    "papermill": {
     "duration": 0.028027,
     "end_time": "2020-10-26T12:46:41.334278",
     "exception": false,
     "start_time": "2020-10-26T12:46:41.306251",
     "status": "completed"
    },
    "tags": []
   },
   "source": [
    "The collected data \"merged.csv\" was created using the ADDPATH to github noteboook"
   ]
  },
  {
   "cell_type": "code",
   "execution_count": 1,
   "metadata": {
    "_cell_guid": "b1076dfc-b9ad-4769-8c92-a6c4dae69d19",
    "_uuid": "8f2839f25d086af736a60e9eeb907d3b93b6e0e5",
    "execution": {
     "iopub.execute_input": "2022-01-09T12:47:26.796386Z",
     "iopub.status.busy": "2022-01-09T12:47:26.795626Z",
     "iopub.status.idle": "2022-01-09T12:47:28.008726Z",
     "shell.execute_reply": "2022-01-09T12:47:28.007598Z",
     "shell.execute_reply.started": "2022-01-09T12:47:26.796328Z"
    },
    "papermill": {
     "duration": 1.219772,
     "end_time": "2020-10-26T12:46:42.581597",
     "exception": false,
     "start_time": "2020-10-26T12:46:41.361825",
     "status": "completed"
    },
    "tags": []
   },
   "outputs": [
    {
     "name": "stderr",
     "output_type": "stream",
     "text": [
      "/home/anara/.local/lib/python3.7/site-packages/pandas/compat/_optional.py:123: UserWarning: Pandas requires version '1.2.1' or newer of 'bottleneck' (version '1.2.0' currently installed).\n",
      "  warnings.warn(msg, UserWarning)\n"
     ]
    }
   ],
   "source": [
    "import numpy as np # linear algebra\n",
    "import pandas as pd # data processing, CSV file I/O (e.g. pd.read_csv)\n",
    "import sys\n",
    "from sklearn.model_selection import train_test_split, KFold\n",
    "from tqdm.notebook import tqdm\n",
    "from catboost import CatBoostRegressor\n",
    "from sklearn.preprocessing import LabelEncoder, StandardScaler\n",
    "from sklearn.feature_selection import f_regression, mutual_info_regression\n",
    "import numpy as np\n",
    "import ast\n",
    "import json\n",
    "import matplotlib.pyplot as plt\n",
    "import seaborn as sns\n",
    "from datetime import datetime\n",
    "from sklearn.ensemble import RandomForestRegressor, ExtraTreesRegressor, StackingRegressor\n",
    "from sklearn.model_selection import RandomizedSearchCV, KFold\n",
    "from sklearn.linear_model import LogisticRegression, LinearRegression\n",
    "from sklearn import svm\n",
    "import xgboost as xgb\n",
    "from IPython.core.interactiveshell import InteractiveShell\n",
    "InteractiveShell.ast_node_interactivity = \"all\"\n"
   ]
  },
  {
   "cell_type": "code",
   "execution_count": 2,
   "metadata": {
    "_kg_hide-input": true,
    "execution": {
     "iopub.execute_input": "2022-01-09T12:47:32.977892Z",
     "iopub.status.busy": "2022-01-09T12:47:32.977478Z",
     "iopub.status.idle": "2022-01-09T12:47:32.984064Z",
     "shell.execute_reply": "2022-01-09T12:47:32.982939Z",
     "shell.execute_reply.started": "2022-01-09T12:47:32.977856Z"
    },
    "papermill": {
     "duration": 0.040034,
     "end_time": "2020-10-26T12:46:42.650603",
     "exception": false,
     "start_time": "2020-10-26T12:46:42.610569",
     "status": "completed"
    },
    "tags": []
   },
   "outputs": [
    {
     "name": "stdout",
     "output_type": "stream",
     "text": [
      "Python       : 3.7.12 (default, Sep 10 2021, 00:21:48) \n",
      "Numpy        : 1.18.3\n"
     ]
    }
   ],
   "source": [
    "print('Python       :', sys.version.split('\\n')[0])\n",
    "print('Numpy        :', np.__version__)"
   ]
  },
  {
   "cell_type": "code",
   "execution_count": 3,
   "metadata": {
    "_kg_hide-input": true,
    "papermill": {
     "duration": 5.172536,
     "end_time": "2020-10-26T12:46:47.852593",
     "exception": false,
     "start_time": "2020-10-26T12:46:42.680057",
     "status": "completed"
    },
    "tags": []
   },
   "outputs": [],
   "source": [
    "# зафиксируем версию пакетов, чтобы эксперименты были воспроизводимы:\n",
    "!pip freeze > requirements.txt"
   ]
  },
  {
   "cell_type": "code",
   "execution_count": 4,
   "metadata": {
    "papermill": {
     "duration": 0.039842,
     "end_time": "2020-10-26T12:46:47.922434",
     "exception": false,
     "start_time": "2020-10-26T12:46:47.882592",
     "status": "completed"
    },
    "tags": []
   },
   "outputs": [],
   "source": [
    "# всегда фиксируйте RANDOM_SEED, чтобы ваши эксперименты были воспроизводимы!\n",
    "RANDOM_SEED = 42"
   ]
  },
  {
   "cell_type": "code",
   "execution_count": 5,
   "metadata": {
    "_kg_hide-input": true
   },
   "outputs": [],
   "source": [
    "def mape(y_true, y_pred):\n",
    "    return np.mean(np.abs((y_pred-y_true)/y_true))"
   ]
  },
  {
   "cell_type": "markdown",
   "metadata": {
    "papermill": {
     "duration": 0.028837,
     "end_time": "2020-10-26T12:46:47.981435",
     "exception": false,
     "start_time": "2020-10-26T12:46:47.952598",
     "status": "completed"
    },
    "tags": []
   },
   "source": [
    "# Setup"
   ]
  },
  {
   "cell_type": "code",
   "execution_count": 6,
   "metadata": {
    "papermill": {
     "duration": 0.039969,
     "end_time": "2020-10-26T12:46:48.052728",
     "exception": false,
     "start_time": "2020-10-26T12:46:48.012759",
     "status": "completed"
    },
    "tags": []
   },
   "outputs": [],
   "source": [
    "VERSION    = 16\n",
    "# DIR_TRAIN  = '../input/collected-data/' \n",
    "# DIR_TEST   = '../input/sf-dst-car-price-prediction/'\n",
    "DIR_TRAIN  = 'for_train/' \n",
    "DIR_TEST   = 'for_test/'\n",
    "VAL_SIZE   = 0.20   # 20%"
   ]
  },
  {
   "cell_type": "markdown",
   "metadata": {
    "papermill": {
     "duration": 0.030254,
     "end_time": "2020-10-26T12:46:48.112586",
     "exception": false,
     "start_time": "2020-10-26T12:46:48.082332",
     "status": "completed"
    },
    "tags": []
   },
   "source": [
    "# Data"
   ]
  },
  {
   "cell_type": "code",
   "execution_count": 7,
   "metadata": {
    "papermill": {
     "duration": 0.783211,
     "end_time": "2020-10-26T12:46:48.925418",
     "exception": false,
     "start_time": "2020-10-26T12:46:48.142207",
     "status": "completed"
    },
    "tags": []
   },
   "outputs": [],
   "source": [
    "# !ls '../input'"
   ]
  },
  {
   "cell_type": "code",
   "execution_count": 8,
   "metadata": {
    "_cell_guid": "79c7e3d0-c299-4dcb-8224-4455121ee9b0",
    "_uuid": "d629ff2d2480ee46fbb7e2d37f6b5fab8052498a",
    "papermill": {
     "duration": 13.16556,
     "end_time": "2020-10-26T12:47:02.12133",
     "exception": false,
     "start_time": "2020-10-26T12:46:48.95577",
     "status": "completed"
    },
    "tags": []
   },
   "outputs": [],
   "source": [
    "train = pd.read_csv(DIR_TRAIN +'merged.csv', sep=';', lineterminator='\\n')\n",
    "# train = pd.read_csv(DIR_TRAIN + 'all_auto_ru_09_09_2020.csv')\n",
    "test = pd.read_csv(DIR_TEST+'test.csv')\n",
    "sample_submission = pd.read_csv(DIR_TEST+'sample_submission.csv')"
   ]
  },
  {
   "cell_type": "code",
   "execution_count": 9,
   "metadata": {
    "papermill": {
     "duration": 0.09378,
     "end_time": "2020-10-26T12:47:02.246755",
     "exception": false,
     "start_time": "2020-10-26T12:47:02.152975",
     "status": "completed"
    },
    "tags": []
   },
   "outputs": [
    {
     "data": {
      "text/html": [
       "<div>\n",
       "<style scoped>\n",
       "    .dataframe tbody tr th:only-of-type {\n",
       "        vertical-align: middle;\n",
       "    }\n",
       "\n",
       "    .dataframe tbody tr th {\n",
       "        vertical-align: top;\n",
       "    }\n",
       "\n",
       "    .dataframe thead th {\n",
       "        text-align: right;\n",
       "    }\n",
       "</style>\n",
       "<table border=\"1\" class=\"dataframe\">\n",
       "  <thead>\n",
       "    <tr style=\"text-align: right;\">\n",
       "      <th></th>\n",
       "      <th>Unnamed: 0</th>\n",
       "      <th>bodyType</th>\n",
       "      <th>brand</th>\n",
       "      <th>car_url</th>\n",
       "      <th>color</th>\n",
       "      <th>complectation_dict</th>\n",
       "      <th>description</th>\n",
       "      <th>engineDisplacement</th>\n",
       "      <th>enginePower</th>\n",
       "      <th>equipment_dict</th>\n",
       "      <th>...</th>\n",
       "      <th>Владение</th>\n",
       "      <th>ПТС</th>\n",
       "      <th>Привод</th>\n",
       "      <th>Руль</th>\n",
       "      <th>Состояние</th>\n",
       "      <th>Таможня</th>\n",
       "      <th>Region</th>\n",
       "      <th>Taxes</th>\n",
       "      <th>Views</th>\n",
       "      <th>Price</th>\n",
       "    </tr>\n",
       "  </thead>\n",
       "  <tbody>\n",
       "    <tr>\n",
       "      <th>0</th>\n",
       "      <td>0</td>\n",
       "      <td>лифтбек</td>\n",
       "      <td>SKODA</td>\n",
       "      <td>https://auto.ru/cars/used/sale/skoda/octavia/1...</td>\n",
       "      <td>синий</td>\n",
       "      <td>{'id': '0'}</td>\n",
       "      <td>Читайте пожалуйста внимательно. Чистокровная Ч...</td>\n",
       "      <td>1.6</td>\n",
       "      <td>101</td>\n",
       "      <td>{'condition': True, 'hatch': True}</td>\n",
       "      <td>...</td>\n",
       "      <td>NaN</td>\n",
       "      <td>Оригинал</td>\n",
       "      <td>передний</td>\n",
       "      <td>Левый</td>\n",
       "      <td>Не требует ремонта</td>\n",
       "      <td>Растаможен</td>\n",
       "      <td>NaN</td>\n",
       "      <td>2525.0</td>\n",
       "      <td>137.0</td>\n",
       "      <td>370000.0</td>\n",
       "    </tr>\n",
       "    <tr>\n",
       "      <th>1</th>\n",
       "      <td>1</td>\n",
       "      <td>лифтбек</td>\n",
       "      <td>SKODA</td>\n",
       "      <td>https://auto.ru/cars/used/sale/skoda/octavia/1...</td>\n",
       "      <td>серебристый</td>\n",
       "      <td>{'id': '0'}</td>\n",
       "      <td>ЗдравствуйтеПродаю автомобиль Состояние хороше...</td>\n",
       "      <td>1.9</td>\n",
       "      <td>110</td>\n",
       "      <td>{}</td>\n",
       "      <td>...</td>\n",
       "      <td>NaN</td>\n",
       "      <td>Дубликат</td>\n",
       "      <td>передний</td>\n",
       "      <td>Левый</td>\n",
       "      <td>Не требует ремонта</td>\n",
       "      <td>Растаможен</td>\n",
       "      <td>NaN</td>\n",
       "      <td>2750.0</td>\n",
       "      <td>5.0</td>\n",
       "      <td>220000.0</td>\n",
       "    </tr>\n",
       "    <tr>\n",
       "      <th>2</th>\n",
       "      <td>2</td>\n",
       "      <td>лифтбек</td>\n",
       "      <td>SKODA</td>\n",
       "      <td>https://auto.ru/cars/used/sale/skoda/octavia/1...</td>\n",
       "      <td>серебристый</td>\n",
       "      <td>{'id': '0'}</td>\n",
       "      <td>ПТС оригинал. Ходовая в норме. Мотор на отличн...</td>\n",
       "      <td>1.4</td>\n",
       "      <td>60</td>\n",
       "      <td>{'esp': True, 'airbag-driver': True, 'aux': Tr...</td>\n",
       "      <td>...</td>\n",
       "      <td>NaN</td>\n",
       "      <td>Оригинал</td>\n",
       "      <td>передний</td>\n",
       "      <td>Левый</td>\n",
       "      <td>Не требует ремонта</td>\n",
       "      <td>Растаможен</td>\n",
       "      <td>NaN</td>\n",
       "      <td>2040.0</td>\n",
       "      <td>121.0</td>\n",
       "      <td>390000.0</td>\n",
       "    </tr>\n",
       "    <tr>\n",
       "      <th>3</th>\n",
       "      <td>3</td>\n",
       "      <td>лифтбек</td>\n",
       "      <td>SKODA</td>\n",
       "      <td>https://auto.ru/cars/used/sale/skoda/octavia_r...</td>\n",
       "      <td>серый</td>\n",
       "      <td>{'id': '5011515', 'name': 'RS', 'available_opt...</td>\n",
       "      <td>2 Владелец Документы Оригинал Комплект Ключей ...</td>\n",
       "      <td>2.0</td>\n",
       "      <td>200</td>\n",
       "      <td>{'cruise-control': True, 'esp': True, 'airbag-...</td>\n",
       "      <td>...</td>\n",
       "      <td>10 лет и 1 месяц</td>\n",
       "      <td>Оригинал</td>\n",
       "      <td>передний</td>\n",
       "      <td>Левый</td>\n",
       "      <td>Не требует ремонта</td>\n",
       "      <td>Растаможен</td>\n",
       "      <td>Привольная улица, 65/32</td>\n",
       "      <td>10000.0</td>\n",
       "      <td>185.0</td>\n",
       "      <td>960000.0</td>\n",
       "    </tr>\n",
       "    <tr>\n",
       "      <th>4</th>\n",
       "      <td>4</td>\n",
       "      <td>лифтбек</td>\n",
       "      <td>SKODA</td>\n",
       "      <td>https://auto.ru/cars/used/sale/skoda/octavia/1...</td>\n",
       "      <td>серый</td>\n",
       "      <td>{'id': '0'}</td>\n",
       "      <td>Продаю а/м в хорошем техническом состоянии, дл...</td>\n",
       "      <td>1.9</td>\n",
       "      <td>105</td>\n",
       "      <td>{}</td>\n",
       "      <td>...</td>\n",
       "      <td>NaN</td>\n",
       "      <td>Оригинал</td>\n",
       "      <td>передний</td>\n",
       "      <td>Левый</td>\n",
       "      <td>Не требует ремонта</td>\n",
       "      <td>Растаможен</td>\n",
       "      <td>NaN</td>\n",
       "      <td>3570.0</td>\n",
       "      <td>126.0</td>\n",
       "      <td>770000.0</td>\n",
       "    </tr>\n",
       "  </tbody>\n",
       "</table>\n",
       "<p>5 rows × 37 columns</p>\n",
       "</div>"
      ],
      "text/plain": [
       "   Unnamed: 0 bodyType  brand  \\\n",
       "0           0  лифтбек  SKODA   \n",
       "1           1  лифтбек  SKODA   \n",
       "2           2  лифтбек  SKODA   \n",
       "3           3  лифтбек  SKODA   \n",
       "4           4  лифтбек  SKODA   \n",
       "\n",
       "                                             car_url        color  \\\n",
       "0  https://auto.ru/cars/used/sale/skoda/octavia/1...        синий   \n",
       "1  https://auto.ru/cars/used/sale/skoda/octavia/1...  серебристый   \n",
       "2  https://auto.ru/cars/used/sale/skoda/octavia/1...  серебристый   \n",
       "3  https://auto.ru/cars/used/sale/skoda/octavia_r...        серый   \n",
       "4  https://auto.ru/cars/used/sale/skoda/octavia/1...        серый   \n",
       "\n",
       "                                  complectation_dict  \\\n",
       "0                                        {'id': '0'}   \n",
       "1                                        {'id': '0'}   \n",
       "2                                        {'id': '0'}   \n",
       "3  {'id': '5011515', 'name': 'RS', 'available_opt...   \n",
       "4                                        {'id': '0'}   \n",
       "\n",
       "                                         description engineDisplacement  \\\n",
       "0  Читайте пожалуйста внимательно. Чистокровная Ч...                1.6   \n",
       "1  ЗдравствуйтеПродаю автомобиль Состояние хороше...                1.9   \n",
       "2  ПТС оригинал. Ходовая в норме. Мотор на отличн...                1.4   \n",
       "3  2 Владелец Документы Оригинал Комплект Ключей ...                2.0   \n",
       "4  Продаю а/м в хорошем техническом состоянии, дл...                1.9   \n",
       "\n",
       "   enginePower                                     equipment_dict  ...  \\\n",
       "0          101                 {'condition': True, 'hatch': True}  ...   \n",
       "1          110                                                 {}  ...   \n",
       "2           60  {'esp': True, 'airbag-driver': True, 'aux': Tr...  ...   \n",
       "3          200  {'cruise-control': True, 'esp': True, 'airbag-...  ...   \n",
       "4          105                                                 {}  ...   \n",
       "\n",
       "           Владение       ПТС    Привод   Руль           Состояние  \\\n",
       "0               NaN  Оригинал  передний  Левый  Не требует ремонта   \n",
       "1               NaN  Дубликат  передний  Левый  Не требует ремонта   \n",
       "2               NaN  Оригинал  передний  Левый  Не требует ремонта   \n",
       "3  10 лет и 1 месяц  Оригинал  передний  Левый  Не требует ремонта   \n",
       "4               NaN  Оригинал  передний  Левый  Не требует ремонта   \n",
       "\n",
       "      Таможня                   Region    Taxes  Views     Price  \n",
       "0  Растаможен                      NaN   2525.0  137.0  370000.0  \n",
       "1  Растаможен                      NaN   2750.0    5.0  220000.0  \n",
       "2  Растаможен                      NaN   2040.0  121.0  390000.0  \n",
       "3  Растаможен  Привольная улица, 65/32  10000.0  185.0  960000.0  \n",
       "4  Растаможен                      NaN   3570.0  126.0  770000.0  \n",
       "\n",
       "[5 rows x 37 columns]"
      ]
     },
     "execution_count": 9,
     "metadata": {},
     "output_type": "execute_result"
    }
   ],
   "source": [
    "train.head(5)"
   ]
  },
  {
   "cell_type": "code",
   "execution_count": 10,
   "metadata": {},
   "outputs": [
    {
     "data": {
      "text/html": [
       "<div>\n",
       "<style scoped>\n",
       "    .dataframe tbody tr th:only-of-type {\n",
       "        vertical-align: middle;\n",
       "    }\n",
       "\n",
       "    .dataframe tbody tr th {\n",
       "        vertical-align: top;\n",
       "    }\n",
       "\n",
       "    .dataframe thead th {\n",
       "        text-align: right;\n",
       "    }\n",
       "</style>\n",
       "<table border=\"1\" class=\"dataframe\">\n",
       "  <thead>\n",
       "    <tr style=\"text-align: right;\">\n",
       "      <th></th>\n",
       "      <th>bodyType</th>\n",
       "      <th>brand</th>\n",
       "      <th>car_url</th>\n",
       "      <th>color</th>\n",
       "      <th>complectation_dict</th>\n",
       "      <th>description</th>\n",
       "      <th>engineDisplacement</th>\n",
       "      <th>enginePower</th>\n",
       "      <th>equipment_dict</th>\n",
       "      <th>fuelType</th>\n",
       "      <th>...</th>\n",
       "      <th>vehicleConfiguration</th>\n",
       "      <th>vehicleTransmission</th>\n",
       "      <th>vendor</th>\n",
       "      <th>Владельцы</th>\n",
       "      <th>Владение</th>\n",
       "      <th>ПТС</th>\n",
       "      <th>Привод</th>\n",
       "      <th>Руль</th>\n",
       "      <th>Состояние</th>\n",
       "      <th>Таможня</th>\n",
       "    </tr>\n",
       "  </thead>\n",
       "  <tbody>\n",
       "    <tr>\n",
       "      <th>0</th>\n",
       "      <td>лифтбек</td>\n",
       "      <td>SKODA</td>\n",
       "      <td>https://auto.ru/cars/used/sale/skoda/octavia/1...</td>\n",
       "      <td>синий</td>\n",
       "      <td>NaN</td>\n",
       "      <td>Все автомобили, представленные в продаже, прох...</td>\n",
       "      <td>1.2 LTR</td>\n",
       "      <td>105 N12</td>\n",
       "      <td>{\"engine-proof\":true,\"tinted-glass\":true,\"airb...</td>\n",
       "      <td>бензин</td>\n",
       "      <td>...</td>\n",
       "      <td>LIFTBACK ROBOT 1.2</td>\n",
       "      <td>роботизированная</td>\n",
       "      <td>EUROPEAN</td>\n",
       "      <td>3 или более</td>\n",
       "      <td>NaN</td>\n",
       "      <td>Оригинал</td>\n",
       "      <td>передний</td>\n",
       "      <td>Левый</td>\n",
       "      <td>Не требует ремонта</td>\n",
       "      <td>Растаможен</td>\n",
       "    </tr>\n",
       "    <tr>\n",
       "      <th>1</th>\n",
       "      <td>лифтбек</td>\n",
       "      <td>SKODA</td>\n",
       "      <td>https://auto.ru/cars/used/sale/skoda/octavia/1...</td>\n",
       "      <td>чёрный</td>\n",
       "      <td>NaN</td>\n",
       "      <td>ЛОТ: 01217195\\nАвтопрага Север\\nДанный автомоб...</td>\n",
       "      <td>1.6 LTR</td>\n",
       "      <td>110 N12</td>\n",
       "      <td>{\"cruise-control\":true,\"asr\":true,\"esp\":true,\"...</td>\n",
       "      <td>бензин</td>\n",
       "      <td>...</td>\n",
       "      <td>LIFTBACK MECHANICAL 1.6</td>\n",
       "      <td>механическая</td>\n",
       "      <td>EUROPEAN</td>\n",
       "      <td>1 владелец</td>\n",
       "      <td>NaN</td>\n",
       "      <td>Оригинал</td>\n",
       "      <td>передний</td>\n",
       "      <td>Левый</td>\n",
       "      <td>Не требует ремонта</td>\n",
       "      <td>Растаможен</td>\n",
       "    </tr>\n",
       "    <tr>\n",
       "      <th>2</th>\n",
       "      <td>лифтбек</td>\n",
       "      <td>SKODA</td>\n",
       "      <td>https://auto.ru/cars/used/sale/skoda/superb/11...</td>\n",
       "      <td>серый</td>\n",
       "      <td>{\"id\":\"20026336\",\"name\":\"Ambition\",\"available_...</td>\n",
       "      <td>Все автомобили, представленные в продаже, прох...</td>\n",
       "      <td>1.8 LTR</td>\n",
       "      <td>152 N12</td>\n",
       "      <td>{\"cruise-control\":true,\"tinted-glass\":true,\"es...</td>\n",
       "      <td>бензин</td>\n",
       "      <td>...</td>\n",
       "      <td>LIFTBACK ROBOT 1.8</td>\n",
       "      <td>роботизированная</td>\n",
       "      <td>EUROPEAN</td>\n",
       "      <td>1 владелец</td>\n",
       "      <td>NaN</td>\n",
       "      <td>Оригинал</td>\n",
       "      <td>передний</td>\n",
       "      <td>Левый</td>\n",
       "      <td>Не требует ремонта</td>\n",
       "      <td>Растаможен</td>\n",
       "    </tr>\n",
       "    <tr>\n",
       "      <th>3</th>\n",
       "      <td>лифтбек</td>\n",
       "      <td>SKODA</td>\n",
       "      <td>https://auto.ru/cars/used/sale/skoda/octavia/1...</td>\n",
       "      <td>коричневый</td>\n",
       "      <td>{\"id\":\"20803582\",\"name\":\"Ambition\",\"available_...</td>\n",
       "      <td>КОМПЛЕКТ ЗИМНЕЙ (ЛЕТНЕЙ) РЕЗИНЫ ПО СЕЗОНУ В ПО...</td>\n",
       "      <td>1.6 LTR</td>\n",
       "      <td>110 N12</td>\n",
       "      <td>{\"cruise-control\":true,\"roller-blind-for-rear-...</td>\n",
       "      <td>бензин</td>\n",
       "      <td>...</td>\n",
       "      <td>LIFTBACK AUTOMATIC 1.6</td>\n",
       "      <td>автоматическая</td>\n",
       "      <td>EUROPEAN</td>\n",
       "      <td>1 владелец</td>\n",
       "      <td>NaN</td>\n",
       "      <td>Оригинал</td>\n",
       "      <td>передний</td>\n",
       "      <td>Левый</td>\n",
       "      <td>Не требует ремонта</td>\n",
       "      <td>Растаможен</td>\n",
       "    </tr>\n",
       "    <tr>\n",
       "      <th>4</th>\n",
       "      <td>лифтбек</td>\n",
       "      <td>SKODA</td>\n",
       "      <td>https://auto.ru/cars/used/sale/skoda/octavia/1...</td>\n",
       "      <td>белый</td>\n",
       "      <td>NaN</td>\n",
       "      <td>ЛОТ: 01220889\\nАвтопрага Север\\n\\nВы можете по...</td>\n",
       "      <td>1.8 LTR</td>\n",
       "      <td>152 N12</td>\n",
       "      <td>{\"cruise-control\":true,\"asr\":true,\"esp\":true,\"...</td>\n",
       "      <td>бензин</td>\n",
       "      <td>...</td>\n",
       "      <td>LIFTBACK AUTOMATIC 1.8</td>\n",
       "      <td>автоматическая</td>\n",
       "      <td>EUROPEAN</td>\n",
       "      <td>1 владелец</td>\n",
       "      <td>NaN</td>\n",
       "      <td>Оригинал</td>\n",
       "      <td>передний</td>\n",
       "      <td>Левый</td>\n",
       "      <td>Не требует ремонта</td>\n",
       "      <td>Растаможен</td>\n",
       "    </tr>\n",
       "  </tbody>\n",
       "</table>\n",
       "<p>5 rows × 32 columns</p>\n",
       "</div>"
      ],
      "text/plain": [
       "  bodyType  brand                                            car_url  \\\n",
       "0  лифтбек  SKODA  https://auto.ru/cars/used/sale/skoda/octavia/1...   \n",
       "1  лифтбек  SKODA  https://auto.ru/cars/used/sale/skoda/octavia/1...   \n",
       "2  лифтбек  SKODA  https://auto.ru/cars/used/sale/skoda/superb/11...   \n",
       "3  лифтбек  SKODA  https://auto.ru/cars/used/sale/skoda/octavia/1...   \n",
       "4  лифтбек  SKODA  https://auto.ru/cars/used/sale/skoda/octavia/1...   \n",
       "\n",
       "        color                                 complectation_dict  \\\n",
       "0       синий                                                NaN   \n",
       "1      чёрный                                                NaN   \n",
       "2       серый  {\"id\":\"20026336\",\"name\":\"Ambition\",\"available_...   \n",
       "3  коричневый  {\"id\":\"20803582\",\"name\":\"Ambition\",\"available_...   \n",
       "4       белый                                                NaN   \n",
       "\n",
       "                                         description engineDisplacement  \\\n",
       "0  Все автомобили, представленные в продаже, прох...            1.2 LTR   \n",
       "1  ЛОТ: 01217195\\nАвтопрага Север\\nДанный автомоб...            1.6 LTR   \n",
       "2  Все автомобили, представленные в продаже, прох...            1.8 LTR   \n",
       "3  КОМПЛЕКТ ЗИМНЕЙ (ЛЕТНЕЙ) РЕЗИНЫ ПО СЕЗОНУ В ПО...            1.6 LTR   \n",
       "4  ЛОТ: 01220889\\nАвтопрага Север\\n\\nВы можете по...            1.8 LTR   \n",
       "\n",
       "  enginePower                                     equipment_dict fuelType  \\\n",
       "0     105 N12  {\"engine-proof\":true,\"tinted-glass\":true,\"airb...   бензин   \n",
       "1     110 N12  {\"cruise-control\":true,\"asr\":true,\"esp\":true,\"...   бензин   \n",
       "2     152 N12  {\"cruise-control\":true,\"tinted-glass\":true,\"es...   бензин   \n",
       "3     110 N12  {\"cruise-control\":true,\"roller-blind-for-rear-...   бензин   \n",
       "4     152 N12  {\"cruise-control\":true,\"asr\":true,\"esp\":true,\"...   бензин   \n",
       "\n",
       "   ...     vehicleConfiguration  vehicleTransmission    vendor    Владельцы  \\\n",
       "0  ...       LIFTBACK ROBOT 1.2     роботизированная  EUROPEAN  3 или более   \n",
       "1  ...  LIFTBACK MECHANICAL 1.6         механическая  EUROPEAN   1 владелец   \n",
       "2  ...       LIFTBACK ROBOT 1.8     роботизированная  EUROPEAN   1 владелец   \n",
       "3  ...   LIFTBACK AUTOMATIC 1.6       автоматическая  EUROPEAN   1 владелец   \n",
       "4  ...   LIFTBACK AUTOMATIC 1.8       автоматическая  EUROPEAN   1 владелец   \n",
       "\n",
       "  Владение       ПТС    Привод   Руль           Состояние     Таможня  \n",
       "0      NaN  Оригинал  передний  Левый  Не требует ремонта  Растаможен  \n",
       "1      NaN  Оригинал  передний  Левый  Не требует ремонта  Растаможен  \n",
       "2      NaN  Оригинал  передний  Левый  Не требует ремонта  Растаможен  \n",
       "3      NaN  Оригинал  передний  Левый  Не требует ремонта  Растаможен  \n",
       "4      NaN  Оригинал  передний  Левый  Не требует ремонта  Растаможен  \n",
       "\n",
       "[5 rows x 32 columns]"
      ]
     },
     "execution_count": 10,
     "metadata": {},
     "output_type": "execute_result"
    }
   ],
   "source": [
    "test.head(5)"
   ]
  },
  {
   "cell_type": "code",
   "execution_count": 11,
   "metadata": {},
   "outputs": [
    {
     "data": {
      "text/plain": [
       "Index(['Unnamed: 0', 'bodyType', 'brand', 'car_url', 'color',\n",
       "       'complectation_dict', 'description', 'engineDisplacement',\n",
       "       'enginePower', 'equipment_dict', 'fuelType', 'image', 'mileage',\n",
       "       'modelDate', 'model_info', 'model_name', 'name', 'numberOfDoors',\n",
       "       'parsing_unixtime', 'priceCurrency', 'productionDate', 'sell_id',\n",
       "       'super_gen', 'vehicleConfiguration', 'vehicleTransmission', 'vendor',\n",
       "       'Владельцы', 'Владение', 'ПТС', 'Привод', 'Руль', 'Состояние',\n",
       "       'Таможня', 'Region', 'Taxes', 'Views', 'Price'],\n",
       "      dtype='object')"
      ]
     },
     "execution_count": 11,
     "metadata": {},
     "output_type": "execute_result"
    }
   ],
   "source": [
    "train.columns"
   ]
  },
  {
   "cell_type": "code",
   "execution_count": 12,
   "metadata": {
    "papermill": {
     "duration": 0.069985,
     "end_time": "2020-10-26T12:47:02.604497",
     "exception": false,
     "start_time": "2020-10-26T12:47:02.534512",
     "status": "completed"
    },
    "tags": []
   },
   "outputs": [
    {
     "data": {
      "text/plain": [
       "Index(['bodyType', 'brand', 'car_url', 'color', 'complectation_dict',\n",
       "       'description', 'engineDisplacement', 'enginePower', 'equipment_dict',\n",
       "       'fuelType', 'image', 'mileage', 'modelDate', 'model_info', 'model_name',\n",
       "       'name', 'numberOfDoors', 'parsing_unixtime', 'priceCurrency',\n",
       "       'productionDate', 'sell_id', 'super_gen', 'vehicleConfiguration',\n",
       "       'vehicleTransmission', 'vendor', 'Владельцы', 'Владение', 'ПТС',\n",
       "       'Привод', 'Руль', 'Состояние', 'Таможня'],\n",
       "      dtype='object')"
      ]
     },
     "execution_count": 12,
     "metadata": {},
     "output_type": "execute_result"
    }
   ],
   "source": [
    "test.columns"
   ]
  },
  {
   "cell_type": "markdown",
   "metadata": {
    "papermill": {
     "duration": 0.033402,
     "end_time": "2020-10-26T12:47:02.866506",
     "exception": false,
     "start_time": "2020-10-26T12:47:02.833104",
     "status": "completed"
    },
    "tags": []
   },
   "source": [
    "## Data Preprocessing"
   ]
  },
  {
   "cell_type": "code",
   "execution_count": 13,
   "metadata": {},
   "outputs": [],
   "source": [
    "\n",
    "def calculate_tax(power, own_month):\n",
    "    \n",
    "    if 0<=power<=100: \n",
    "        rate = 12\n",
    "    elif 100.01<power<=125:\n",
    "        rate = 25\n",
    "    elif 125.01<power<=150:\n",
    "        rate = 35\n",
    "    elif 150.01<power<=175:\n",
    "        rate = 45\n",
    "    elif 175.01<power<=200:\n",
    "        rate = 50\n",
    "    elif 200.01<power<=225:\n",
    "        rate = 65\n",
    "    elif 225.01<power<=250:\n",
    "        rate = 75\n",
    "    elif power>250:\n",
    "        rate = 150\n",
    "    else:\n",
    "        rate = None\n",
    "    \n",
    "    if not np.isnan(own_month):\n",
    "        tax = power * rate * (own_month/12)\n",
    "    else: \n",
    "        tax = power * rate * 1.1\n",
    "     \n",
    "    return round(tax)"
   ]
  },
  {
   "cell_type": "code",
   "execution_count": 14,
   "metadata": {},
   "outputs": [],
   "source": [
    "\n",
    "def convert_ownership_duration_to_month(txt):\n",
    "    year_month_own = [int(s) for s in txt.split() if s.isdigit()] # txt = \"11 лет и 3 месяца\"\n",
    "    month = year_month_own[0] * 12 + year_month_own[1]\n",
    "    return month\n"
   ]
  },
  {
   "cell_type": "markdown",
   "metadata": {},
   "source": [
    "### Train data set"
   ]
  },
  {
   "cell_type": "code",
   "execution_count": 15,
   "metadata": {},
   "outputs": [],
   "source": [
    "train.drop(columns=['Unnamed: 0'], inplace=True)"
   ]
  },
  {
   "cell_type": "code",
   "execution_count": 16,
   "metadata": {},
   "outputs": [
    {
     "data": {
      "text/plain": [
       "bodyType                    0\n",
       "brand                       0\n",
       "car_url                     0\n",
       "color                       0\n",
       "complectation_dict          0\n",
       "description               525\n",
       "engineDisplacement          0\n",
       "enginePower                 0\n",
       "equipment_dict              0\n",
       "fuelType                    0\n",
       "image                   26598\n",
       "mileage                     0\n",
       "modelDate                   0\n",
       "model_info                  0\n",
       "model_name                  0\n",
       "name                        0\n",
       "numberOfDoors               0\n",
       "parsing_unixtime            0\n",
       "priceCurrency              53\n",
       "productionDate              0\n",
       "sell_id                     0\n",
       "super_gen                   0\n",
       "vehicleConfiguration        0\n",
       "vehicleTransmission         0\n",
       "vendor                      0\n",
       "Владельцы                   1\n",
       "Владение                18039\n",
       "ПТС                         0\n",
       "Привод                      0\n",
       "Руль                        0\n",
       "Состояние                   0\n",
       "Таможня                     0\n",
       "Region                   9365\n",
       "Taxes                      27\n",
       "Views                     283\n",
       "Price                      53\n",
       "dtype: int64"
      ]
     },
     "execution_count": 16,
     "metadata": {},
     "output_type": "execute_result"
    }
   ],
   "source": [
    "# check NaNs\n",
    "train.isna().sum()"
   ]
  },
  {
   "cell_type": "code",
   "execution_count": 17,
   "metadata": {},
   "outputs": [],
   "source": [
    "# drop nans in Price and PriceCurrency \n",
    "train = train.dropna(subset=['Price', 'priceCurrency'])\n"
   ]
  },
  {
   "cell_type": "markdown",
   "metadata": {},
   "source": [
    "We can calculate taxes using the formulae from https://www.nalog.gov.ru/rn77/service/calc_transport/\n",
    "![alt text](ff.png \"Title\" )\n",
    "![alt text](tt.png \"Title\" )\n"
   ]
  },
  {
   "cell_type": "markdown",
   "metadata": {},
   "source": [
    "- Если легковой автомобиль стоит от 3 миллионов до 5 миллионов рублей включительно и с года выпуска прошло не более 3 лет, то при исчислении налога применяется коэффициент 1,1. \n",
    "- Коэффициент 2 применяется в отношении легковых автомобилей стоимостью от 5 миллионов до 10 миллионов рублей включительно, если с года их выпуска прошло не более 5 лет;\n",
    "- Самый большой коэффициент — 3, применяется в отношении легковых автомобилей стоимостью от 10 миллионов до 15 миллионов рублей включительно, если с года их выпуска прошло не более 10 лет, а также в отношении легковых автомобилей стоимостью от 15 миллионов рублей, с года выпуска которых прошло не более 20 лет."
   ]
  },
  {
   "cell_type": "code",
   "execution_count": 18,
   "metadata": {},
   "outputs": [],
   "source": [
    "nan_taxes = train[train['Taxes'].isna()]"
   ]
  },
  {
   "cell_type": "code",
   "execution_count": 19,
   "metadata": {},
   "outputs": [
    {
     "data": {
      "text/plain": [
       "21371    105\n",
       "21515    101\n",
       "25732    135\n",
       "Name: Владение, dtype: int64"
      ]
     },
     "execution_count": 19,
     "metadata": {},
     "output_type": "execute_result"
    }
   ],
   "source": [
    "nan_taxes['Владение'].dropna().apply(lambda x: convert_ownership_duration_to_month(x))\n"
   ]
  },
  {
   "cell_type": "code",
   "execution_count": 20,
   "metadata": {},
   "outputs": [
    {
     "name": "stderr",
     "output_type": "stream",
     "text": [
      "/home/anara/.local/lib/python3.7/site-packages/pandas/core/indexing.py:1720: SettingWithCopyWarning: \n",
      "A value is trying to be set on a copy of a slice from a DataFrame.\n",
      "Try using .loc[row_indexer,col_indexer] = value instead\n",
      "\n",
      "See the caveats in the documentation: https://pandas.pydata.org/pandas-docs/stable/user_guide/indexing.html#returning-a-view-versus-a-copy\n",
      "  self._setitem_single_column(loc, value, pi)\n"
     ]
    }
   ],
   "source": [
    "nan_taxes.loc[21371, 'Владение'] = 105 \n",
    "nan_taxes.loc[21515, 'Владение'] = 101 \n",
    "nan_taxes.loc[25732, 'Владение'] = 135 "
   ]
  },
  {
   "cell_type": "code",
   "execution_count": 21,
   "metadata": {},
   "outputs": [],
   "source": [
    "for index, row in nan_taxes.iterrows():\n",
    "    train.loc[index, 'Taxes'] = calculate_tax(row['enginePower'], row['Владение'])"
   ]
  },
  {
   "cell_type": "code",
   "execution_count": 22,
   "metadata": {},
   "outputs": [
    {
     "data": {
      "text/plain": [
       "bodyType                    0\n",
       "brand                       0\n",
       "car_url                     0\n",
       "color                       0\n",
       "complectation_dict          0\n",
       "description               521\n",
       "engineDisplacement          0\n",
       "enginePower                 0\n",
       "equipment_dict              0\n",
       "fuelType                    0\n",
       "image                   26545\n",
       "mileage                     0\n",
       "modelDate                   0\n",
       "model_info                  0\n",
       "model_name                  0\n",
       "name                        0\n",
       "numberOfDoors               0\n",
       "parsing_unixtime            0\n",
       "priceCurrency               0\n",
       "productionDate              0\n",
       "sell_id                     0\n",
       "super_gen                   0\n",
       "vehicleConfiguration        0\n",
       "vehicleTransmission         0\n",
       "vendor                      0\n",
       "Владельцы                   1\n",
       "Владение                18001\n",
       "ПТС                         0\n",
       "Привод                      0\n",
       "Руль                        0\n",
       "Состояние                   0\n",
       "Таможня                     0\n",
       "Region                   9330\n",
       "Taxes                       0\n",
       "Views                     282\n",
       "Price                       0\n",
       "dtype: int64"
      ]
     },
     "execution_count": 22,
     "metadata": {},
     "output_type": "execute_result"
    }
   ],
   "source": [
    "train.isna().sum()"
   ]
  },
  {
   "cell_type": "code",
   "execution_count": 23,
   "metadata": {},
   "outputs": [],
   "source": [
    "train['Views'] = train['Views'].fillna(value=train['Views'].mean())"
   ]
  },
  {
   "cell_type": "markdown",
   "metadata": {},
   "source": [
    "I assume that Region won't bring any useful information, because some clients had written their own address instead of a region of the city, thus I would drop it"
   ]
  },
  {
   "cell_type": "code",
   "execution_count": 24,
   "metadata": {},
   "outputs": [],
   "source": [
    "train.drop(columns=['Region'], inplace=True)"
   ]
  },
  {
   "cell_type": "markdown",
   "metadata": {},
   "source": [
    "### Merge parsed train and given test sets"
   ]
  },
  {
   "cell_type": "code",
   "execution_count": 25,
   "metadata": {},
   "outputs": [
    {
     "data": {
      "text/plain": [
       "Index(['Price', 'Taxes', 'Views'], dtype='object')"
      ]
     },
     "execution_count": 25,
     "metadata": {},
     "output_type": "execute_result"
    }
   ],
   "source": [
    "train.columns.symmetric_difference(test.columns)"
   ]
  },
  {
   "cell_type": "code",
   "execution_count": 26,
   "metadata": {},
   "outputs": [],
   "source": [
    "# add columns to test set\n",
    "test['Price'] = 0\n",
    "test['Taxes'] = 0\n",
    "test['Views'] = 0"
   ]
  },
  {
   "cell_type": "code",
   "execution_count": 27,
   "metadata": {},
   "outputs": [],
   "source": [
    "train['train'] = 1\n",
    "test['train'] = 0"
   ]
  },
  {
   "cell_type": "code",
   "execution_count": 28,
   "metadata": {},
   "outputs": [
    {
     "data": {
      "text/html": [
       "<div>\n",
       "<style scoped>\n",
       "    .dataframe tbody tr th:only-of-type {\n",
       "        vertical-align: middle;\n",
       "    }\n",
       "\n",
       "    .dataframe tbody tr th {\n",
       "        vertical-align: top;\n",
       "    }\n",
       "\n",
       "    .dataframe thead th {\n",
       "        text-align: right;\n",
       "    }\n",
       "</style>\n",
       "<table border=\"1\" class=\"dataframe\">\n",
       "  <thead>\n",
       "    <tr style=\"text-align: right;\">\n",
       "      <th></th>\n",
       "      <th>bodyType</th>\n",
       "      <th>brand</th>\n",
       "      <th>car_url</th>\n",
       "      <th>color</th>\n",
       "      <th>complectation_dict</th>\n",
       "      <th>description</th>\n",
       "      <th>engineDisplacement</th>\n",
       "      <th>enginePower</th>\n",
       "      <th>equipment_dict</th>\n",
       "      <th>fuelType</th>\n",
       "      <th>...</th>\n",
       "      <th>Владение</th>\n",
       "      <th>ПТС</th>\n",
       "      <th>Привод</th>\n",
       "      <th>Руль</th>\n",
       "      <th>Состояние</th>\n",
       "      <th>Таможня</th>\n",
       "      <th>Price</th>\n",
       "      <th>Taxes</th>\n",
       "      <th>Views</th>\n",
       "      <th>train</th>\n",
       "    </tr>\n",
       "  </thead>\n",
       "  <tbody>\n",
       "    <tr>\n",
       "      <th>0</th>\n",
       "      <td>лифтбек</td>\n",
       "      <td>SKODA</td>\n",
       "      <td>https://auto.ru/cars/used/sale/skoda/octavia/1...</td>\n",
       "      <td>синий</td>\n",
       "      <td>NaN</td>\n",
       "      <td>Все автомобили, представленные в продаже, прох...</td>\n",
       "      <td>1.2 LTR</td>\n",
       "      <td>105 N12</td>\n",
       "      <td>{\"engine-proof\":true,\"tinted-glass\":true,\"airb...</td>\n",
       "      <td>бензин</td>\n",
       "      <td>...</td>\n",
       "      <td>NaN</td>\n",
       "      <td>Оригинал</td>\n",
       "      <td>передний</td>\n",
       "      <td>Левый</td>\n",
       "      <td>Не требует ремонта</td>\n",
       "      <td>Растаможен</td>\n",
       "      <td>0.0</td>\n",
       "      <td>0.0</td>\n",
       "      <td>0.0</td>\n",
       "      <td>0</td>\n",
       "    </tr>\n",
       "    <tr>\n",
       "      <th>1</th>\n",
       "      <td>лифтбек</td>\n",
       "      <td>SKODA</td>\n",
       "      <td>https://auto.ru/cars/used/sale/skoda/octavia/1...</td>\n",
       "      <td>чёрный</td>\n",
       "      <td>NaN</td>\n",
       "      <td>ЛОТ: 01217195\\nАвтопрага Север\\nДанный автомоб...</td>\n",
       "      <td>1.6 LTR</td>\n",
       "      <td>110 N12</td>\n",
       "      <td>{\"cruise-control\":true,\"asr\":true,\"esp\":true,\"...</td>\n",
       "      <td>бензин</td>\n",
       "      <td>...</td>\n",
       "      <td>NaN</td>\n",
       "      <td>Оригинал</td>\n",
       "      <td>передний</td>\n",
       "      <td>Левый</td>\n",
       "      <td>Не требует ремонта</td>\n",
       "      <td>Растаможен</td>\n",
       "      <td>0.0</td>\n",
       "      <td>0.0</td>\n",
       "      <td>0.0</td>\n",
       "      <td>0</td>\n",
       "    </tr>\n",
       "    <tr>\n",
       "      <th>2</th>\n",
       "      <td>лифтбек</td>\n",
       "      <td>SKODA</td>\n",
       "      <td>https://auto.ru/cars/used/sale/skoda/superb/11...</td>\n",
       "      <td>серый</td>\n",
       "      <td>{\"id\":\"20026336\",\"name\":\"Ambition\",\"available_...</td>\n",
       "      <td>Все автомобили, представленные в продаже, прох...</td>\n",
       "      <td>1.8 LTR</td>\n",
       "      <td>152 N12</td>\n",
       "      <td>{\"cruise-control\":true,\"tinted-glass\":true,\"es...</td>\n",
       "      <td>бензин</td>\n",
       "      <td>...</td>\n",
       "      <td>NaN</td>\n",
       "      <td>Оригинал</td>\n",
       "      <td>передний</td>\n",
       "      <td>Левый</td>\n",
       "      <td>Не требует ремонта</td>\n",
       "      <td>Растаможен</td>\n",
       "      <td>0.0</td>\n",
       "      <td>0.0</td>\n",
       "      <td>0.0</td>\n",
       "      <td>0</td>\n",
       "    </tr>\n",
       "    <tr>\n",
       "      <th>3</th>\n",
       "      <td>лифтбек</td>\n",
       "      <td>SKODA</td>\n",
       "      <td>https://auto.ru/cars/used/sale/skoda/octavia/1...</td>\n",
       "      <td>коричневый</td>\n",
       "      <td>{\"id\":\"20803582\",\"name\":\"Ambition\",\"available_...</td>\n",
       "      <td>КОМПЛЕКТ ЗИМНЕЙ (ЛЕТНЕЙ) РЕЗИНЫ ПО СЕЗОНУ В ПО...</td>\n",
       "      <td>1.6 LTR</td>\n",
       "      <td>110 N12</td>\n",
       "      <td>{\"cruise-control\":true,\"roller-blind-for-rear-...</td>\n",
       "      <td>бензин</td>\n",
       "      <td>...</td>\n",
       "      <td>NaN</td>\n",
       "      <td>Оригинал</td>\n",
       "      <td>передний</td>\n",
       "      <td>Левый</td>\n",
       "      <td>Не требует ремонта</td>\n",
       "      <td>Растаможен</td>\n",
       "      <td>0.0</td>\n",
       "      <td>0.0</td>\n",
       "      <td>0.0</td>\n",
       "      <td>0</td>\n",
       "    </tr>\n",
       "    <tr>\n",
       "      <th>4</th>\n",
       "      <td>лифтбек</td>\n",
       "      <td>SKODA</td>\n",
       "      <td>https://auto.ru/cars/used/sale/skoda/octavia/1...</td>\n",
       "      <td>белый</td>\n",
       "      <td>NaN</td>\n",
       "      <td>ЛОТ: 01220889\\nАвтопрага Север\\n\\nВы можете по...</td>\n",
       "      <td>1.8 LTR</td>\n",
       "      <td>152 N12</td>\n",
       "      <td>{\"cruise-control\":true,\"asr\":true,\"esp\":true,\"...</td>\n",
       "      <td>бензин</td>\n",
       "      <td>...</td>\n",
       "      <td>NaN</td>\n",
       "      <td>Оригинал</td>\n",
       "      <td>передний</td>\n",
       "      <td>Левый</td>\n",
       "      <td>Не требует ремонта</td>\n",
       "      <td>Растаможен</td>\n",
       "      <td>0.0</td>\n",
       "      <td>0.0</td>\n",
       "      <td>0.0</td>\n",
       "      <td>0</td>\n",
       "    </tr>\n",
       "  </tbody>\n",
       "</table>\n",
       "<p>5 rows × 36 columns</p>\n",
       "</div>"
      ],
      "text/plain": [
       "  bodyType  brand                                            car_url  \\\n",
       "0  лифтбек  SKODA  https://auto.ru/cars/used/sale/skoda/octavia/1...   \n",
       "1  лифтбек  SKODA  https://auto.ru/cars/used/sale/skoda/octavia/1...   \n",
       "2  лифтбек  SKODA  https://auto.ru/cars/used/sale/skoda/superb/11...   \n",
       "3  лифтбек  SKODA  https://auto.ru/cars/used/sale/skoda/octavia/1...   \n",
       "4  лифтбек  SKODA  https://auto.ru/cars/used/sale/skoda/octavia/1...   \n",
       "\n",
       "        color                                 complectation_dict  \\\n",
       "0       синий                                                NaN   \n",
       "1      чёрный                                                NaN   \n",
       "2       серый  {\"id\":\"20026336\",\"name\":\"Ambition\",\"available_...   \n",
       "3  коричневый  {\"id\":\"20803582\",\"name\":\"Ambition\",\"available_...   \n",
       "4       белый                                                NaN   \n",
       "\n",
       "                                         description engineDisplacement  \\\n",
       "0  Все автомобили, представленные в продаже, прох...            1.2 LTR   \n",
       "1  ЛОТ: 01217195\\nАвтопрага Север\\nДанный автомоб...            1.6 LTR   \n",
       "2  Все автомобили, представленные в продаже, прох...            1.8 LTR   \n",
       "3  КОМПЛЕКТ ЗИМНЕЙ (ЛЕТНЕЙ) РЕЗИНЫ ПО СЕЗОНУ В ПО...            1.6 LTR   \n",
       "4  ЛОТ: 01220889\\nАвтопрага Север\\n\\nВы можете по...            1.8 LTR   \n",
       "\n",
       "  enginePower                                     equipment_dict fuelType  \\\n",
       "0     105 N12  {\"engine-proof\":true,\"tinted-glass\":true,\"airb...   бензин   \n",
       "1     110 N12  {\"cruise-control\":true,\"asr\":true,\"esp\":true,\"...   бензин   \n",
       "2     152 N12  {\"cruise-control\":true,\"tinted-glass\":true,\"es...   бензин   \n",
       "3     110 N12  {\"cruise-control\":true,\"roller-blind-for-rear-...   бензин   \n",
       "4     152 N12  {\"cruise-control\":true,\"asr\":true,\"esp\":true,\"...   бензин   \n",
       "\n",
       "   ... Владение       ПТС    Привод   Руль           Состояние     Таможня  \\\n",
       "0  ...      NaN  Оригинал  передний  Левый  Не требует ремонта  Растаможен   \n",
       "1  ...      NaN  Оригинал  передний  Левый  Не требует ремонта  Растаможен   \n",
       "2  ...      NaN  Оригинал  передний  Левый  Не требует ремонта  Растаможен   \n",
       "3  ...      NaN  Оригинал  передний  Левый  Не требует ремонта  Растаможен   \n",
       "4  ...      NaN  Оригинал  передний  Левый  Не требует ремонта  Растаможен   \n",
       "\n",
       "   Price  Taxes Views  train  \n",
       "0    0.0    0.0   0.0      0  \n",
       "1    0.0    0.0   0.0      0  \n",
       "2    0.0    0.0   0.0      0  \n",
       "3    0.0    0.0   0.0      0  \n",
       "4    0.0    0.0   0.0      0  \n",
       "\n",
       "[5 rows x 36 columns]"
      ]
     },
     "execution_count": 28,
     "metadata": {},
     "output_type": "execute_result"
    }
   ],
   "source": [
    "df = pd.concat([test, train], join='inner', ignore_index=True)\n",
    "df.head()"
   ]
  },
  {
   "cell_type": "markdown",
   "metadata": {},
   "source": [
    "### Cleaning merged data"
   ]
  },
  {
   "cell_type": "code",
   "execution_count": 29,
   "metadata": {},
   "outputs": [],
   "source": [
    "# rename columns\n",
    "df = df.rename(columns={'Владельцы': 'owners', 'Владение': 'ownership_duration', 'ПТС': 'passport', \n",
    "                        'Привод': 'drive', 'Руль': 'wheel', 'Состояние': 'condition', 'Таможня':'customs'})\n",
    "                            "
   ]
  },
  {
   "cell_type": "code",
   "execution_count": 30,
   "metadata": {},
   "outputs": [
    {
     "data": {
      "text/plain": [
       "Index(['bodyType', 'brand', 'car_url', 'color', 'complectation_dict',\n",
       "       'description', 'engineDisplacement', 'enginePower', 'equipment_dict',\n",
       "       'fuelType', 'image', 'mileage', 'modelDate', 'model_info', 'model_name',\n",
       "       'name', 'numberOfDoors', 'parsing_unixtime', 'priceCurrency',\n",
       "       'productionDate', 'sell_id', 'super_gen', 'vehicleConfiguration',\n",
       "       'vehicleTransmission', 'vendor', 'owners', 'ownership_duration',\n",
       "       'passport', 'drive', 'wheel', 'condition', 'customs', 'Price', 'Taxes',\n",
       "       'Views', 'train'],\n",
       "      dtype='object')"
      ]
     },
     "execution_count": 30,
     "metadata": {},
     "output_type": "execute_result"
    }
   ],
   "source": [
    "df.columns"
   ]
  },
  {
   "cell_type": "code",
   "execution_count": 31,
   "metadata": {},
   "outputs": [],
   "source": [
    "cols_to_drop = []"
   ]
  },
  {
   "cell_type": "markdown",
   "metadata": {},
   "source": [
    "- <b>bodytype<b>\n"
   ]
  },
  {
   "cell_type": "code",
   "execution_count": 32,
   "metadata": {},
   "outputs": [
    {
     "data": {
      "text/plain": [
       "array(['лифтбек', 'внедорожник 5 дв.', 'хэтчбек 5 дв.', 'седан',\n",
       "       'компактвэн', 'универсал 5 дв.', 'пикап одинарная кабина',\n",
       "       'хэтчбек 3 дв.', 'купе', 'кабриолет', 'минивэн',\n",
       "       'пикап двойная кабина', 'внедорожник 3 дв.', 'родстер', 'микровэн',\n",
       "       'седан 2 дв.', 'купе-хардтоп', 'фастбек', 'тарга',\n",
       "       'внедорожник открытый', 'лимузин', 'пикап полуторная кабина',\n",
       "       'седан-хардтоп', 'фургон'], dtype=object)"
      ]
     },
     "execution_count": 32,
     "metadata": {},
     "output_type": "execute_result"
    }
   ],
   "source": [
    "df['bodyType'].unique()\n"
   ]
  },
  {
   "cell_type": "code",
   "execution_count": 33,
   "metadata": {},
   "outputs": [],
   "source": [
    "df.bodyType = df.bodyType.apply(lambda x: x.strip().split()[0] if isinstance(x, str) else x)"
   ]
  },
  {
   "cell_type": "code",
   "execution_count": 34,
   "metadata": {},
   "outputs": [
    {
     "data": {
      "text/plain": [
       "array(['лифтбек', 'внедорожник', 'хэтчбек', 'седан', 'компактвэн',\n",
       "       'универсал', 'пикап', 'купе', 'кабриолет', 'минивэн', 'родстер',\n",
       "       'микровэн', 'купе-хардтоп', 'фастбек', 'тарга', 'лимузин',\n",
       "       'седан-хардтоп', 'фургон'], dtype=object)"
      ]
     },
     "execution_count": 34,
     "metadata": {},
     "output_type": "execute_result"
    }
   ],
   "source": [
    "df.bodyType.unique()"
   ]
  },
  {
   "cell_type": "markdown",
   "metadata": {},
   "source": [
    "- <b>color<b>"
   ]
  },
  {
   "cell_type": "code",
   "execution_count": 35,
   "metadata": {},
   "outputs": [
    {
     "data": {
      "text/plain": [
       "array(['синий', 'чёрный', 'серый', 'коричневый', 'белый', 'пурпурный',\n",
       "       'бежевый', 'серебристый', 'красный', 'зелёный', 'жёлтый',\n",
       "       'голубой', 'оранжевый', 'фиолетовый', 'золотистый', 'розовый'],\n",
       "      dtype=object)"
      ]
     },
     "execution_count": 35,
     "metadata": {},
     "output_type": "execute_result"
    }
   ],
   "source": [
    "df['color'].unique()"
   ]
  },
  {
   "cell_type": "markdown",
   "metadata": {},
   "source": [
    "- <b>description<b>"
   ]
  },
  {
   "cell_type": "code",
   "execution_count": 36,
   "metadata": {},
   "outputs": [],
   "source": [
    "df['description'] = df['description'].fillna('no info')"
   ]
  },
  {
   "cell_type": "code",
   "execution_count": 37,
   "metadata": {},
   "outputs": [],
   "source": [
    "df['descr_words_count'] = df.description.apply(lambda x: len(x.split()) if isinstance(x, str) else 0)\n",
    "df['descr_words_count'].replace([np.inf, -np.inf], 0, inplace=True)"
   ]
  },
  {
   "cell_type": "code",
   "execution_count": 38,
   "metadata": {},
   "outputs": [],
   "source": [
    "cols_to_drop.append('description')"
   ]
  },
  {
   "cell_type": "markdown",
   "metadata": {},
   "source": [
    "- <b>fuelType<b>"
   ]
  },
  {
   "cell_type": "code",
   "execution_count": 39,
   "metadata": {},
   "outputs": [
    {
     "data": {
      "text/plain": [
       "бензин                             28601\n",
       "Бензин                             17755\n",
       "Дизель                              7681\n",
       "дизель                              5800\n",
       "Гибрид                               701\n",
       "гибрид                               223\n",
       "Бензингазобаллонноеоборудование      176\n",
       "Электро                               95\n",
       "Газ                                   76\n",
       "Дизельгазобаллонноеоборудование       57\n",
       "электро                               55\n",
       "газ                                    7\n",
       "Газгазобаллонноеоборудование           2\n",
       "Гибридгазобаллонноеоборудование        2\n",
       "Name: fuelType, dtype: int64"
      ]
     },
     "execution_count": 39,
     "metadata": {},
     "output_type": "execute_result"
    }
   ],
   "source": [
    "df['fuelType'].value_counts()"
   ]
  },
  {
   "cell_type": "code",
   "execution_count": 40,
   "metadata": {},
   "outputs": [],
   "source": [
    "df['fuelType'] = df['fuelType'].apply(lambda x: x.lower().strip())"
   ]
  },
  {
   "cell_type": "code",
   "execution_count": 41,
   "metadata": {},
   "outputs": [],
   "source": [
    "df['fuelType'] = df['fuelType'].replace({'газгазобаллонноеоборудование':'газ'})"
   ]
  },
  {
   "cell_type": "code",
   "execution_count": 42,
   "metadata": {},
   "outputs": [
    {
     "data": {
      "text/plain": [
       "бензин                             46356\n",
       "дизель                             13481\n",
       "гибрид                               924\n",
       "бензингазобаллонноеоборудование      176\n",
       "электро                              150\n",
       "газ                                   85\n",
       "дизельгазобаллонноеоборудование       57\n",
       "гибридгазобаллонноеоборудование        2\n",
       "Name: fuelType, dtype: int64"
      ]
     },
     "execution_count": 42,
     "metadata": {},
     "output_type": "execute_result"
    }
   ],
   "source": [
    "df['fuelType'].value_counts()"
   ]
  },
  {
   "cell_type": "markdown",
   "metadata": {},
   "source": [
    "- <b>engineDisplacement<b>"
   ]
  },
  {
   "cell_type": "code",
   "execution_count": 43,
   "metadata": {},
   "outputs": [
    {
     "data": {
      "text/plain": [
       "array(['1.2 LTR', '1.6 LTR', '1.8 LTR', '2.0 LTR', '1.4 LTR', '1.3 LTR',\n",
       "       '1.0 LTR', '3.6 LTR', '1.5 LTR', '1.9 LTR', '2.8 LTR', '1.1 LTR',\n",
       "       '2.5 LTR', '4.2 LTR', '3.0 LTR', '4.0 LTR', '5.9 LTR', '2.7 LTR',\n",
       "       '3.1 LTR', '2.4 LTR', '5.2 LTR', '3.2 LTR', '4.1 LTR', '6.3 LTR',\n",
       "       '2.3 LTR', '6.0 LTR', '2.2 LTR', '3.7 LTR', '2.9 LTR', '5.0 LTR',\n",
       "       '3.3 LTR', '2.1 LTR', '2.6 LTR', ' LTR', '3.5 LTR', '1.7 LTR',\n",
       "       '0.7 LTR', '4.4 LTR', '4.8 LTR', '5.4 LTR', '6.6 LTR', '4.9 LTR',\n",
       "       '3.8 LTR', '3.4 LTR', '3.9 LTR', '4.6 LTR', '5.6 LTR', '4.5 LTR',\n",
       "       '5.5 LTR', '6.2 LTR', '4.7 LTR', '4.3 LTR', '5.8 LTR', '5.3 LTR',\n",
       "       '5.7 LTR', '1.6', '1.9', '1.4', '2.0', '1.2', '1.8', '1.0', '1.5',\n",
       "       '1.3', '3.6', '2.5', '2.8', '2.3', '2.7', '2.4', '4.2', '4.0',\n",
       "       '3.0', '4.1', '2.2', '3.1', '3.2', '2.9', '646..', '2.6', '6.0',\n",
       "       '503..', '5.9', '6.3', '408..', '313..', '3.9', '5.0', '5.2',\n",
       "       '299..', '2.1', '3.3', '3.7', '1.7', '3.5', '0.7', '4.4', '4.6',\n",
       "       '5.4', '523..', '184..', '6.6', '326..', '170..', '4.8', '3.4',\n",
       "       '4.9', '5.6', '109..', '150..', '218..', '3.8', '4.5', '4.7',\n",
       "       '5.5', '6.2', '4.3', '204..', '333..', '5.8', '114..', '524..',\n",
       "       '5.7', '154..', '115..', '74..', '113..', '1.1', '67..'],\n",
       "      dtype=object)"
      ]
     },
     "execution_count": 43,
     "metadata": {},
     "output_type": "execute_result"
    }
   ],
   "source": [
    "df['engineDisplacement'].unique()"
   ]
  },
  {
   "cell_type": "markdown",
   "metadata": {},
   "source": [
    "When an auto is electric the website shows information of engineDisplacement and enginePower other way around, so I will firstly reassign the values of these 2 columns only for electro cars. Additionally I will set the values of engineDisplacement for electro cars to 0 and add a separate column power_kvt."
   ]
  },
  {
   "cell_type": "code",
   "execution_count": 44,
   "metadata": {},
   "outputs": [],
   "source": [
    "df.loc[df['fuelType'] == 'электро', 'engineDisplacement'] = 0"
   ]
  },
  {
   "cell_type": "code",
   "execution_count": 45,
   "metadata": {},
   "outputs": [],
   "source": [
    "# create new column power_kvt\n",
    "df['power_kvt'] = 0"
   ]
  },
  {
   "cell_type": "code",
   "execution_count": 46,
   "metadata": {},
   "outputs": [],
   "source": [
    "for idx, row in df.iterrows():\n",
    "    if row['fuelType'] == 'электро':\n",
    "        df.loc[idx, 'enginePower'] = ast.literal_eval(row.super_gen)['power']\n",
    "        df.loc[idx, 'power_kvt'] = ast.literal_eval(row.super_gen)['power_kvt'] # for electro cars only\n",
    "    "
   ]
  },
  {
   "cell_type": "code",
   "execution_count": 47,
   "metadata": {},
   "outputs": [
    {
     "data": {
      "text/plain": [
       "array(['1.2 LTR', '1.6 LTR', '1.8 LTR', '2.0 LTR', '1.4 LTR', '1.3 LTR',\n",
       "       '1.0 LTR', '3.6 LTR', '1.5 LTR', '1.9 LTR', '2.8 LTR', '1.1 LTR',\n",
       "       '2.5 LTR', '4.2 LTR', '3.0 LTR', '4.0 LTR', '5.9 LTR', '2.7 LTR',\n",
       "       '3.1 LTR', '2.4 LTR', '5.2 LTR', '3.2 LTR', '4.1 LTR', '6.3 LTR',\n",
       "       '2.3 LTR', '6.0 LTR', '2.2 LTR', '3.7 LTR', '2.9 LTR', '5.0 LTR',\n",
       "       '3.3 LTR', '2.1 LTR', '2.6 LTR', 0, '3.5 LTR', '1.7 LTR',\n",
       "       '0.7 LTR', '4.4 LTR', '4.8 LTR', '5.4 LTR', '6.6 LTR', '4.9 LTR',\n",
       "       '3.8 LTR', '3.4 LTR', '3.9 LTR', '4.6 LTR', '5.6 LTR', '4.5 LTR',\n",
       "       '5.5 LTR', '6.2 LTR', '4.7 LTR', '4.3 LTR', '5.8 LTR', '5.3 LTR',\n",
       "       '5.7 LTR', '1.6', '1.9', '1.4', '2.0', '1.2', '1.8', '1.0', '1.5',\n",
       "       '1.3', '3.6', '2.5', '2.8', '2.3', '2.7', '2.4', '4.2', '4.0',\n",
       "       '3.0', '4.1', '2.2', '3.1', '3.2', '2.9', '2.6', '6.0', '5.9',\n",
       "       '6.3', '3.9', '5.0', '5.2', '2.1', '3.3', '3.7', '1.7', '3.5',\n",
       "       '0.7', '4.4', '4.6', '5.4', '6.6', '4.8', '3.4', '4.9', '5.6',\n",
       "       '3.8', '4.5', '4.7', '5.5', '6.2', '4.3', '5.8', '5.7', '1.1'],\n",
       "      dtype=object)"
      ]
     },
     "execution_count": 47,
     "metadata": {},
     "output_type": "execute_result"
    }
   ],
   "source": [
    "df['engineDisplacement'].unique()"
   ]
  },
  {
   "cell_type": "code",
   "execution_count": 48,
   "metadata": {},
   "outputs": [],
   "source": [
    " df['engineDisplacement'] = df['engineDisplacement'].apply(lambda x: str(x).replace('LTR', '').strip())"
   ]
  },
  {
   "cell_type": "code",
   "execution_count": 49,
   "metadata": {},
   "outputs": [],
   "source": [
    "df['engineDisplacement'] =  df['engineDisplacement'].astype(float)"
   ]
  },
  {
   "cell_type": "markdown",
   "metadata": {},
   "source": [
    "- <b>enginePower<b>"
   ]
  },
  {
   "cell_type": "code",
   "execution_count": 50,
   "metadata": {},
   "outputs": [],
   "source": [
    "df['enginePower'] = df['enginePower'].apply(lambda x: str(x).replace('N12', '').strip())"
   ]
  },
  {
   "cell_type": "code",
   "execution_count": 51,
   "metadata": {},
   "outputs": [],
   "source": [
    "df['enginePower'] =  df['enginePower'].astype(float)"
   ]
  },
  {
   "cell_type": "markdown",
   "metadata": {},
   "source": [
    "- <b>image<b>"
   ]
  },
  {
   "cell_type": "code",
   "execution_count": 52,
   "metadata": {},
   "outputs": [],
   "source": [
    "cols_to_drop.append('image')"
   ]
  },
  {
   "cell_type": "markdown",
   "metadata": {},
   "source": [
    "- <b>model_info<b>"
   ]
  },
  {
   "cell_type": "code",
   "execution_count": 53,
   "metadata": {},
   "outputs": [],
   "source": [
    "cols_to_drop.append('model_info')"
   ]
  },
  {
   "cell_type": "markdown",
   "metadata": {},
   "source": [
    "- <b>name<b>"
   ]
  },
  {
   "cell_type": "code",
   "execution_count": 54,
   "metadata": {},
   "outputs": [],
   "source": [
    "cols_to_drop.append('name')"
   ]
  },
  {
   "cell_type": "markdown",
   "metadata": {},
   "source": [
    "- <b>numberOfDoors<b>"
   ]
  },
  {
   "cell_type": "code",
   "execution_count": 55,
   "metadata": {},
   "outputs": [
    {
     "data": {
      "text/plain": [
       "array([5, 4, 2, 3, 0])"
      ]
     },
     "execution_count": 55,
     "metadata": {},
     "output_type": "execute_result"
    }
   ],
   "source": [
    "df['numberOfDoors'].unique()"
   ]
  },
  {
   "cell_type": "code",
   "execution_count": 56,
   "metadata": {},
   "outputs": [
    {
     "data": {
      "text/html": [
       "<div>\n",
       "<style scoped>\n",
       "    .dataframe tbody tr th:only-of-type {\n",
       "        vertical-align: middle;\n",
       "    }\n",
       "\n",
       "    .dataframe tbody tr th {\n",
       "        vertical-align: top;\n",
       "    }\n",
       "\n",
       "    .dataframe thead th {\n",
       "        text-align: right;\n",
       "    }\n",
       "</style>\n",
       "<table border=\"1\" class=\"dataframe\">\n",
       "  <thead>\n",
       "    <tr style=\"text-align: right;\">\n",
       "      <th></th>\n",
       "      <th>bodyType</th>\n",
       "      <th>brand</th>\n",
       "      <th>car_url</th>\n",
       "      <th>color</th>\n",
       "      <th>complectation_dict</th>\n",
       "      <th>description</th>\n",
       "      <th>engineDisplacement</th>\n",
       "      <th>enginePower</th>\n",
       "      <th>equipment_dict</th>\n",
       "      <th>fuelType</th>\n",
       "      <th>...</th>\n",
       "      <th>drive</th>\n",
       "      <th>wheel</th>\n",
       "      <th>condition</th>\n",
       "      <th>customs</th>\n",
       "      <th>Price</th>\n",
       "      <th>Taxes</th>\n",
       "      <th>Views</th>\n",
       "      <th>train</th>\n",
       "      <th>descr_words_count</th>\n",
       "      <th>power_kvt</th>\n",
       "    </tr>\n",
       "  </thead>\n",
       "  <tbody>\n",
       "    <tr>\n",
       "      <th>16944</th>\n",
       "      <td>кабриолет</td>\n",
       "      <td>MERCEDES</td>\n",
       "      <td>https://auto.ru/cars/used/sale/mercedes/simple...</td>\n",
       "      <td>белый</td>\n",
       "      <td>NaN</td>\n",
       "      <td>на ходу. 1904 год. стоит в гараже, пылится.Кат...</td>\n",
       "      <td>5.3</td>\n",
       "      <td>32.0</td>\n",
       "      <td>NaN</td>\n",
       "      <td>бензин</td>\n",
       "      <td>...</td>\n",
       "      <td>задний</td>\n",
       "      <td>Правый</td>\n",
       "      <td>Не требует ремонта</td>\n",
       "      <td>Растаможен</td>\n",
       "      <td>0.0</td>\n",
       "      <td>0.0</td>\n",
       "      <td>0.0</td>\n",
       "      <td>0</td>\n",
       "      <td>108</td>\n",
       "      <td>0</td>\n",
       "    </tr>\n",
       "  </tbody>\n",
       "</table>\n",
       "<p>1 rows × 38 columns</p>\n",
       "</div>"
      ],
      "text/plain": [
       "        bodyType     brand                                            car_url  \\\n",
       "16944  кабриолет  MERCEDES  https://auto.ru/cars/used/sale/mercedes/simple...   \n",
       "\n",
       "       color complectation_dict  \\\n",
       "16944  белый                NaN   \n",
       "\n",
       "                                             description  engineDisplacement  \\\n",
       "16944  на ходу. 1904 год. стоит в гараже, пылится.Кат...                 5.3   \n",
       "\n",
       "       enginePower equipment_dict fuelType  ...   drive   wheel  \\\n",
       "16944         32.0            NaN   бензин  ...  задний  Правый   \n",
       "\n",
       "                condition     customs Price Taxes  Views  train  \\\n",
       "16944  Не требует ремонта  Растаможен   0.0   0.0    0.0      0   \n",
       "\n",
       "      descr_words_count  power_kvt  \n",
       "16944               108          0  \n",
       "\n",
       "[1 rows x 38 columns]"
      ]
     },
     "execution_count": 56,
     "metadata": {},
     "output_type": "execute_result"
    }
   ],
   "source": [
    "df[df['numberOfDoors']==0]"
   ]
  },
  {
   "cell_type": "markdown",
   "metadata": {},
   "source": [
    "- <b>parsing_unixtime<b>"
   ]
  },
  {
   "cell_type": "markdown",
   "metadata": {},
   "source": [
    "Make time human-readable"
   ]
  },
  {
   "cell_type": "code",
   "execution_count": 57,
   "metadata": {},
   "outputs": [],
   "source": [
    "df['date'] = df['parsing_unixtime'].apply(lambda x: datetime.utcfromtimestamp(x).strftime('%Y-%m-%d'))\n",
    "# train['parsing_unixtime'] = int(datetime.strptime('09/09/2020', '%d/%m/%Y').strftime(\"%s\"))"
   ]
  },
  {
   "cell_type": "code",
   "execution_count": 58,
   "metadata": {},
   "outputs": [],
   "source": [
    "cols_to_drop.append('parsing_unixtime')"
   ]
  },
  {
   "cell_type": "markdown",
   "metadata": {},
   "source": [
    "- <b>priceCurrency<b>"
   ]
  },
  {
   "cell_type": "code",
   "execution_count": 59,
   "metadata": {},
   "outputs": [
    {
     "data": {
      "text/plain": [
       "array(['RUB', 'RUR'], dtype=object)"
      ]
     },
     "execution_count": 59,
     "metadata": {},
     "output_type": "execute_result"
    }
   ],
   "source": [
    "df['priceCurrency'].unique()"
   ]
  },
  {
   "cell_type": "code",
   "execution_count": 60,
   "metadata": {},
   "outputs": [],
   "source": [
    "cols_to_drop.append('priceCurrency')"
   ]
  },
  {
   "cell_type": "markdown",
   "metadata": {},
   "source": [
    "- <b>productionDate<b>"
   ]
  },
  {
   "cell_type": "code",
   "execution_count": 61,
   "metadata": {},
   "outputs": [
    {
     "data": {
      "text/plain": [
       "array([2014, 2017, 2012, 2011, 2019, 2018, 2010, 2020, 2016, 2013, 2006,\n",
       "       2007, 2015, 2005, 2008, 2009, 1997, 2004, 2002, 1987, 2003, 2001,\n",
       "       1976, 2000, 1998, 1995, 1999, 1993, 1939, 1996, 1984, 1990, 1991,\n",
       "       1992, 1989, 1982, 1985, 1994, 1938, 1981, 1988, 1983, 1980, 1986,\n",
       "       1978, 1970, 1979, 1977, 1972, 1975, 1969, 1950, 1953, 1949, 1937,\n",
       "       1959, 1968, 1936, 1904, 1974, 1967, 1961, 1960, 1965, 1963, 1957,\n",
       "       1952, 1973, 1948, 2021])"
      ]
     },
     "execution_count": 61,
     "metadata": {},
     "output_type": "execute_result"
    }
   ],
   "source": [
    "df['productionDate'].unique()"
   ]
  },
  {
   "cell_type": "markdown",
   "metadata": {},
   "source": [
    "- <b>sell_id<b>"
   ]
  },
  {
   "cell_type": "code",
   "execution_count": 62,
   "metadata": {},
   "outputs": [],
   "source": [
    "cols_to_drop.append('sell_id')"
   ]
  },
  {
   "cell_type": "markdown",
   "metadata": {},
   "source": [
    "- <b>vehicleConfiguration<b>"
   ]
  },
  {
   "cell_type": "code",
   "execution_count": 63,
   "metadata": {},
   "outputs": [
    {
     "data": {
      "text/plain": [
       "0             LIFTBACK ROBOT 1.2\n",
       "1        LIFTBACK MECHANICAL 1.6\n",
       "2             LIFTBACK ROBOT 1.8\n",
       "3         LIFTBACK AUTOMATIC 1.6\n",
       "4         LIFTBACK AUTOMATIC 1.8\n",
       "                  ...           \n",
       "61226                 PICKUP_TWO\n",
       "61227                 PICKUP_TWO\n",
       "61228                      SEDAN\n",
       "61229                      SEDAN\n",
       "61230            ALLROAD_5_DOORS\n",
       "Name: vehicleConfiguration, Length: 61231, dtype: object"
      ]
     },
     "execution_count": 63,
     "metadata": {},
     "output_type": "execute_result"
    }
   ],
   "source": [
    "df['vehicleConfiguration']"
   ]
  },
  {
   "cell_type": "code",
   "execution_count": 64,
   "metadata": {},
   "outputs": [],
   "source": [
    "cols_to_drop.append('vehicleConfiguration')\n"
   ]
  },
  {
   "cell_type": "markdown",
   "metadata": {},
   "source": [
    "- <b>vehicleTransmission<b>"
   ]
  },
  {
   "cell_type": "code",
   "execution_count": 65,
   "metadata": {},
   "outputs": [
    {
     "data": {
      "text/plain": [
       "array(['роботизированная', 'механическая', 'автоматическая', 'вариатор',\n",
       "       'MECHANICAL', 'ROBOT', 'AUTOMATIC', 'VARIATOR'], dtype=object)"
      ]
     },
     "execution_count": 65,
     "metadata": {},
     "output_type": "execute_result"
    }
   ],
   "source": [
    "df['vehicleTransmission'].unique()"
   ]
  },
  {
   "cell_type": "code",
   "execution_count": 66,
   "metadata": {},
   "outputs": [],
   "source": [
    "df['vehicleTransmission'] = df['vehicleTransmission'].replace({'роботизированная':'ROBOT', \n",
    "                                                               'механическая':'MECHANICAL', \n",
    "                                                               'автоматическая':'AUTOMATIC', \n",
    "                                                               'вариатор': 'VARIATOR'})"
   ]
  },
  {
   "cell_type": "markdown",
   "metadata": {},
   "source": [
    "- <b>'vendor'<b>"
   ]
  },
  {
   "cell_type": "code",
   "execution_count": 67,
   "metadata": {},
   "outputs": [
    {
     "data": {
      "text/plain": [
       "array(['EUROPEAN', 'JAPANESE', 'AMERICAN'], dtype=object)"
      ]
     },
     "execution_count": 67,
     "metadata": {},
     "output_type": "execute_result"
    }
   ],
   "source": [
    "df['vendor'].unique()"
   ]
  },
  {
   "cell_type": "markdown",
   "metadata": {},
   "source": [
    "- <b>'owners'<b>"
   ]
  },
  {
   "cell_type": "code",
   "execution_count": 68,
   "metadata": {},
   "outputs": [
    {
     "data": {
      "text/plain": [
       "array(['3 или более', '1\\xa0владелец', '2\\xa0владельца', '2 владельца',\n",
       "       '1 владелец', nan], dtype=object)"
      ]
     },
     "execution_count": 68,
     "metadata": {},
     "output_type": "execute_result"
    }
   ],
   "source": [
    "df['owners'].unique()"
   ]
  },
  {
   "cell_type": "code",
   "execution_count": 69,
   "metadata": {},
   "outputs": [],
   "source": [
    "df['owners'] = df['owners'].replace({'1\\xa0владелец': 1, '1 владелец': 1,\n",
    "                                    '2\\xa0владельца':2, '2 владельца':2,\n",
    "                                    '3 или более':3})"
   ]
  },
  {
   "cell_type": "code",
   "execution_count": 70,
   "metadata": {},
   "outputs": [],
   "source": [
    "df = df.drop(df[df['owners'].isna()].index)"
   ]
  },
  {
   "cell_type": "markdown",
   "metadata": {},
   "source": [
    "- <b>'ownership_duration'<b>"
   ]
  },
  {
   "cell_type": "code",
   "execution_count": 71,
   "metadata": {},
   "outputs": [
    {
     "data": {
      "text/plain": [
       "40691"
      ]
     },
     "execution_count": 71,
     "metadata": {},
     "output_type": "execute_result"
    }
   ],
   "source": [
    "df['ownership_duration'].isna().sum()"
   ]
  },
  {
   "cell_type": "code",
   "execution_count": 72,
   "metadata": {},
   "outputs": [],
   "source": [
    "cols_to_drop.append('ownership_duration')"
   ]
  },
  {
   "cell_type": "markdown",
   "metadata": {},
   "source": [
    "- <b>'passport'<b>"
   ]
  },
  {
   "cell_type": "code",
   "execution_count": 73,
   "metadata": {},
   "outputs": [
    {
     "data": {
      "text/plain": [
       "Оригинал    53092\n",
       "Дубликат     8137\n",
       "NaN             1\n",
       "Name: passport, dtype: int64"
      ]
     },
     "execution_count": 73,
     "metadata": {},
     "output_type": "execute_result"
    }
   ],
   "source": [
    "df['passport'].value_counts(dropna=False)"
   ]
  },
  {
   "cell_type": "code",
   "execution_count": 74,
   "metadata": {},
   "outputs": [],
   "source": [
    "df['passport'] = df['passport'].replace({'Оригинал': 'original', 'Дубликат': 'duplicate'})"
   ]
  },
  {
   "cell_type": "code",
   "execution_count": 75,
   "metadata": {},
   "outputs": [
    {
     "data": {
      "text/plain": [
       "array(['Сделано большое Т.О. Фильтра масляный, воздушный, салонный, топливный.Масло MOTUL 5W40, замена каждые 7000 км. Заменено масло в АКПП, заменен полностью антифриз. Кондиционер заправлен. Стоит новый радиатор охлаждения, новые приводные ремни, новая помпа. Осенью заменены маслосъемные колпачки, перебран VANOS в бмв-сторе. Стоит новая оригинальная ДИСА. По ходовой-стоят новые передние рычаги,новый насос ГУР, стойки стабилизатора, новые задние амортизаторы вместе с опорами, заменены задние плавающие сайлентблоки. Тормозные диски ATE POWER DISC. Стоит глушитель SUPERSPRINT очень приятный выхлоп. Установлен Dynavin + задняя камера(очень удобно). Стоит штатный ксенон с фароомывателем и автоматическим корректором фар. Стоит сигнализация с автозапуском.Двигатель и коробка без нареканий, расход масла 0. Есть комплект зимних колес и ещё один комплет ковриков с высоким бортом(для зимы.)'],\n",
       "      dtype=object)"
      ]
     },
     "execution_count": 75,
     "metadata": {},
     "output_type": "execute_result"
    }
   ],
   "source": [
    "df[df['passport'].isna()].description.values"
   ]
  },
  {
   "cell_type": "markdown",
   "metadata": {},
   "source": [
    "Unfortunately there is no information in description about the missing info in passport column"
   ]
  },
  {
   "cell_type": "code",
   "execution_count": 76,
   "metadata": {},
   "outputs": [],
   "source": [
    "df['passport'] = df['passport'].fillna('original')"
   ]
  },
  {
   "cell_type": "markdown",
   "metadata": {},
   "source": [
    "- <b>'drive'<b>"
   ]
  },
  {
   "cell_type": "code",
   "execution_count": 77,
   "metadata": {},
   "outputs": [
    {
     "data": {
      "text/plain": [
       "полный      27211\n",
       "передний    26572\n",
       "задний       7447\n",
       "Name: drive, dtype: int64"
      ]
     },
     "execution_count": 77,
     "metadata": {},
     "output_type": "execute_result"
    }
   ],
   "source": [
    "df['drive'].value_counts(dropna=False)"
   ]
  },
  {
   "cell_type": "code",
   "execution_count": 78,
   "metadata": {},
   "outputs": [],
   "source": [
    "df['drive'] = df['drive'].replace({'полный': 'all', 'передний': 'front', 'задний': 'rear'})"
   ]
  },
  {
   "cell_type": "markdown",
   "metadata": {},
   "source": [
    "- <b>'wheel'<b>"
   ]
  },
  {
   "cell_type": "code",
   "execution_count": 79,
   "metadata": {},
   "outputs": [
    {
     "data": {
      "text/plain": [
       "Левый     58889\n",
       "Правый     2341\n",
       "Name: wheel, dtype: int64"
      ]
     },
     "execution_count": 79,
     "metadata": {},
     "output_type": "execute_result"
    }
   ],
   "source": [
    "df['wheel'].value_counts(dropna=False)\n"
   ]
  },
  {
   "cell_type": "code",
   "execution_count": 80,
   "metadata": {},
   "outputs": [],
   "source": [
    "df['wheel'] = df['wheel'].replace({'Левый': 'left', 'Правый': 'right'})"
   ]
  },
  {
   "cell_type": "markdown",
   "metadata": {},
   "source": [
    "- <b>'condition'<b>"
   ]
  },
  {
   "cell_type": "code",
   "execution_count": 81,
   "metadata": {},
   "outputs": [
    {
     "data": {
      "text/plain": [
       "Не требует ремонта    61230\n",
       "Name: condition, dtype: int64"
      ]
     },
     "execution_count": 81,
     "metadata": {},
     "output_type": "execute_result"
    }
   ],
   "source": [
    "df['condition'].value_counts(dropna=False)"
   ]
  },
  {
   "cell_type": "code",
   "execution_count": 82,
   "metadata": {},
   "outputs": [],
   "source": [
    "cols_to_drop.append('condition')"
   ]
  },
  {
   "cell_type": "markdown",
   "metadata": {},
   "source": [
    "- <b>'customs'<b>"
   ]
  },
  {
   "cell_type": "code",
   "execution_count": 83,
   "metadata": {},
   "outputs": [
    {
     "data": {
      "text/plain": [
       "Растаможен    61230\n",
       "Name: customs, dtype: int64"
      ]
     },
     "execution_count": 83,
     "metadata": {},
     "output_type": "execute_result"
    }
   ],
   "source": [
    "df['customs'].value_counts(dropna=False)"
   ]
  },
  {
   "cell_type": "code",
   "execution_count": 84,
   "metadata": {},
   "outputs": [],
   "source": [
    "cols_to_drop.append('customs')"
   ]
  },
  {
   "cell_type": "markdown",
   "metadata": {},
   "source": [
    "#### all dicts"
   ]
  },
  {
   "cell_type": "markdown",
   "metadata": {},
   "source": [
    "- <b>equipment_dict<b>"
   ]
  },
  {
   "cell_type": "code",
   "execution_count": 85,
   "metadata": {},
   "outputs": [],
   "source": [
    "# extract unique values form equipment_dict and count them\n",
    "list_equipment = {}\n",
    "\n",
    "for row in df[~df['equipment_dict'].isna()]['equipment_dict']:\n",
    "    try:\n",
    "        json_data = ast.literal_eval(row)\n",
    "        if len(json_data)>0:\n",
    "            for key in json_data.keys():\n",
    "                if key not in list_equipment:\n",
    "                    list_equipment[key] = 0\n",
    "                else: \n",
    "                    list_equipment[key] += 1\n",
    "    except:\n",
    "        json_data = json.loads(row)\n",
    "        if len(json_data)>0:\n",
    "            for key in json_data.keys():\n",
    "                if key not in list_equipment:\n",
    "                    list_equipment[key] = 0\n",
    "                else: \n",
    "                    list_equipment[key] += 1"
   ]
  },
  {
   "cell_type": "code",
   "execution_count": 86,
   "metadata": {},
   "outputs": [],
   "source": [
    "# value_counts sorted\n",
    "dict_sorted_equipment = {k: v for k, v in sorted(list_equipment.items(), key=lambda item: item[1])}"
   ]
  },
  {
   "cell_type": "code",
   "execution_count": 87,
   "metadata": {},
   "outputs": [],
   "source": [
    "# leave only equipment that appeared more than 1000 times in data\n",
    "equipment_dict = dict((k, v) for k, v in dict_sorted_equipment.items() if v > 1000)\n"
   ]
  },
  {
   "cell_type": "code",
   "execution_count": 88,
   "metadata": {},
   "outputs": [],
   "source": [
    "# make columns, add 1 if true\n",
    "df_equipment = pd.DataFrame(0, index=df.index, columns=equipment_dict.keys())"
   ]
  },
  {
   "cell_type": "code",
   "execution_count": 89,
   "metadata": {},
   "outputs": [
    {
     "data": {
      "text/html": [
       "<div>\n",
       "<style scoped>\n",
       "    .dataframe tbody tr th:only-of-type {\n",
       "        vertical-align: middle;\n",
       "    }\n",
       "\n",
       "    .dataframe tbody tr th {\n",
       "        vertical-align: top;\n",
       "    }\n",
       "\n",
       "    .dataframe thead th {\n",
       "        text-align: right;\n",
       "    }\n",
       "</style>\n",
       "<table border=\"1\" class=\"dataframe\">\n",
       "  <thead>\n",
       "    <tr style=\"text-align: right;\">\n",
       "      <th></th>\n",
       "      <th>220v-socket</th>\n",
       "      <th>sport-suspension</th>\n",
       "      <th>seats-7</th>\n",
       "      <th>vsm</th>\n",
       "      <th>wireless-charger</th>\n",
       "      <th>body-kit</th>\n",
       "      <th>velvet-seats</th>\n",
       "      <th>projection-display</th>\n",
       "      <th>driver-seat-electric</th>\n",
       "      <th>isofix-front</th>\n",
       "      <th>...</th>\n",
       "      <th>ptf</th>\n",
       "      <th>immo</th>\n",
       "      <th>airbag-passenger</th>\n",
       "      <th>airbag-driver</th>\n",
       "      <th>electro-window-front</th>\n",
       "      <th>front-seats-heat</th>\n",
       "      <th>computer</th>\n",
       "      <th>electro-mirrors</th>\n",
       "      <th>lock</th>\n",
       "      <th>abs</th>\n",
       "    </tr>\n",
       "  </thead>\n",
       "  <tbody>\n",
       "    <tr>\n",
       "      <th>0</th>\n",
       "      <td>0</td>\n",
       "      <td>0</td>\n",
       "      <td>0</td>\n",
       "      <td>0</td>\n",
       "      <td>0</td>\n",
       "      <td>0</td>\n",
       "      <td>0</td>\n",
       "      <td>0</td>\n",
       "      <td>0</td>\n",
       "      <td>0</td>\n",
       "      <td>...</td>\n",
       "      <td>0</td>\n",
       "      <td>0</td>\n",
       "      <td>0</td>\n",
       "      <td>0</td>\n",
       "      <td>0</td>\n",
       "      <td>0</td>\n",
       "      <td>0</td>\n",
       "      <td>0</td>\n",
       "      <td>0</td>\n",
       "      <td>0</td>\n",
       "    </tr>\n",
       "    <tr>\n",
       "      <th>1</th>\n",
       "      <td>0</td>\n",
       "      <td>0</td>\n",
       "      <td>0</td>\n",
       "      <td>0</td>\n",
       "      <td>0</td>\n",
       "      <td>0</td>\n",
       "      <td>0</td>\n",
       "      <td>0</td>\n",
       "      <td>0</td>\n",
       "      <td>0</td>\n",
       "      <td>...</td>\n",
       "      <td>0</td>\n",
       "      <td>0</td>\n",
       "      <td>0</td>\n",
       "      <td>0</td>\n",
       "      <td>0</td>\n",
       "      <td>0</td>\n",
       "      <td>0</td>\n",
       "      <td>0</td>\n",
       "      <td>0</td>\n",
       "      <td>0</td>\n",
       "    </tr>\n",
       "    <tr>\n",
       "      <th>2</th>\n",
       "      <td>0</td>\n",
       "      <td>0</td>\n",
       "      <td>0</td>\n",
       "      <td>0</td>\n",
       "      <td>0</td>\n",
       "      <td>0</td>\n",
       "      <td>0</td>\n",
       "      <td>0</td>\n",
       "      <td>0</td>\n",
       "      <td>0</td>\n",
       "      <td>...</td>\n",
       "      <td>0</td>\n",
       "      <td>0</td>\n",
       "      <td>0</td>\n",
       "      <td>0</td>\n",
       "      <td>0</td>\n",
       "      <td>0</td>\n",
       "      <td>0</td>\n",
       "      <td>0</td>\n",
       "      <td>0</td>\n",
       "      <td>0</td>\n",
       "    </tr>\n",
       "    <tr>\n",
       "      <th>3</th>\n",
       "      <td>0</td>\n",
       "      <td>0</td>\n",
       "      <td>0</td>\n",
       "      <td>0</td>\n",
       "      <td>0</td>\n",
       "      <td>0</td>\n",
       "      <td>0</td>\n",
       "      <td>0</td>\n",
       "      <td>0</td>\n",
       "      <td>0</td>\n",
       "      <td>...</td>\n",
       "      <td>0</td>\n",
       "      <td>0</td>\n",
       "      <td>0</td>\n",
       "      <td>0</td>\n",
       "      <td>0</td>\n",
       "      <td>0</td>\n",
       "      <td>0</td>\n",
       "      <td>0</td>\n",
       "      <td>0</td>\n",
       "      <td>0</td>\n",
       "    </tr>\n",
       "    <tr>\n",
       "      <th>4</th>\n",
       "      <td>0</td>\n",
       "      <td>0</td>\n",
       "      <td>0</td>\n",
       "      <td>0</td>\n",
       "      <td>0</td>\n",
       "      <td>0</td>\n",
       "      <td>0</td>\n",
       "      <td>0</td>\n",
       "      <td>0</td>\n",
       "      <td>0</td>\n",
       "      <td>...</td>\n",
       "      <td>0</td>\n",
       "      <td>0</td>\n",
       "      <td>0</td>\n",
       "      <td>0</td>\n",
       "      <td>0</td>\n",
       "      <td>0</td>\n",
       "      <td>0</td>\n",
       "      <td>0</td>\n",
       "      <td>0</td>\n",
       "      <td>0</td>\n",
       "    </tr>\n",
       "  </tbody>\n",
       "</table>\n",
       "<p>5 rows × 151 columns</p>\n",
       "</div>"
      ],
      "text/plain": [
       "   220v-socket  sport-suspension  seats-7  vsm  wireless-charger  body-kit  \\\n",
       "0            0                 0        0    0                 0         0   \n",
       "1            0                 0        0    0                 0         0   \n",
       "2            0                 0        0    0                 0         0   \n",
       "3            0                 0        0    0                 0         0   \n",
       "4            0                 0        0    0                 0         0   \n",
       "\n",
       "   velvet-seats  projection-display  driver-seat-electric  isofix-front  ...  \\\n",
       "0             0                   0                     0             0  ...   \n",
       "1             0                   0                     0             0  ...   \n",
       "2             0                   0                     0             0  ...   \n",
       "3             0                   0                     0             0  ...   \n",
       "4             0                   0                     0             0  ...   \n",
       "\n",
       "   ptf  immo  airbag-passenger  airbag-driver  electro-window-front  \\\n",
       "0    0     0                 0              0                     0   \n",
       "1    0     0                 0              0                     0   \n",
       "2    0     0                 0              0                     0   \n",
       "3    0     0                 0              0                     0   \n",
       "4    0     0                 0              0                     0   \n",
       "\n",
       "   front-seats-heat  computer  electro-mirrors  lock  abs  \n",
       "0                 0         0                0     0    0  \n",
       "1                 0         0                0     0    0  \n",
       "2                 0         0                0     0    0  \n",
       "3                 0         0                0     0    0  \n",
       "4                 0         0                0     0    0  \n",
       "\n",
       "[5 rows x 151 columns]"
      ]
     },
     "execution_count": 89,
     "metadata": {},
     "output_type": "execute_result"
    }
   ],
   "source": [
    "df_equipment.head(5)"
   ]
  },
  {
   "cell_type": "code",
   "execution_count": 90,
   "metadata": {},
   "outputs": [],
   "source": [
    "for index, car_equip in df.iterrows():\n",
    "    for col in df_equipment.columns:\n",
    "        if car_equip['equipment_dict'] != car_equip['equipment_dict']: # to deal with nans\n",
    "            continue\n",
    "        if col in car_equip['equipment_dict']:\n",
    "            df_equipment.loc[index, col] = 1\n",
    "            "
   ]
  },
  {
   "cell_type": "code",
   "execution_count": 91,
   "metadata": {},
   "outputs": [],
   "source": [
    "# merge df_equipment with df\n",
    "df1 = pd.merge(df, df_equipment, left_index=True, right_index=True)"
   ]
  },
  {
   "cell_type": "code",
   "execution_count": 92,
   "metadata": {},
   "outputs": [
    {
     "data": {
      "text/html": [
       "<div>\n",
       "<style scoped>\n",
       "    .dataframe tbody tr th:only-of-type {\n",
       "        vertical-align: middle;\n",
       "    }\n",
       "\n",
       "    .dataframe tbody tr th {\n",
       "        vertical-align: top;\n",
       "    }\n",
       "\n",
       "    .dataframe thead th {\n",
       "        text-align: right;\n",
       "    }\n",
       "</style>\n",
       "<table border=\"1\" class=\"dataframe\">\n",
       "  <thead>\n",
       "    <tr style=\"text-align: right;\">\n",
       "      <th></th>\n",
       "      <th>bodyType</th>\n",
       "      <th>brand</th>\n",
       "      <th>car_url</th>\n",
       "      <th>color</th>\n",
       "      <th>complectation_dict</th>\n",
       "      <th>description</th>\n",
       "      <th>engineDisplacement</th>\n",
       "      <th>enginePower</th>\n",
       "      <th>equipment_dict</th>\n",
       "      <th>fuelType</th>\n",
       "      <th>...</th>\n",
       "      <th>ptf</th>\n",
       "      <th>immo</th>\n",
       "      <th>airbag-passenger</th>\n",
       "      <th>airbag-driver</th>\n",
       "      <th>electro-window-front</th>\n",
       "      <th>front-seats-heat</th>\n",
       "      <th>computer</th>\n",
       "      <th>electro-mirrors</th>\n",
       "      <th>lock</th>\n",
       "      <th>abs</th>\n",
       "    </tr>\n",
       "  </thead>\n",
       "  <tbody>\n",
       "    <tr>\n",
       "      <th>0</th>\n",
       "      <td>лифтбек</td>\n",
       "      <td>SKODA</td>\n",
       "      <td>https://auto.ru/cars/used/sale/skoda/octavia/1...</td>\n",
       "      <td>синий</td>\n",
       "      <td>NaN</td>\n",
       "      <td>Все автомобили, представленные в продаже, прох...</td>\n",
       "      <td>1.2</td>\n",
       "      <td>105.0</td>\n",
       "      <td>{\"engine-proof\":true,\"tinted-glass\":true,\"airb...</td>\n",
       "      <td>бензин</td>\n",
       "      <td>...</td>\n",
       "      <td>1</td>\n",
       "      <td>0</td>\n",
       "      <td>1</td>\n",
       "      <td>1</td>\n",
       "      <td>1</td>\n",
       "      <td>1</td>\n",
       "      <td>1</td>\n",
       "      <td>1</td>\n",
       "      <td>1</td>\n",
       "      <td>1</td>\n",
       "    </tr>\n",
       "    <tr>\n",
       "      <th>1</th>\n",
       "      <td>лифтбек</td>\n",
       "      <td>SKODA</td>\n",
       "      <td>https://auto.ru/cars/used/sale/skoda/octavia/1...</td>\n",
       "      <td>чёрный</td>\n",
       "      <td>NaN</td>\n",
       "      <td>ЛОТ: 01217195\\nАвтопрага Север\\nДанный автомоб...</td>\n",
       "      <td>1.6</td>\n",
       "      <td>110.0</td>\n",
       "      <td>{\"cruise-control\":true,\"asr\":true,\"esp\":true,\"...</td>\n",
       "      <td>бензин</td>\n",
       "      <td>...</td>\n",
       "      <td>1</td>\n",
       "      <td>1</td>\n",
       "      <td>1</td>\n",
       "      <td>1</td>\n",
       "      <td>0</td>\n",
       "      <td>1</td>\n",
       "      <td>1</td>\n",
       "      <td>1</td>\n",
       "      <td>1</td>\n",
       "      <td>1</td>\n",
       "    </tr>\n",
       "  </tbody>\n",
       "</table>\n",
       "<p>2 rows × 190 columns</p>\n",
       "</div>"
      ],
      "text/plain": [
       "  bodyType  brand                                            car_url   color  \\\n",
       "0  лифтбек  SKODA  https://auto.ru/cars/used/sale/skoda/octavia/1...   синий   \n",
       "1  лифтбек  SKODA  https://auto.ru/cars/used/sale/skoda/octavia/1...  чёрный   \n",
       "\n",
       "  complectation_dict                                        description  \\\n",
       "0                NaN  Все автомобили, представленные в продаже, прох...   \n",
       "1                NaN  ЛОТ: 01217195\\nАвтопрага Север\\nДанный автомоб...   \n",
       "\n",
       "   engineDisplacement  enginePower  \\\n",
       "0                 1.2        105.0   \n",
       "1                 1.6        110.0   \n",
       "\n",
       "                                      equipment_dict fuelType  ... ptf  immo  \\\n",
       "0  {\"engine-proof\":true,\"tinted-glass\":true,\"airb...   бензин  ...   1     0   \n",
       "1  {\"cruise-control\":true,\"asr\":true,\"esp\":true,\"...   бензин  ...   1     1   \n",
       "\n",
       "   airbag-passenger airbag-driver electro-window-front front-seats-heat  \\\n",
       "0                 1             1                    1                1   \n",
       "1                 1             1                    0                1   \n",
       "\n",
       "   computer  electro-mirrors lock  abs  \n",
       "0         1                1    1    1  \n",
       "1         1                1    1    1  \n",
       "\n",
       "[2 rows x 190 columns]"
      ]
     },
     "execution_count": 92,
     "metadata": {},
     "output_type": "execute_result"
    }
   ],
   "source": [
    "df1.head(2)"
   ]
  },
  {
   "cell_type": "code",
   "execution_count": 93,
   "metadata": {},
   "outputs": [],
   "source": [
    "# drop equipment_dict from df\n",
    "cols_to_drop.append('equipment_dict')"
   ]
  },
  {
   "cell_type": "markdown",
   "metadata": {},
   "source": [
    "- <b>super_gen<b>"
   ]
  },
  {
   "cell_type": "code",
   "execution_count": 94,
   "metadata": {},
   "outputs": [],
   "source": [
    "# drop equipment_dict from df\n",
    "cols_to_drop.append('super_gen')"
   ]
  },
  {
   "cell_type": "markdown",
   "metadata": {},
   "source": [
    "- <b>complectation_dict<b>"
   ]
  },
  {
   "cell_type": "code",
   "execution_count": 95,
   "metadata": {},
   "outputs": [],
   "source": [
    "for index, item in df1.iterrows():\n",
    "    if item['complectation_dict'] != item['complectation_dict']:\n",
    "        df1.loc[index, 'complectation'] = 'no_info'\n",
    "    else:\n",
    "        try:\n",
    "            df1.loc[index, 'complectation'] = ast.literal_eval(df1['complectation_dict'][index])['name']\n",
    "        except:\n",
    "            try:\n",
    "                df1.loc[index, 'complectation'] = json.loads(df1['complectation_dict'][index])['name']\n",
    "            except:\n",
    "                df1.loc[index, 'complectation'] = 'no_info'"
   ]
  },
  {
   "cell_type": "code",
   "execution_count": 96,
   "metadata": {},
   "outputs": [],
   "source": [
    "cols_to_drop.append('complectation_dict')"
   ]
  },
  {
   "cell_type": "code",
   "execution_count": 97,
   "metadata": {},
   "outputs": [],
   "source": [
    "cols_to_drop.append('car_url')"
   ]
  },
  {
   "cell_type": "markdown",
   "metadata": {},
   "source": [
    "- <b>Date<b>\n",
    "\n"
   ]
  },
  {
   "cell_type": "code",
   "execution_count": 98,
   "metadata": {},
   "outputs": [],
   "source": [
    "cols_to_drop.append('date')"
   ]
  },
  {
   "cell_type": "code",
   "execution_count": 99,
   "metadata": {},
   "outputs": [],
   "source": [
    "df1['date'] = df1['date'].apply(lambda x: datetime.strptime(x, '%Y-%m-%d').year)"
   ]
  },
  {
   "cell_type": "markdown",
   "metadata": {},
   "source": [
    "Test set was parsed in October 2020, whereas I gathered the train data in January 2022.\n",
    "Firstly, I will adjust the prices. \n",
    "Secondly, I will create a new parameter - age of an auto\n"
   ]
  },
  {
   "cell_type": "markdown",
   "metadata": {},
   "source": [
    "<center><img src=\"price.jpg\" style=\"width: 800px;\"/></center>"
   ]
  },
  {
   "cell_type": "markdown",
   "metadata": {},
   "source": [
    "Compared to 2020, price had increased by 28%"
   ]
  },
  {
   "cell_type": "code",
   "execution_count": 100,
   "metadata": {},
   "outputs": [
    {
     "name": "stderr",
     "output_type": "stream",
     "text": [
      "/home/anara/.local/lib/python3.7/site-packages/ipykernel_launcher.py:1: SettingWithCopyWarning: \n",
      "A value is trying to be set on a copy of a slice from a DataFrame.\n",
      "Try using .loc[row_indexer,col_indexer] = value instead\n",
      "\n",
      "See the caveats in the documentation: https://pandas.pydata.org/pandas-docs/stable/user_guide/indexing.html#returning-a-view-versus-a-copy\n",
      "  \"\"\"Entry point for launching an IPython kernel.\n"
     ]
    }
   ],
   "source": [
    "df1[df1['train']==1]['Price'] = df1[df1['train']==1]['Price'] - 0.28 * df1[df1['train']==1]['Price'] "
   ]
  },
  {
   "cell_type": "code",
   "execution_count": 101,
   "metadata": {},
   "outputs": [],
   "source": [
    "df1['age'] = df1['date'] - df1['productionDate']"
   ]
  },
  {
   "cell_type": "markdown",
   "metadata": {},
   "source": [
    "#### Drop columns "
   ]
  },
  {
   "cell_type": "code",
   "execution_count": 102,
   "metadata": {},
   "outputs": [
    {
     "data": {
      "text/plain": [
       "array(['bodyType', 'brand', 'car_url', 'color', 'complectation_dict',\n",
       "       'description', 'engineDisplacement', 'enginePower',\n",
       "       'equipment_dict', 'fuelType', 'image', 'mileage', 'modelDate',\n",
       "       'model_info', 'model_name', 'name', 'numberOfDoors',\n",
       "       'parsing_unixtime', 'priceCurrency', 'productionDate', 'sell_id',\n",
       "       'super_gen', 'vehicleConfiguration', 'vehicleTransmission',\n",
       "       'vendor', 'owners', 'ownership_duration', 'passport', 'drive',\n",
       "       'wheel', 'condition_x', 'customs', 'Price', 'Taxes', 'Views',\n",
       "       'train', 'descr_words_count', 'power_kvt', 'date', '220v-socket',\n",
       "       'sport-suspension', 'seats-7', 'vsm', 'wireless-charger',\n",
       "       'body-kit', 'velvet-seats', 'projection-display',\n",
       "       'driver-seat-electric', 'isofix-front', 'electro-rear-seat',\n",
       "       'seats-5', 'traffic-sign-recognition',\n",
       "       'entertainment-system-for-rear-seat-passengers',\n",
       "       'driver-seat-support', 'activ-suspension',\n",
       "       'programmed-block-heater', 'power-latching-doors',\n",
       "       '20-inch-wheels', 'easy-trunk-opening', 'android-auto',\n",
       "       'wheel-memory', '15-inch-wheels', 'roller-blind-for-rear-window',\n",
       "       'lane-keeping-assist', 'dha',\n",
       "       'roller-blinds-for-rear-side-windows', 'air-suspension',\n",
       "       'windcleaner-heat', 'sport-pedals', 'turnbuckle', 'blind-spot',\n",
       "       'folding-front-passenger-seat', 'remote-engine-start',\n",
       "       'third-row-seats', 'steel-wheels', '19-inch-wheels',\n",
       "       'feedback-alarm', 'apple-carplay', 'drive-mode-sys', 'auto-cruise',\n",
       "       'reduce-spare-wheel', 'audiopreparation',\n",
       "       'drowsy-driver-alert-system', 'auto-park', '360-camera',\n",
       "       'light-interior', 'combo-interior', 'front-seat-support',\n",
       "       'panorama-roof', 'electronic-gage-panel', 'sport-seats',\n",
       "       'decorative-interior-lighting', 'collision-prevention-assist',\n",
       "       'driver-seat-memory', 'black-roof', 'front-seats-heat-vent',\n",
       "       'glonass', 'voice-recognition', 'multizone-climate-control',\n",
       "       '16-inch-wheels', 'e-adjustment-wheel', 'paint-metallic', 'bas',\n",
       "       '18-inch-wheels', 'seat-memory',\n",
       "       'steering-wheel-gear-shift-paddles', 'condition_y',\n",
       "       'body-mouldings', 'rear-seats-heat', '17-inch-wheels',\n",
       "       'cooling-box', 'high-beam-assist', 'windscreen-heat',\n",
       "       'driver-seat-updown', 'music-super', 'knee-airbag',\n",
       "       'door-sill-panel', 'spare-wheel', 'adaptive-light',\n",
       "       'start-stop-function', 'hatch', 'heated-wash-system', 'led-lights',\n",
       "       'audiosystem-tv', 'electro-trunk', 'volume-sensor',\n",
       "       'airbag-rear-side', 'wheel-heat', 'drl', 'servo', 'rear-camera',\n",
       "       'climate-control-1', 'hcc', 'keyless-entry', 'roof-rails',\n",
       "       'power-child-locks-rear-doors', 'fabric-seats', 'park-assist-f',\n",
       "       'tyre-pressure', 'passenger-seat-updown', 'start-button', 'asr',\n",
       "       'navigation', 'xenon', 'ashtray-and-cigarette-lighter',\n",
       "       'third-rear-headrest', 'climate-control-2',\n",
       "       'passenger-seat-electric', 'engine-proof', 'alarm',\n",
       "       'leather-gear-stick', 'dark-interior',\n",
       "       'automatic-lighting-control', 'airbag-curtain', 'auto-mirrors',\n",
       "       'audiosystem-cd', 'seat-transformation', 'park-assist-r',\n",
       "       'alloy-wheel-disks', 'wheel-configuration2', 'leather', 'isofix',\n",
       "       'tinted-glass', 'light-cleaner', '12v-socket', 'cruise-control',\n",
       "       'wheel-configuration1', 'multi-wheel', 'bluetooth', 'light-sensor',\n",
       "       'front-centre-armrest', 'rain-sensor', 'wheel-power', 'usb',\n",
       "       'wheel-leather', 'aux', 'airbag-side', 'mirrors-heat',\n",
       "       'electro-window-back', 'esp', 'ptf', 'immo', 'airbag-passenger',\n",
       "       'airbag-driver', 'electro-window-front', 'front-seats-heat',\n",
       "       'computer', 'electro-mirrors', 'lock', 'abs', 'complectation',\n",
       "       'age'], dtype=object)"
      ]
     },
     "execution_count": 102,
     "metadata": {},
     "output_type": "execute_result"
    }
   ],
   "source": [
    "df1.columns.values"
   ]
  },
  {
   "cell_type": "code",
   "execution_count": 103,
   "metadata": {},
   "outputs": [],
   "source": [
    "cols_to_drop.append('condition_x')\n",
    "cols_to_drop.remove('condition')"
   ]
  },
  {
   "cell_type": "code",
   "execution_count": 104,
   "metadata": {},
   "outputs": [
    {
     "data": {
      "text/plain": [
       "['description',\n",
       " 'image',\n",
       " 'model_info',\n",
       " 'name',\n",
       " 'parsing_unixtime',\n",
       " 'priceCurrency',\n",
       " 'sell_id',\n",
       " 'vehicleConfiguration',\n",
       " 'ownership_duration',\n",
       " 'customs',\n",
       " 'equipment_dict',\n",
       " 'super_gen',\n",
       " 'complectation_dict',\n",
       " 'car_url',\n",
       " 'date',\n",
       " 'condition_x']"
      ]
     },
     "execution_count": 104,
     "metadata": {},
     "output_type": "execute_result"
    }
   ],
   "source": [
    "cols_to_drop"
   ]
  },
  {
   "cell_type": "code",
   "execution_count": 105,
   "metadata": {},
   "outputs": [],
   "source": [
    "df = df1.drop(columns=cols_to_drop)"
   ]
  },
  {
   "cell_type": "markdown",
   "metadata": {
    "papermill": {
     "duration": 0.033657,
     "end_time": "2020-10-26T12:47:03.29162",
     "exception": false,
     "start_time": "2020-10-26T12:47:03.257963",
     "status": "completed"
    },
    "tags": []
   },
   "source": [
    "## EDA"
   ]
  },
  {
   "cell_type": "code",
   "execution_count": 106,
   "metadata": {},
   "outputs": [],
   "source": [
    "categorical = ['bodyType', 'brand', 'color', 'fuelType', 'model_name', 'vehicleTransmission', 'vendor', \n",
    "               'passport', 'drive', 'wheel', 'complectation']"
   ]
  },
  {
   "cell_type": "code",
   "execution_count": 107,
   "metadata": {
    "papermill": {
     "duration": 0.10809,
     "end_time": "2020-10-26T12:47:03.549533",
     "exception": false,
     "start_time": "2020-10-26T12:47:03.441443",
     "status": "completed"
    },
    "tags": []
   },
   "outputs": [],
   "source": [
    "for colum in categorical:\n",
    "    df[colum] = df[colum].astype('category').cat.codes"
   ]
  },
  {
   "cell_type": "code",
   "execution_count": 108,
   "metadata": {
    "papermill": {
     "duration": 0.06183,
     "end_time": "2020-10-26T12:47:03.646867",
     "exception": false,
     "start_time": "2020-10-26T12:47:03.585037",
     "status": "completed"
    },
    "tags": []
   },
   "outputs": [
    {
     "data": {
      "text/html": [
       "<div>\n",
       "<style scoped>\n",
       "    .dataframe tbody tr th:only-of-type {\n",
       "        vertical-align: middle;\n",
       "    }\n",
       "\n",
       "    .dataframe tbody tr th {\n",
       "        vertical-align: top;\n",
       "    }\n",
       "\n",
       "    .dataframe thead th {\n",
       "        text-align: right;\n",
       "    }\n",
       "</style>\n",
       "<table border=\"1\" class=\"dataframe\">\n",
       "  <thead>\n",
       "    <tr style=\"text-align: right;\">\n",
       "      <th></th>\n",
       "      <th>bodyType</th>\n",
       "      <th>brand</th>\n",
       "      <th>color</th>\n",
       "      <th>engineDisplacement</th>\n",
       "      <th>enginePower</th>\n",
       "      <th>fuelType</th>\n",
       "      <th>mileage</th>\n",
       "      <th>modelDate</th>\n",
       "      <th>model_name</th>\n",
       "      <th>numberOfDoors</th>\n",
       "      <th>...</th>\n",
       "      <th>airbag-passenger</th>\n",
       "      <th>airbag-driver</th>\n",
       "      <th>electro-window-front</th>\n",
       "      <th>front-seats-heat</th>\n",
       "      <th>computer</th>\n",
       "      <th>electro-mirrors</th>\n",
       "      <th>lock</th>\n",
       "      <th>abs</th>\n",
       "      <th>complectation</th>\n",
       "      <th>age</th>\n",
       "    </tr>\n",
       "  </thead>\n",
       "  <tbody>\n",
       "    <tr>\n",
       "      <th>0</th>\n",
       "      <td>6</td>\n",
       "      <td>8</td>\n",
       "      <td>13</td>\n",
       "      <td>1.2</td>\n",
       "      <td>105.0</td>\n",
       "      <td>0</td>\n",
       "      <td>74000</td>\n",
       "      <td>2013</td>\n",
       "      <td>344</td>\n",
       "      <td>5</td>\n",
       "      <td>...</td>\n",
       "      <td>1</td>\n",
       "      <td>1</td>\n",
       "      <td>1</td>\n",
       "      <td>1</td>\n",
       "      <td>1</td>\n",
       "      <td>1</td>\n",
       "      <td>1</td>\n",
       "      <td>1</td>\n",
       "      <td>1030</td>\n",
       "      <td>6</td>\n",
       "    </tr>\n",
       "    <tr>\n",
       "      <th>1</th>\n",
       "      <td>6</td>\n",
       "      <td>8</td>\n",
       "      <td>15</td>\n",
       "      <td>1.6</td>\n",
       "      <td>110.0</td>\n",
       "      <td>0</td>\n",
       "      <td>60563</td>\n",
       "      <td>2017</td>\n",
       "      <td>344</td>\n",
       "      <td>5</td>\n",
       "      <td>...</td>\n",
       "      <td>1</td>\n",
       "      <td>1</td>\n",
       "      <td>0</td>\n",
       "      <td>1</td>\n",
       "      <td>1</td>\n",
       "      <td>1</td>\n",
       "      <td>1</td>\n",
       "      <td>1</td>\n",
       "      <td>1030</td>\n",
       "      <td>3</td>\n",
       "    </tr>\n",
       "    <tr>\n",
       "      <th>2</th>\n",
       "      <td>6</td>\n",
       "      <td>8</td>\n",
       "      <td>12</td>\n",
       "      <td>1.8</td>\n",
       "      <td>152.0</td>\n",
       "      <td>0</td>\n",
       "      <td>88000</td>\n",
       "      <td>2013</td>\n",
       "      <td>497</td>\n",
       "      <td>5</td>\n",
       "      <td>...</td>\n",
       "      <td>1</td>\n",
       "      <td>1</td>\n",
       "      <td>1</td>\n",
       "      <td>1</td>\n",
       "      <td>1</td>\n",
       "      <td>1</td>\n",
       "      <td>1</td>\n",
       "      <td>1</td>\n",
       "      <td>302</td>\n",
       "      <td>6</td>\n",
       "    </tr>\n",
       "    <tr>\n",
       "      <th>3</th>\n",
       "      <td>6</td>\n",
       "      <td>8</td>\n",
       "      <td>6</td>\n",
       "      <td>1.6</td>\n",
       "      <td>110.0</td>\n",
       "      <td>0</td>\n",
       "      <td>95000</td>\n",
       "      <td>2013</td>\n",
       "      <td>344</td>\n",
       "      <td>5</td>\n",
       "      <td>...</td>\n",
       "      <td>1</td>\n",
       "      <td>1</td>\n",
       "      <td>1</td>\n",
       "      <td>1</td>\n",
       "      <td>1</td>\n",
       "      <td>1</td>\n",
       "      <td>1</td>\n",
       "      <td>1</td>\n",
       "      <td>302</td>\n",
       "      <td>6</td>\n",
       "    </tr>\n",
       "    <tr>\n",
       "      <th>4</th>\n",
       "      <td>6</td>\n",
       "      <td>8</td>\n",
       "      <td>1</td>\n",
       "      <td>1.8</td>\n",
       "      <td>152.0</td>\n",
       "      <td>0</td>\n",
       "      <td>58536</td>\n",
       "      <td>2008</td>\n",
       "      <td>344</td>\n",
       "      <td>5</td>\n",
       "      <td>...</td>\n",
       "      <td>1</td>\n",
       "      <td>1</td>\n",
       "      <td>0</td>\n",
       "      <td>1</td>\n",
       "      <td>1</td>\n",
       "      <td>1</td>\n",
       "      <td>1</td>\n",
       "      <td>1</td>\n",
       "      <td>1030</td>\n",
       "      <td>8</td>\n",
       "    </tr>\n",
       "    <tr>\n",
       "      <th>...</th>\n",
       "      <td>...</td>\n",
       "      <td>...</td>\n",
       "      <td>...</td>\n",
       "      <td>...</td>\n",
       "      <td>...</td>\n",
       "      <td>...</td>\n",
       "      <td>...</td>\n",
       "      <td>...</td>\n",
       "      <td>...</td>\n",
       "      <td>...</td>\n",
       "      <td>...</td>\n",
       "      <td>...</td>\n",
       "      <td>...</td>\n",
       "      <td>...</td>\n",
       "      <td>...</td>\n",
       "      <td>...</td>\n",
       "      <td>...</td>\n",
       "      <td>...</td>\n",
       "      <td>...</td>\n",
       "      <td>...</td>\n",
       "      <td>...</td>\n",
       "    </tr>\n",
       "    <tr>\n",
       "      <th>61226</th>\n",
       "      <td>9</td>\n",
       "      <td>6</td>\n",
       "      <td>6</td>\n",
       "      <td>2.5</td>\n",
       "      <td>136.0</td>\n",
       "      <td>5</td>\n",
       "      <td>230000</td>\n",
       "      <td>2006</td>\n",
       "      <td>278</td>\n",
       "      <td>4</td>\n",
       "      <td>...</td>\n",
       "      <td>0</td>\n",
       "      <td>0</td>\n",
       "      <td>0</td>\n",
       "      <td>0</td>\n",
       "      <td>0</td>\n",
       "      <td>0</td>\n",
       "      <td>0</td>\n",
       "      <td>0</td>\n",
       "      <td>1030</td>\n",
       "      <td>10</td>\n",
       "    </tr>\n",
       "    <tr>\n",
       "      <th>61227</th>\n",
       "      <td>9</td>\n",
       "      <td>6</td>\n",
       "      <td>11</td>\n",
       "      <td>2.5</td>\n",
       "      <td>178.0</td>\n",
       "      <td>5</td>\n",
       "      <td>216000</td>\n",
       "      <td>2006</td>\n",
       "      <td>278</td>\n",
       "      <td>4</td>\n",
       "      <td>...</td>\n",
       "      <td>0</td>\n",
       "      <td>0</td>\n",
       "      <td>0</td>\n",
       "      <td>0</td>\n",
       "      <td>0</td>\n",
       "      <td>0</td>\n",
       "      <td>0</td>\n",
       "      <td>0</td>\n",
       "      <td>1030</td>\n",
       "      <td>11</td>\n",
       "    </tr>\n",
       "    <tr>\n",
       "      <th>61228</th>\n",
       "      <td>11</td>\n",
       "      <td>6</td>\n",
       "      <td>11</td>\n",
       "      <td>1.6</td>\n",
       "      <td>98.0</td>\n",
       "      <td>0</td>\n",
       "      <td>255000</td>\n",
       "      <td>2005</td>\n",
       "      <td>282</td>\n",
       "      <td>4</td>\n",
       "      <td>...</td>\n",
       "      <td>0</td>\n",
       "      <td>0</td>\n",
       "      <td>0</td>\n",
       "      <td>0</td>\n",
       "      <td>0</td>\n",
       "      <td>0</td>\n",
       "      <td>0</td>\n",
       "      <td>0</td>\n",
       "      <td>1030</td>\n",
       "      <td>16</td>\n",
       "    </tr>\n",
       "    <tr>\n",
       "      <th>61229</th>\n",
       "      <td>11</td>\n",
       "      <td>6</td>\n",
       "      <td>13</td>\n",
       "      <td>1.8</td>\n",
       "      <td>116.0</td>\n",
       "      <td>0</td>\n",
       "      <td>257000</td>\n",
       "      <td>1995</td>\n",
       "      <td>109</td>\n",
       "      <td>4</td>\n",
       "      <td>...</td>\n",
       "      <td>0</td>\n",
       "      <td>0</td>\n",
       "      <td>0</td>\n",
       "      <td>0</td>\n",
       "      <td>0</td>\n",
       "      <td>0</td>\n",
       "      <td>0</td>\n",
       "      <td>0</td>\n",
       "      <td>1030</td>\n",
       "      <td>25</td>\n",
       "    </tr>\n",
       "    <tr>\n",
       "      <th>61230</th>\n",
       "      <td>0</td>\n",
       "      <td>6</td>\n",
       "      <td>6</td>\n",
       "      <td>2.4</td>\n",
       "      <td>181.0</td>\n",
       "      <td>5</td>\n",
       "      <td>37000</td>\n",
       "      <td>2015</td>\n",
       "      <td>357</td>\n",
       "      <td>5</td>\n",
       "      <td>...</td>\n",
       "      <td>0</td>\n",
       "      <td>0</td>\n",
       "      <td>0</td>\n",
       "      <td>0</td>\n",
       "      <td>0</td>\n",
       "      <td>0</td>\n",
       "      <td>0</td>\n",
       "      <td>0</td>\n",
       "      <td>1030</td>\n",
       "      <td>5</td>\n",
       "    </tr>\n",
       "  </tbody>\n",
       "</table>\n",
       "<p>61230 rows × 176 columns</p>\n",
       "</div>"
      ],
      "text/plain": [
       "       bodyType  brand  color  engineDisplacement  enginePower  fuelType  \\\n",
       "0             6      8     13                 1.2        105.0         0   \n",
       "1             6      8     15                 1.6        110.0         0   \n",
       "2             6      8     12                 1.8        152.0         0   \n",
       "3             6      8      6                 1.6        110.0         0   \n",
       "4             6      8      1                 1.8        152.0         0   \n",
       "...         ...    ...    ...                 ...          ...       ...   \n",
       "61226         9      6      6                 2.5        136.0         5   \n",
       "61227         9      6     11                 2.5        178.0         5   \n",
       "61228        11      6     11                 1.6         98.0         0   \n",
       "61229        11      6     13                 1.8        116.0         0   \n",
       "61230         0      6      6                 2.4        181.0         5   \n",
       "\n",
       "       mileage  modelDate  model_name  numberOfDoors  ...  airbag-passenger  \\\n",
       "0        74000       2013         344              5  ...                 1   \n",
       "1        60563       2017         344              5  ...                 1   \n",
       "2        88000       2013         497              5  ...                 1   \n",
       "3        95000       2013         344              5  ...                 1   \n",
       "4        58536       2008         344              5  ...                 1   \n",
       "...        ...        ...         ...            ...  ...               ...   \n",
       "61226   230000       2006         278              4  ...                 0   \n",
       "61227   216000       2006         278              4  ...                 0   \n",
       "61228   255000       2005         282              4  ...                 0   \n",
       "61229   257000       1995         109              4  ...                 0   \n",
       "61230    37000       2015         357              5  ...                 0   \n",
       "\n",
       "       airbag-driver  electro-window-front  front-seats-heat  computer  \\\n",
       "0                  1                     1                 1         1   \n",
       "1                  1                     0                 1         1   \n",
       "2                  1                     1                 1         1   \n",
       "3                  1                     1                 1         1   \n",
       "4                  1                     0                 1         1   \n",
       "...              ...                   ...               ...       ...   \n",
       "61226              0                     0                 0         0   \n",
       "61227              0                     0                 0         0   \n",
       "61228              0                     0                 0         0   \n",
       "61229              0                     0                 0         0   \n",
       "61230              0                     0                 0         0   \n",
       "\n",
       "       electro-mirrors  lock  abs  complectation  age  \n",
       "0                    1     1    1           1030    6  \n",
       "1                    1     1    1           1030    3  \n",
       "2                    1     1    1            302    6  \n",
       "3                    1     1    1            302    6  \n",
       "4                    1     1    1           1030    8  \n",
       "...                ...   ...  ...            ...  ...  \n",
       "61226                0     0    0           1030   10  \n",
       "61227                0     0    0           1030   11  \n",
       "61228                0     0    0           1030   16  \n",
       "61229                0     0    0           1030   25  \n",
       "61230                0     0    0           1030    5  \n",
       "\n",
       "[61230 rows x 176 columns]"
      ]
     },
     "execution_count": 108,
     "metadata": {},
     "output_type": "execute_result"
    }
   ],
   "source": [
    "df"
   ]
  },
  {
   "cell_type": "code",
   "execution_count": 109,
   "metadata": {},
   "outputs": [],
   "source": [
    "numerical = ['engineDisplacement', 'enginePower', 'mileage','modelDate', 'numberOfDoors',  'productionDate',\n",
    "             'owners', 'Taxes', 'Views','descr_words_count', 'power_kvt', 'age']"
   ]
  },
  {
   "cell_type": "code",
   "execution_count": 110,
   "metadata": {},
   "outputs": [
    {
     "data": {
      "image/png": "[encoded data removed]",
      "text/plain": [
       "<Figure size 1080x576 with 2 Axes>"
      ]
     },
     "metadata": {
      "needs_background": "light"
     },
     "output_type": "display_data"
    }
   ],
   "source": [
    "plt.figure(figsize=(15, 8));\n",
    "sns.heatmap(df[df.train == 1][numerical + ['Price']].corr(), vmin=-1, vmax=1, annot=True, cmap='vlag');"
   ]
  },
  {
   "cell_type": "code",
   "execution_count": 111,
   "metadata": {},
   "outputs": [],
   "source": [
    "features_remove = []\n",
    "features_remove.append('modelDate') # highly correlated with production date"
   ]
  },
  {
   "cell_type": "code",
   "execution_count": 112,
   "metadata": {},
   "outputs": [],
   "source": [
    "df = df.drop(columns=features_remove)"
   ]
  },
  {
   "cell_type": "code",
   "execution_count": 113,
   "metadata": {},
   "outputs": [],
   "source": [
    "numerical.remove('modelDate')"
   ]
  },
  {
   "cell_type": "code",
   "execution_count": 114,
   "metadata": {},
   "outputs": [],
   "source": [
    "binary = list(set(df.columns) - set(categorical + numerical + ['Price', 'train']))"
   ]
  },
  {
   "cell_type": "code",
   "execution_count": 115,
   "metadata": {},
   "outputs": [
    {
     "data": {
      "text/plain": [
       "<AxesSubplot:>"
      ]
     },
     "execution_count": 115,
     "metadata": {},
     "output_type": "execute_result"
    },
    {
     "data": {
      "text/plain": [
       "Text(0.5, 0, 'f-statistic value')"
      ]
     },
     "execution_count": 115,
     "metadata": {},
     "output_type": "execute_result"
    },
    {
     "data": {
      "image/png": "[encoded data removed]",
      "text/plain": [
       "<Figure size 432x288 with 1 Axes>"
      ]
     },
     "metadata": {
      "needs_background": "light"
     },
     "output_type": "display_data"
    }
   ],
   "source": [
    "# importance of numerical columns\n",
    "imp_num = pd.Series(f_regression(df[df.train==1][numerical], df[df.train==1]['Price'])[0], index=numerical)\n",
    "imp_num.sort_values(inplace=True)\n",
    "imp_num.plot(kind = 'barh')\n",
    "plt.xlabel('f-statistic value')"
   ]
  },
  {
   "cell_type": "code",
   "execution_count": 118,
   "metadata": {},
   "outputs": [],
   "source": [
    "# remove outliers in age\n",
    "Q1 = df[df['train']==1]['age'].quantile(0.25)\n",
    "Q3 = df[df['train']==1]['age'].quantile(0.75)\n",
    "IQR = Q3 - Q1\n",
    "df[df['train']==1] = df[df['train']==1][~((df[df['train']==1]['age'] < (Q1 - 1.5 * IQR)) |(df[df['train']==1]['age'] > (Q3 + 1.5 * IQR)))]\n",
    "# df = df[~((df[cols] < (Q1 - 1.5 * IQR)) |(df[cols] > (Q3 + 1.5 * IQR))).any(axis=1)]"
   ]
  },
  {
   "cell_type": "code",
   "execution_count": 119,
   "metadata": {},
   "outputs": [
    {
     "data": {
      "text/plain": [
       "<AxesSubplot:title={'center':'The importance of the categorical columns.'}>"
      ]
     },
     "execution_count": 119,
     "metadata": {},
     "output_type": "execute_result"
    },
    {
     "data": {
      "image/png": "[encoded data removed]",
      "text/plain": [
       "<Figure size 432x288 with 1 Axes>"
      ]
     },
     "metadata": {
      "needs_background": "light"
     },
     "output_type": "display_data"
    }
   ],
   "source": [
    "# let's look at the importance of the categorical and binary columns\n",
    "imp_cat = pd.Series(\n",
    "    mutual_info_regression(\n",
    "        df[df.train == 1][list(set(df.columns) & set(categorical))], \n",
    "        df[df.train == 1]['Price'], \n",
    "        discrete_features=True), index=list(set(df.columns) & set(categorical))\n",
    ")\n",
    "imp_cat.sort_values(inplace=True)\n",
    "imp_cat.plot(kind='barh', title='The importance of the categorical columns.')\n",
    "plt.show()"
   ]
  },
  {
   "cell_type": "markdown",
   "metadata": {},
   "source": [
    "## Scaler"
   ]
  },
  {
   "cell_type": "code",
   "execution_count": 120,
   "metadata": {},
   "outputs": [],
   "source": [
    "scaler = StandardScaler()\n",
    "scaled_data = scaler.fit_transform(df.drop(columns=['train', 'Price']))\n",
    "scaled_df = pd.DataFrame(scaled_data, index=df.index, columns=df.drop(columns=['train', 'Price']).columns)"
   ]
  },
  {
   "cell_type": "code",
   "execution_count": 121,
   "metadata": {},
   "outputs": [],
   "source": [
    "df = scaled_df.join(df[['train', 'Price']])"
   ]
  },
  {
   "cell_type": "markdown",
   "metadata": {},
   "source": [
    "### ML"
   ]
  },
  {
   "cell_type": "code",
   "execution_count": 122,
   "metadata": {
    "papermill": {
     "duration": 0.071275,
     "end_time": "2020-10-26T12:47:03.754",
     "exception": false,
     "start_time": "2020-10-26T12:47:03.682725",
     "status": "completed"
    },
    "tags": []
   },
   "outputs": [],
   "source": [
    "X = df.query('train == 1').drop(['train', 'Price'], axis=1)\n",
    "X_sub = df.query('train == 0').drop(['train', 'Price'], axis=1)"
   ]
  },
  {
   "cell_type": "code",
   "execution_count": 123,
   "metadata": {},
   "outputs": [
    {
     "data": {
      "text/html": [
       "<div>\n",
       "<style scoped>\n",
       "    .dataframe tbody tr th:only-of-type {\n",
       "        vertical-align: middle;\n",
       "    }\n",
       "\n",
       "    .dataframe tbody tr th {\n",
       "        vertical-align: top;\n",
       "    }\n",
       "\n",
       "    .dataframe thead th {\n",
       "        text-align: right;\n",
       "    }\n",
       "</style>\n",
       "<table border=\"1\" class=\"dataframe\">\n",
       "  <thead>\n",
       "    <tr style=\"text-align: right;\">\n",
       "      <th></th>\n",
       "      <th>bodyType</th>\n",
       "      <th>brand</th>\n",
       "      <th>color</th>\n",
       "      <th>engineDisplacement</th>\n",
       "      <th>enginePower</th>\n",
       "      <th>fuelType</th>\n",
       "      <th>mileage</th>\n",
       "      <th>model_name</th>\n",
       "      <th>numberOfDoors</th>\n",
       "      <th>productionDate</th>\n",
       "      <th>...</th>\n",
       "      <th>airbag-passenger</th>\n",
       "      <th>airbag-driver</th>\n",
       "      <th>electro-window-front</th>\n",
       "      <th>front-seats-heat</th>\n",
       "      <th>computer</th>\n",
       "      <th>electro-mirrors</th>\n",
       "      <th>lock</th>\n",
       "      <th>abs</th>\n",
       "      <th>complectation</th>\n",
       "      <th>age</th>\n",
       "    </tr>\n",
       "  </thead>\n",
       "  <tbody>\n",
       "    <tr>\n",
       "      <th>0</th>\n",
       "      <td>-0.092664</td>\n",
       "      <td>0.648716</td>\n",
       "      <td>0.603061</td>\n",
       "      <td>-1.248593</td>\n",
       "      <td>-0.952333</td>\n",
       "      <td>-0.560089</td>\n",
       "      <td>-0.789523</td>\n",
       "      <td>0.266266</td>\n",
       "      <td>0.743707</td>\n",
       "      <td>0.504724</td>\n",
       "      <td>...</td>\n",
       "      <td>0.930711</td>\n",
       "      <td>0.907381</td>\n",
       "      <td>0.903591</td>\n",
       "      <td>0.890855</td>\n",
       "      <td>0.865355</td>\n",
       "      <td>0.820598</td>\n",
       "      <td>0.712857</td>\n",
       "      <td>0.717094</td>\n",
       "      <td>0.376113</td>\n",
       "      <td>-0.644342</td>\n",
       "    </tr>\n",
       "    <tr>\n",
       "      <th>1</th>\n",
       "      <td>-0.092664</td>\n",
       "      <td>0.648716</td>\n",
       "      <td>0.969632</td>\n",
       "      <td>-0.837967</td>\n",
       "      <td>-0.898462</td>\n",
       "      <td>-0.560089</td>\n",
       "      <td>-0.922837</td>\n",
       "      <td>0.266266</td>\n",
       "      <td>0.743707</td>\n",
       "      <td>0.946795</td>\n",
       "      <td>...</td>\n",
       "      <td>0.930711</td>\n",
       "      <td>0.907381</td>\n",
       "      <td>-1.106696</td>\n",
       "      <td>0.890855</td>\n",
       "      <td>0.865355</td>\n",
       "      <td>0.820598</td>\n",
       "      <td>0.712857</td>\n",
       "      <td>0.717094</td>\n",
       "      <td>0.376113</td>\n",
       "      <td>-1.096526</td>\n",
       "    </tr>\n",
       "    <tr>\n",
       "      <th>2</th>\n",
       "      <td>-0.092664</td>\n",
       "      <td>0.648716</td>\n",
       "      <td>0.419775</td>\n",
       "      <td>-0.632654</td>\n",
       "      <td>-0.445948</td>\n",
       "      <td>-0.560089</td>\n",
       "      <td>-0.650624</td>\n",
       "      <td>1.128661</td>\n",
       "      <td>0.743707</td>\n",
       "      <td>0.504724</td>\n",
       "      <td>...</td>\n",
       "      <td>0.930711</td>\n",
       "      <td>0.907381</td>\n",
       "      <td>0.903591</td>\n",
       "      <td>0.890855</td>\n",
       "      <td>0.865355</td>\n",
       "      <td>0.820598</td>\n",
       "      <td>0.712857</td>\n",
       "      <td>0.717094</td>\n",
       "      <td>-2.862157</td>\n",
       "      <td>-0.644342</td>\n",
       "    </tr>\n",
       "    <tr>\n",
       "      <th>3</th>\n",
       "      <td>-0.092664</td>\n",
       "      <td>0.648716</td>\n",
       "      <td>-0.679938</td>\n",
       "      <td>-0.837967</td>\n",
       "      <td>-0.898462</td>\n",
       "      <td>-0.560089</td>\n",
       "      <td>-0.581174</td>\n",
       "      <td>0.266266</td>\n",
       "      <td>0.743707</td>\n",
       "      <td>0.504724</td>\n",
       "      <td>...</td>\n",
       "      <td>0.930711</td>\n",
       "      <td>0.907381</td>\n",
       "      <td>0.903591</td>\n",
       "      <td>0.890855</td>\n",
       "      <td>0.865355</td>\n",
       "      <td>0.820598</td>\n",
       "      <td>0.712857</td>\n",
       "      <td>0.717094</td>\n",
       "      <td>-2.862157</td>\n",
       "      <td>-0.644342</td>\n",
       "    </tr>\n",
       "    <tr>\n",
       "      <th>4</th>\n",
       "      <td>-0.092664</td>\n",
       "      <td>0.648716</td>\n",
       "      <td>-1.596365</td>\n",
       "      <td>-0.632654</td>\n",
       "      <td>-0.445948</td>\n",
       "      <td>-0.560089</td>\n",
       "      <td>-0.942948</td>\n",
       "      <td>0.266266</td>\n",
       "      <td>0.743707</td>\n",
       "      <td>0.210010</td>\n",
       "      <td>...</td>\n",
       "      <td>0.930711</td>\n",
       "      <td>0.907381</td>\n",
       "      <td>-1.106696</td>\n",
       "      <td>0.890855</td>\n",
       "      <td>0.865355</td>\n",
       "      <td>0.820598</td>\n",
       "      <td>0.712857</td>\n",
       "      <td>0.717094</td>\n",
       "      <td>0.376113</td>\n",
       "      <td>-0.342886</td>\n",
       "    </tr>\n",
       "    <tr>\n",
       "      <th>...</th>\n",
       "      <td>...</td>\n",
       "      <td>...</td>\n",
       "      <td>...</td>\n",
       "      <td>...</td>\n",
       "      <td>...</td>\n",
       "      <td>...</td>\n",
       "      <td>...</td>\n",
       "      <td>...</td>\n",
       "      <td>...</td>\n",
       "      <td>...</td>\n",
       "      <td>...</td>\n",
       "      <td>...</td>\n",
       "      <td>...</td>\n",
       "      <td>...</td>\n",
       "      <td>...</td>\n",
       "      <td>...</td>\n",
       "      <td>...</td>\n",
       "      <td>...</td>\n",
       "      <td>...</td>\n",
       "      <td>...</td>\n",
       "      <td>...</td>\n",
       "    </tr>\n",
       "    <tr>\n",
       "      <th>34681</th>\n",
       "      <td>0.762204</td>\n",
       "      <td>-1.362304</td>\n",
       "      <td>-0.679938</td>\n",
       "      <td>-0.837967</td>\n",
       "      <td>-0.618335</td>\n",
       "      <td>-0.560089</td>\n",
       "      <td>-0.382746</td>\n",
       "      <td>-1.537435</td>\n",
       "      <td>-0.690324</td>\n",
       "      <td>0.504724</td>\n",
       "      <td>...</td>\n",
       "      <td>0.930711</td>\n",
       "      <td>0.907381</td>\n",
       "      <td>0.903591</td>\n",
       "      <td>0.890855</td>\n",
       "      <td>0.865355</td>\n",
       "      <td>0.820598</td>\n",
       "      <td>0.712857</td>\n",
       "      <td>0.717094</td>\n",
       "      <td>0.376113</td>\n",
       "      <td>-0.644342</td>\n",
       "    </tr>\n",
       "    <tr>\n",
       "      <th>34682</th>\n",
       "      <td>0.762204</td>\n",
       "      <td>-1.362304</td>\n",
       "      <td>0.969632</td>\n",
       "      <td>-0.427341</td>\n",
       "      <td>-0.036530</td>\n",
       "      <td>1.814080</td>\n",
       "      <td>-0.551410</td>\n",
       "      <td>-1.509252</td>\n",
       "      <td>-0.690324</td>\n",
       "      <td>1.094152</td>\n",
       "      <td>...</td>\n",
       "      <td>-1.074447</td>\n",
       "      <td>-1.102072</td>\n",
       "      <td>-1.106696</td>\n",
       "      <td>-1.122517</td>\n",
       "      <td>-1.155595</td>\n",
       "      <td>-1.218623</td>\n",
       "      <td>-1.402806</td>\n",
       "      <td>-1.394517</td>\n",
       "      <td>0.376113</td>\n",
       "      <td>-1.247255</td>\n",
       "    </tr>\n",
       "    <tr>\n",
       "      <th>34683</th>\n",
       "      <td>0.762204</td>\n",
       "      <td>-1.362304</td>\n",
       "      <td>0.419775</td>\n",
       "      <td>0.085942</td>\n",
       "      <td>-0.252013</td>\n",
       "      <td>-0.560089</td>\n",
       "      <td>2.047996</td>\n",
       "      <td>-1.509252</td>\n",
       "      <td>-0.690324</td>\n",
       "      <td>-2.000347</td>\n",
       "      <td>...</td>\n",
       "      <td>-1.074447</td>\n",
       "      <td>-1.102072</td>\n",
       "      <td>-1.106696</td>\n",
       "      <td>-1.122517</td>\n",
       "      <td>-1.155595</td>\n",
       "      <td>-1.218623</td>\n",
       "      <td>-1.402806</td>\n",
       "      <td>-1.394517</td>\n",
       "      <td>0.376113</td>\n",
       "      <td>1.918037</td>\n",
       "    </tr>\n",
       "    <tr>\n",
       "      <th>34684</th>\n",
       "      <td>-1.118506</td>\n",
       "      <td>-1.362304</td>\n",
       "      <td>-0.679938</td>\n",
       "      <td>-0.427341</td>\n",
       "      <td>-0.101175</td>\n",
       "      <td>1.814080</td>\n",
       "      <td>-0.625820</td>\n",
       "      <td>1.540130</td>\n",
       "      <td>0.743707</td>\n",
       "      <td>0.357367</td>\n",
       "      <td>...</td>\n",
       "      <td>0.930711</td>\n",
       "      <td>0.907381</td>\n",
       "      <td>0.903591</td>\n",
       "      <td>0.890855</td>\n",
       "      <td>0.865355</td>\n",
       "      <td>0.820598</td>\n",
       "      <td>0.712857</td>\n",
       "      <td>0.717094</td>\n",
       "      <td>0.514006</td>\n",
       "      <td>-0.493614</td>\n",
       "    </tr>\n",
       "    <tr>\n",
       "      <th>34685</th>\n",
       "      <td>-1.118506</td>\n",
       "      <td>-1.362304</td>\n",
       "      <td>0.969632</td>\n",
       "      <td>0.599225</td>\n",
       "      <td>0.448306</td>\n",
       "      <td>1.814080</td>\n",
       "      <td>0.857428</td>\n",
       "      <td>1.573949</td>\n",
       "      <td>0.743707</td>\n",
       "      <td>-0.379419</td>\n",
       "      <td>...</td>\n",
       "      <td>-1.074447</td>\n",
       "      <td>-1.102072</td>\n",
       "      <td>-1.106696</td>\n",
       "      <td>-1.122517</td>\n",
       "      <td>-1.155595</td>\n",
       "      <td>-1.218623</td>\n",
       "      <td>-1.402806</td>\n",
       "      <td>-1.394517</td>\n",
       "      <td>0.376113</td>\n",
       "      <td>0.260027</td>\n",
       "    </tr>\n",
       "  </tbody>\n",
       "</table>\n",
       "<p>34686 rows × 173 columns</p>\n",
       "</div>"
      ],
      "text/plain": [
       "       bodyType     brand     color  engineDisplacement  enginePower  \\\n",
       "0     -0.092664  0.648716  0.603061           -1.248593    -0.952333   \n",
       "1     -0.092664  0.648716  0.969632           -0.837967    -0.898462   \n",
       "2     -0.092664  0.648716  0.419775           -0.632654    -0.445948   \n",
       "3     -0.092664  0.648716 -0.679938           -0.837967    -0.898462   \n",
       "4     -0.092664  0.648716 -1.596365           -0.632654    -0.445948   \n",
       "...         ...       ...       ...                 ...          ...   \n",
       "34681  0.762204 -1.362304 -0.679938           -0.837967    -0.618335   \n",
       "34682  0.762204 -1.362304  0.969632           -0.427341    -0.036530   \n",
       "34683  0.762204 -1.362304  0.419775            0.085942    -0.252013   \n",
       "34684 -1.118506 -1.362304 -0.679938           -0.427341    -0.101175   \n",
       "34685 -1.118506 -1.362304  0.969632            0.599225     0.448306   \n",
       "\n",
       "       fuelType   mileage  model_name  numberOfDoors  productionDate  ...  \\\n",
       "0     -0.560089 -0.789523    0.266266       0.743707        0.504724  ...   \n",
       "1     -0.560089 -0.922837    0.266266       0.743707        0.946795  ...   \n",
       "2     -0.560089 -0.650624    1.128661       0.743707        0.504724  ...   \n",
       "3     -0.560089 -0.581174    0.266266       0.743707        0.504724  ...   \n",
       "4     -0.560089 -0.942948    0.266266       0.743707        0.210010  ...   \n",
       "...         ...       ...         ...            ...             ...  ...   \n",
       "34681 -0.560089 -0.382746   -1.537435      -0.690324        0.504724  ...   \n",
       "34682  1.814080 -0.551410   -1.509252      -0.690324        1.094152  ...   \n",
       "34683 -0.560089  2.047996   -1.509252      -0.690324       -2.000347  ...   \n",
       "34684  1.814080 -0.625820    1.540130       0.743707        0.357367  ...   \n",
       "34685  1.814080  0.857428    1.573949       0.743707       -0.379419  ...   \n",
       "\n",
       "       airbag-passenger  airbag-driver  electro-window-front  \\\n",
       "0              0.930711       0.907381              0.903591   \n",
       "1              0.930711       0.907381             -1.106696   \n",
       "2              0.930711       0.907381              0.903591   \n",
       "3              0.930711       0.907381              0.903591   \n",
       "4              0.930711       0.907381             -1.106696   \n",
       "...                 ...            ...                   ...   \n",
       "34681          0.930711       0.907381              0.903591   \n",
       "34682         -1.074447      -1.102072             -1.106696   \n",
       "34683         -1.074447      -1.102072             -1.106696   \n",
       "34684          0.930711       0.907381              0.903591   \n",
       "34685         -1.074447      -1.102072             -1.106696   \n",
       "\n",
       "       front-seats-heat  computer  electro-mirrors      lock       abs  \\\n",
       "0              0.890855  0.865355         0.820598  0.712857  0.717094   \n",
       "1              0.890855  0.865355         0.820598  0.712857  0.717094   \n",
       "2              0.890855  0.865355         0.820598  0.712857  0.717094   \n",
       "3              0.890855  0.865355         0.820598  0.712857  0.717094   \n",
       "4              0.890855  0.865355         0.820598  0.712857  0.717094   \n",
       "...                 ...       ...              ...       ...       ...   \n",
       "34681          0.890855  0.865355         0.820598  0.712857  0.717094   \n",
       "34682         -1.122517 -1.155595        -1.218623 -1.402806 -1.394517   \n",
       "34683         -1.122517 -1.155595        -1.218623 -1.402806 -1.394517   \n",
       "34684          0.890855  0.865355         0.820598  0.712857  0.717094   \n",
       "34685         -1.122517 -1.155595        -1.218623 -1.402806 -1.394517   \n",
       "\n",
       "       complectation       age  \n",
       "0           0.376113 -0.644342  \n",
       "1           0.376113 -1.096526  \n",
       "2          -2.862157 -0.644342  \n",
       "3          -2.862157 -0.644342  \n",
       "4           0.376113 -0.342886  \n",
       "...              ...       ...  \n",
       "34681       0.376113 -0.644342  \n",
       "34682       0.376113 -1.247255  \n",
       "34683       0.376113  1.918037  \n",
       "34684       0.514006 -0.493614  \n",
       "34685       0.376113  0.260027  \n",
       "\n",
       "[34686 rows x 173 columns]"
      ]
     },
     "execution_count": 123,
     "metadata": {},
     "output_type": "execute_result"
    }
   ],
   "source": [
    "X_sub\n"
   ]
  },
  {
   "cell_type": "code",
   "execution_count": 124,
   "metadata": {},
   "outputs": [
    {
     "data": {
      "text/html": [
       "<div>\n",
       "<style scoped>\n",
       "    .dataframe tbody tr th:only-of-type {\n",
       "        vertical-align: middle;\n",
       "    }\n",
       "\n",
       "    .dataframe tbody tr th {\n",
       "        vertical-align: top;\n",
       "    }\n",
       "\n",
       "    .dataframe thead th {\n",
       "        text-align: right;\n",
       "    }\n",
       "</style>\n",
       "<table border=\"1\" class=\"dataframe\">\n",
       "  <thead>\n",
       "    <tr style=\"text-align: right;\">\n",
       "      <th></th>\n",
       "      <th>bodyType</th>\n",
       "      <th>brand</th>\n",
       "      <th>color</th>\n",
       "      <th>engineDisplacement</th>\n",
       "      <th>enginePower</th>\n",
       "      <th>fuelType</th>\n",
       "      <th>mileage</th>\n",
       "      <th>model_name</th>\n",
       "      <th>numberOfDoors</th>\n",
       "      <th>productionDate</th>\n",
       "      <th>...</th>\n",
       "      <th>airbag-passenger</th>\n",
       "      <th>airbag-driver</th>\n",
       "      <th>electro-window-front</th>\n",
       "      <th>front-seats-heat</th>\n",
       "      <th>computer</th>\n",
       "      <th>electro-mirrors</th>\n",
       "      <th>lock</th>\n",
       "      <th>abs</th>\n",
       "      <th>complectation</th>\n",
       "      <th>age</th>\n",
       "    </tr>\n",
       "  </thead>\n",
       "  <tbody>\n",
       "    <tr>\n",
       "      <th>0</th>\n",
       "      <td>-0.092664</td>\n",
       "      <td>0.648716</td>\n",
       "      <td>0.603061</td>\n",
       "      <td>-1.248593</td>\n",
       "      <td>-0.952333</td>\n",
       "      <td>-0.560089</td>\n",
       "      <td>-0.789523</td>\n",
       "      <td>0.266266</td>\n",
       "      <td>0.743707</td>\n",
       "      <td>0.504724</td>\n",
       "      <td>...</td>\n",
       "      <td>0.930711</td>\n",
       "      <td>0.907381</td>\n",
       "      <td>0.903591</td>\n",
       "      <td>0.890855</td>\n",
       "      <td>0.865355</td>\n",
       "      <td>0.820598</td>\n",
       "      <td>0.712857</td>\n",
       "      <td>0.717094</td>\n",
       "      <td>0.376113</td>\n",
       "      <td>-0.644342</td>\n",
       "    </tr>\n",
       "    <tr>\n",
       "      <th>1</th>\n",
       "      <td>-0.092664</td>\n",
       "      <td>0.648716</td>\n",
       "      <td>0.969632</td>\n",
       "      <td>-0.837967</td>\n",
       "      <td>-0.898462</td>\n",
       "      <td>-0.560089</td>\n",
       "      <td>-0.922837</td>\n",
       "      <td>0.266266</td>\n",
       "      <td>0.743707</td>\n",
       "      <td>0.946795</td>\n",
       "      <td>...</td>\n",
       "      <td>0.930711</td>\n",
       "      <td>0.907381</td>\n",
       "      <td>-1.106696</td>\n",
       "      <td>0.890855</td>\n",
       "      <td>0.865355</td>\n",
       "      <td>0.820598</td>\n",
       "      <td>0.712857</td>\n",
       "      <td>0.717094</td>\n",
       "      <td>0.376113</td>\n",
       "      <td>-1.096526</td>\n",
       "    </tr>\n",
       "    <tr>\n",
       "      <th>2</th>\n",
       "      <td>-0.092664</td>\n",
       "      <td>0.648716</td>\n",
       "      <td>0.419775</td>\n",
       "      <td>-0.632654</td>\n",
       "      <td>-0.445948</td>\n",
       "      <td>-0.560089</td>\n",
       "      <td>-0.650624</td>\n",
       "      <td>1.128661</td>\n",
       "      <td>0.743707</td>\n",
       "      <td>0.504724</td>\n",
       "      <td>...</td>\n",
       "      <td>0.930711</td>\n",
       "      <td>0.907381</td>\n",
       "      <td>0.903591</td>\n",
       "      <td>0.890855</td>\n",
       "      <td>0.865355</td>\n",
       "      <td>0.820598</td>\n",
       "      <td>0.712857</td>\n",
       "      <td>0.717094</td>\n",
       "      <td>-2.862157</td>\n",
       "      <td>-0.644342</td>\n",
       "    </tr>\n",
       "    <tr>\n",
       "      <th>3</th>\n",
       "      <td>-0.092664</td>\n",
       "      <td>0.648716</td>\n",
       "      <td>-0.679938</td>\n",
       "      <td>-0.837967</td>\n",
       "      <td>-0.898462</td>\n",
       "      <td>-0.560089</td>\n",
       "      <td>-0.581174</td>\n",
       "      <td>0.266266</td>\n",
       "      <td>0.743707</td>\n",
       "      <td>0.504724</td>\n",
       "      <td>...</td>\n",
       "      <td>0.930711</td>\n",
       "      <td>0.907381</td>\n",
       "      <td>0.903591</td>\n",
       "      <td>0.890855</td>\n",
       "      <td>0.865355</td>\n",
       "      <td>0.820598</td>\n",
       "      <td>0.712857</td>\n",
       "      <td>0.717094</td>\n",
       "      <td>-2.862157</td>\n",
       "      <td>-0.644342</td>\n",
       "    </tr>\n",
       "    <tr>\n",
       "      <th>4</th>\n",
       "      <td>-0.092664</td>\n",
       "      <td>0.648716</td>\n",
       "      <td>-1.596365</td>\n",
       "      <td>-0.632654</td>\n",
       "      <td>-0.445948</td>\n",
       "      <td>-0.560089</td>\n",
       "      <td>-0.942948</td>\n",
       "      <td>0.266266</td>\n",
       "      <td>0.743707</td>\n",
       "      <td>0.210010</td>\n",
       "      <td>...</td>\n",
       "      <td>0.930711</td>\n",
       "      <td>0.907381</td>\n",
       "      <td>-1.106696</td>\n",
       "      <td>0.890855</td>\n",
       "      <td>0.865355</td>\n",
       "      <td>0.820598</td>\n",
       "      <td>0.712857</td>\n",
       "      <td>0.717094</td>\n",
       "      <td>0.376113</td>\n",
       "      <td>-0.342886</td>\n",
       "    </tr>\n",
       "    <tr>\n",
       "      <th>...</th>\n",
       "      <td>...</td>\n",
       "      <td>...</td>\n",
       "      <td>...</td>\n",
       "      <td>...</td>\n",
       "      <td>...</td>\n",
       "      <td>...</td>\n",
       "      <td>...</td>\n",
       "      <td>...</td>\n",
       "      <td>...</td>\n",
       "      <td>...</td>\n",
       "      <td>...</td>\n",
       "      <td>...</td>\n",
       "      <td>...</td>\n",
       "      <td>...</td>\n",
       "      <td>...</td>\n",
       "      <td>...</td>\n",
       "      <td>...</td>\n",
       "      <td>...</td>\n",
       "      <td>...</td>\n",
       "      <td>...</td>\n",
       "      <td>...</td>\n",
       "    </tr>\n",
       "    <tr>\n",
       "      <th>34681</th>\n",
       "      <td>0.762204</td>\n",
       "      <td>-1.362304</td>\n",
       "      <td>-0.679938</td>\n",
       "      <td>-0.837967</td>\n",
       "      <td>-0.618335</td>\n",
       "      <td>-0.560089</td>\n",
       "      <td>-0.382746</td>\n",
       "      <td>-1.537435</td>\n",
       "      <td>-0.690324</td>\n",
       "      <td>0.504724</td>\n",
       "      <td>...</td>\n",
       "      <td>0.930711</td>\n",
       "      <td>0.907381</td>\n",
       "      <td>0.903591</td>\n",
       "      <td>0.890855</td>\n",
       "      <td>0.865355</td>\n",
       "      <td>0.820598</td>\n",
       "      <td>0.712857</td>\n",
       "      <td>0.717094</td>\n",
       "      <td>0.376113</td>\n",
       "      <td>-0.644342</td>\n",
       "    </tr>\n",
       "    <tr>\n",
       "      <th>34682</th>\n",
       "      <td>0.762204</td>\n",
       "      <td>-1.362304</td>\n",
       "      <td>0.969632</td>\n",
       "      <td>-0.427341</td>\n",
       "      <td>-0.036530</td>\n",
       "      <td>1.814080</td>\n",
       "      <td>-0.551410</td>\n",
       "      <td>-1.509252</td>\n",
       "      <td>-0.690324</td>\n",
       "      <td>1.094152</td>\n",
       "      <td>...</td>\n",
       "      <td>-1.074447</td>\n",
       "      <td>-1.102072</td>\n",
       "      <td>-1.106696</td>\n",
       "      <td>-1.122517</td>\n",
       "      <td>-1.155595</td>\n",
       "      <td>-1.218623</td>\n",
       "      <td>-1.402806</td>\n",
       "      <td>-1.394517</td>\n",
       "      <td>0.376113</td>\n",
       "      <td>-1.247255</td>\n",
       "    </tr>\n",
       "    <tr>\n",
       "      <th>34683</th>\n",
       "      <td>0.762204</td>\n",
       "      <td>-1.362304</td>\n",
       "      <td>0.419775</td>\n",
       "      <td>0.085942</td>\n",
       "      <td>-0.252013</td>\n",
       "      <td>-0.560089</td>\n",
       "      <td>2.047996</td>\n",
       "      <td>-1.509252</td>\n",
       "      <td>-0.690324</td>\n",
       "      <td>-2.000347</td>\n",
       "      <td>...</td>\n",
       "      <td>-1.074447</td>\n",
       "      <td>-1.102072</td>\n",
       "      <td>-1.106696</td>\n",
       "      <td>-1.122517</td>\n",
       "      <td>-1.155595</td>\n",
       "      <td>-1.218623</td>\n",
       "      <td>-1.402806</td>\n",
       "      <td>-1.394517</td>\n",
       "      <td>0.376113</td>\n",
       "      <td>1.918037</td>\n",
       "    </tr>\n",
       "    <tr>\n",
       "      <th>34684</th>\n",
       "      <td>-1.118506</td>\n",
       "      <td>-1.362304</td>\n",
       "      <td>-0.679938</td>\n",
       "      <td>-0.427341</td>\n",
       "      <td>-0.101175</td>\n",
       "      <td>1.814080</td>\n",
       "      <td>-0.625820</td>\n",
       "      <td>1.540130</td>\n",
       "      <td>0.743707</td>\n",
       "      <td>0.357367</td>\n",
       "      <td>...</td>\n",
       "      <td>0.930711</td>\n",
       "      <td>0.907381</td>\n",
       "      <td>0.903591</td>\n",
       "      <td>0.890855</td>\n",
       "      <td>0.865355</td>\n",
       "      <td>0.820598</td>\n",
       "      <td>0.712857</td>\n",
       "      <td>0.717094</td>\n",
       "      <td>0.514006</td>\n",
       "      <td>-0.493614</td>\n",
       "    </tr>\n",
       "    <tr>\n",
       "      <th>34685</th>\n",
       "      <td>-1.118506</td>\n",
       "      <td>-1.362304</td>\n",
       "      <td>0.969632</td>\n",
       "      <td>0.599225</td>\n",
       "      <td>0.448306</td>\n",
       "      <td>1.814080</td>\n",
       "      <td>0.857428</td>\n",
       "      <td>1.573949</td>\n",
       "      <td>0.743707</td>\n",
       "      <td>-0.379419</td>\n",
       "      <td>...</td>\n",
       "      <td>-1.074447</td>\n",
       "      <td>-1.102072</td>\n",
       "      <td>-1.106696</td>\n",
       "      <td>-1.122517</td>\n",
       "      <td>-1.155595</td>\n",
       "      <td>-1.218623</td>\n",
       "      <td>-1.402806</td>\n",
       "      <td>-1.394517</td>\n",
       "      <td>0.376113</td>\n",
       "      <td>0.260027</td>\n",
       "    </tr>\n",
       "  </tbody>\n",
       "</table>\n",
       "<p>34686 rows × 173 columns</p>\n",
       "</div>"
      ],
      "text/plain": [
       "       bodyType     brand     color  engineDisplacement  enginePower  \\\n",
       "0     -0.092664  0.648716  0.603061           -1.248593    -0.952333   \n",
       "1     -0.092664  0.648716  0.969632           -0.837967    -0.898462   \n",
       "2     -0.092664  0.648716  0.419775           -0.632654    -0.445948   \n",
       "3     -0.092664  0.648716 -0.679938           -0.837967    -0.898462   \n",
       "4     -0.092664  0.648716 -1.596365           -0.632654    -0.445948   \n",
       "...         ...       ...       ...                 ...          ...   \n",
       "34681  0.762204 -1.362304 -0.679938           -0.837967    -0.618335   \n",
       "34682  0.762204 -1.362304  0.969632           -0.427341    -0.036530   \n",
       "34683  0.762204 -1.362304  0.419775            0.085942    -0.252013   \n",
       "34684 -1.118506 -1.362304 -0.679938           -0.427341    -0.101175   \n",
       "34685 -1.118506 -1.362304  0.969632            0.599225     0.448306   \n",
       "\n",
       "       fuelType   mileage  model_name  numberOfDoors  productionDate  ...  \\\n",
       "0     -0.560089 -0.789523    0.266266       0.743707        0.504724  ...   \n",
       "1     -0.560089 -0.922837    0.266266       0.743707        0.946795  ...   \n",
       "2     -0.560089 -0.650624    1.128661       0.743707        0.504724  ...   \n",
       "3     -0.560089 -0.581174    0.266266       0.743707        0.504724  ...   \n",
       "4     -0.560089 -0.942948    0.266266       0.743707        0.210010  ...   \n",
       "...         ...       ...         ...            ...             ...  ...   \n",
       "34681 -0.560089 -0.382746   -1.537435      -0.690324        0.504724  ...   \n",
       "34682  1.814080 -0.551410   -1.509252      -0.690324        1.094152  ...   \n",
       "34683 -0.560089  2.047996   -1.509252      -0.690324       -2.000347  ...   \n",
       "34684  1.814080 -0.625820    1.540130       0.743707        0.357367  ...   \n",
       "34685  1.814080  0.857428    1.573949       0.743707       -0.379419  ...   \n",
       "\n",
       "       airbag-passenger  airbag-driver  electro-window-front  \\\n",
       "0              0.930711       0.907381              0.903591   \n",
       "1              0.930711       0.907381             -1.106696   \n",
       "2              0.930711       0.907381              0.903591   \n",
       "3              0.930711       0.907381              0.903591   \n",
       "4              0.930711       0.907381             -1.106696   \n",
       "...                 ...            ...                   ...   \n",
       "34681          0.930711       0.907381              0.903591   \n",
       "34682         -1.074447      -1.102072             -1.106696   \n",
       "34683         -1.074447      -1.102072             -1.106696   \n",
       "34684          0.930711       0.907381              0.903591   \n",
       "34685         -1.074447      -1.102072             -1.106696   \n",
       "\n",
       "       front-seats-heat  computer  electro-mirrors      lock       abs  \\\n",
       "0              0.890855  0.865355         0.820598  0.712857  0.717094   \n",
       "1              0.890855  0.865355         0.820598  0.712857  0.717094   \n",
       "2              0.890855  0.865355         0.820598  0.712857  0.717094   \n",
       "3              0.890855  0.865355         0.820598  0.712857  0.717094   \n",
       "4              0.890855  0.865355         0.820598  0.712857  0.717094   \n",
       "...                 ...       ...              ...       ...       ...   \n",
       "34681          0.890855  0.865355         0.820598  0.712857  0.717094   \n",
       "34682         -1.122517 -1.155595        -1.218623 -1.402806 -1.394517   \n",
       "34683         -1.122517 -1.155595        -1.218623 -1.402806 -1.394517   \n",
       "34684          0.890855  0.865355         0.820598  0.712857  0.717094   \n",
       "34685         -1.122517 -1.155595        -1.218623 -1.402806 -1.394517   \n",
       "\n",
       "       complectation       age  \n",
       "0           0.376113 -0.644342  \n",
       "1           0.376113 -1.096526  \n",
       "2          -2.862157 -0.644342  \n",
       "3          -2.862157 -0.644342  \n",
       "4           0.376113 -0.342886  \n",
       "...              ...       ...  \n",
       "34681       0.376113 -0.644342  \n",
       "34682       0.376113 -1.247255  \n",
       "34683       0.376113  1.918037  \n",
       "34684       0.514006 -0.493614  \n",
       "34685       0.376113  0.260027  \n",
       "\n",
       "[34686 rows x 173 columns]"
      ]
     },
     "execution_count": 124,
     "metadata": {},
     "output_type": "execute_result"
    }
   ],
   "source": [
    "X_sub"
   ]
  },
  {
   "cell_type": "code",
   "execution_count": 125,
   "metadata": {},
   "outputs": [],
   "source": [
    "y = df[df['train']==1]['Price']"
   ]
  },
  {
   "cell_type": "markdown",
   "metadata": {
    "papermill": {
     "duration": 0.035737,
     "end_time": "2020-10-26T12:47:03.826552",
     "exception": false,
     "start_time": "2020-10-26T12:47:03.790815",
     "status": "completed"
    },
    "tags": []
   },
   "source": [
    "## Train Split"
   ]
  },
  {
   "cell_type": "code",
   "execution_count": 126,
   "metadata": {
    "papermill": {
     "duration": 0.059208,
     "end_time": "2020-10-26T12:47:03.923564",
     "exception": false,
     "start_time": "2020-10-26T12:47:03.864356",
     "status": "completed"
    },
    "tags": []
   },
   "outputs": [],
   "source": [
    "X_train, X_test, y_train, y_test = train_test_split(X, y, test_size=VAL_SIZE, shuffle=True, random_state=RANDOM_SEED)"
   ]
  },
  {
   "cell_type": "markdown",
   "metadata": {},
   "source": [
    "# Model 1: Создадим \"наивную\" модель \n",
    "Эта модель будет предсказывать среднюю цену по mileage. \n",
    "C ней будем сравнивать другие модели.\n",
    "\n",
    "\n"
   ]
  },
  {
   "cell_type": "code",
   "execution_count": 127,
   "metadata": {},
   "outputs": [],
   "source": [
    "tmp_train = X_train.copy()\n",
    "tmp_train['price'] = y_train"
   ]
  },
  {
   "cell_type": "code",
   "execution_count": 128,
   "metadata": {},
   "outputs": [
    {
     "name": "stdout",
     "output_type": "stream",
     "text": [
      "Точность наивной модели по метрике MAPE: 63.43%\n"
     ]
    }
   ],
   "source": [
    "# Находим median по экземплярам engineDisplacement в трейне и размечаем тест\n",
    "predict = X_test['mileage'].map(tmp_train.groupby('mileage')['price'].median())\n",
    "\n",
    "#оцениваем точность\n",
    "print(f\"Точность наивной модели по метрике MAPE: {(mape(y_test, predict.values))*100:0.2f}%\")\n",
    "# Точность наивной модели по метрике MAPE: 63.43%"
   ]
  },
  {
   "cell_type": "markdown",
   "metadata": {
    "papermill": {
     "duration": 0.037164,
     "end_time": "2020-10-26T12:47:03.997616",
     "exception": false,
     "start_time": "2020-10-26T12:47:03.960452",
     "status": "completed"
    },
    "tags": []
   },
   "source": [
    "# Model 2 : CatBoost\n",
    "![](https://pbs.twimg.com/media/DP-jUCyXcAArRTo.png:large)   \n",
    "\n",
    "\n",
    "У нас в данных практически все признаки категориальные. Специально для работы с такими данными была создана очень удобная библиотека CatBoost от Яндекса. [https://catboost.ai](http://)     \n",
    "На данный момент **CatBoost является одной из лучших библиотек для табличных данных!**\n",
    "\n",
    "#### Полезные видео о CatBoost (на русском):\n",
    "* [Доклад про CatBoost](https://youtu.be/9ZrfErvm97M)\n",
    "* [Свежий Туториал от команды CatBoost (практическая часть)](https://youtu.be/wQt4kgAOgV0) "
   ]
  },
  {
   "cell_type": "markdown",
   "metadata": {
    "papermill": {
     "duration": 0.035833,
     "end_time": "2020-10-26T12:47:04.149539",
     "exception": false,
     "start_time": "2020-10-26T12:47:04.113706",
     "status": "completed"
    },
    "tags": []
   },
   "source": [
    "## Fit"
   ]
  },
  {
   "cell_type": "code",
   "execution_count": 129,
   "metadata": {
    "papermill": {
     "duration": 67.991521,
     "end_time": "2020-10-26T12:48:12.178488",
     "exception": false,
     "start_time": "2020-10-26T12:47:04.186967",
     "status": "completed"
    },
    "tags": []
   },
   "outputs": [],
   "source": [
    "# model = CatBoostRegressor(iterations = 5000,\n",
    "#                           random_seed = RANDOM_SEED,\n",
    "#                           eval_metric='MAPE',\n",
    "#                           custom_metric=['R2', 'MAE'],\n",
    "#                           silent=True,\n",
    "#                          )\n",
    "# model.fit(X_train, y_train,\n",
    "#          #cat_features=cat_features_ids,\n",
    "#          eval_set=(X_test, y_test),\n",
    "#          verbose_eval=0,\n",
    "#          use_best_model=True,\n",
    "#          #plot=True\n",
    "#          )\n",
    "\n",
    "# model.save_model('catboost_single_model_baseline.model')"
   ]
  },
  {
   "cell_type": "code",
   "execution_count": 130,
   "metadata": {},
   "outputs": [],
   "source": [
    "# оцениваем точность\n",
    "# predict = model.predict(X_test)\n",
    "# print(f\"Точность модели по метрике MAPE: {(mape(y_test, predict))*100:0.2f}%\")\n",
    "# Точность модели по метрике MAPE: 15.20%"
   ]
  },
  {
   "cell_type": "markdown",
   "metadata": {},
   "source": [
    "### Log Traget\n",
    "Попробуем взять таргет в логорифм - это позволит уменьшить влияние выбросов на обучение модели (используем для этого np.log и np.exp).    \n",
    "В принциепе мы можем использовать любое приобразование на целевую переменную. Например деление на курс доллара, евро или гречки :) в дату сбора данных, смотрим дату парсинга в тесте в **parsing_unixtime**"
   ]
  },
  {
   "cell_type": "code",
   "execution_count": 131,
   "metadata": {},
   "outputs": [],
   "source": [
    "# np.log(y_train)"
   ]
  },
  {
   "cell_type": "code",
   "execution_count": 132,
   "metadata": {},
   "outputs": [],
   "source": [
    "# model = CatBoostRegressor(iterations = 5000,\n",
    "#                           random_seed = RANDOM_SEED,\n",
    "#                           eval_metric='MAPE',\n",
    "#                           custom_metric=['R2', 'MAE'],\n",
    "#                           silent=True,\n",
    "#                          )\n",
    "# model.fit(X_train, np.log(y_train),\n",
    "#          #cat_features=cat_features_ids,\n",
    "#          eval_set=(X_test, np.log(y_test)),\n",
    "#          verbose_eval=0,\n",
    "#          use_best_model=True,\n",
    "#          #plot=True\n",
    "#          )\n",
    "\n",
    "# model.save_model('catboost_single_model_2_baseline.model')"
   ]
  },
  {
   "cell_type": "code",
   "execution_count": 133,
   "metadata": {},
   "outputs": [],
   "source": [
    "# predict_test = np.exp(model.predict(X_test))\n",
    "# predict_submission = np.exp(model.predict(X_sub))"
   ]
  },
  {
   "cell_type": "code",
   "execution_count": 134,
   "metadata": {},
   "outputs": [],
   "source": [
    "# print(f\"Точность модели по метрике MAPE: {(mape(y_test, predict_test))*100:0.2f}%\")\n",
    "# Точность модели по метрике MAPE: 13.06%"
   ]
  },
  {
   "cell_type": "markdown",
   "metadata": {},
   "source": [
    "# Model 3 : Random Forest"
   ]
  },
  {
   "cell_type": "code",
   "execution_count": 146,
   "metadata": {},
   "outputs": [
    {
     "name": "stderr",
     "output_type": "stream",
     "text": [
      "[Parallel(n_jobs=-1)]: Using backend ThreadingBackend with 4 concurrent workers.\n",
      "[Parallel(n_jobs=-1)]: Done  42 tasks      | elapsed:    5.3s\n",
      "[Parallel(n_jobs=-1)]: Done 100 out of 100 | elapsed:   12.3s finished\n"
     ]
    },
    {
     "data": {
      "text/plain": [
       "RandomForestRegressor(n_jobs=-1, random_state=42, verbose=1)"
      ]
     },
     "execution_count": 146,
     "metadata": {},
     "output_type": "execute_result"
    },
    {
     "name": "stderr",
     "output_type": "stream",
     "text": [
      "[Parallel(n_jobs=4)]: Using backend ThreadingBackend with 4 concurrent workers.\n",
      "[Parallel(n_jobs=4)]: Done  42 tasks      | elapsed:    0.1s\n",
      "[Parallel(n_jobs=4)]: Done 100 out of 100 | elapsed:    0.1s finished\n"
     ]
    }
   ],
   "source": [
    "# rf = RandomForestRegressor(random_state=RANDOM_SEED, n_jobs=-1, verbose=1)\n",
    "# rf.fit(X_train, y_train)\n",
    "# predict_rf = rf.predict(X_test)\n",
    "# print(f\"The MAPE mertics of the Random Forest without log: {(mape(y_test, predict_rf) * 100):0.2f}%.\")\n",
    "# The MAPE mertics of the Random Forest without log: 16.64%.\n",
    "\n",
    "# with log-transformation of the target variable\n",
    "rf_log = RandomForestRegressor(random_state=RANDOM_SEED, n_jobs=-1, verbose=1)\n",
    "rf_log.fit(X_train, np.log(y_train))\n",
    "predict_rf_log = np.exp(rf_log.predict(X_test))\n",
    "# 46.93916 LB\n",
    "# print(f\"The MAPE mertic for the Random Forest with log: {(mape(y_test, predict_rf_log) * 100):0.2f}%.\")\n",
    "# The MAPE mertic for the Random Forest with log: 15.26%."
   ]
  },
  {
   "cell_type": "markdown",
   "metadata": {},
   "source": [
    "# Model 4 : LogisticRegression"
   ]
  },
  {
   "cell_type": "code",
   "execution_count": 136,
   "metadata": {
    "scrolled": true
   },
   "outputs": [],
   "source": [
    "# logistic = LogisticRegression(solver='saga', tol=0.1, penalty='l2', random_state=RANDOM_SEED, n_jobs=-1)\n",
    "# logistic.fit(X_train, y_train)\n",
    "# predict_log = logistic.predict(X_test)\n",
    "# print(f\"The MAPE mertics of the Logistic Regression without log: {(mape(y_test, predict_log) * 100):0.2f}%.\")\n",
    "# The MAPE mertics of the Logistic Regression without log: 39.27%."
   ]
  },
  {
   "cell_type": "markdown",
   "metadata": {},
   "source": [
    "# Model 5 :  Support Vector Machine (SVM)"
   ]
  },
  {
   "cell_type": "code",
   "execution_count": 137,
   "metadata": {},
   "outputs": [],
   "source": [
    "# svr = svm.SVR()\n",
    "# svr.fit(X_train, np.log(y_train))\n",
    "# print(f\"The MAPE mertics of the SVR: {(mape(y_test, np.exp(svr.predict(X_test))) * 100):0.2f}%.\")\n",
    "# The MAPE mertics of the SVR: 19.70%."
   ]
  },
  {
   "cell_type": "markdown",
   "metadata": {},
   "source": [
    "# Model 6 : ExtraTreeRegressor"
   ]
  },
  {
   "cell_type": "code",
   "execution_count": 138,
   "metadata": {},
   "outputs": [
    {
     "name": "stderr",
     "output_type": "stream",
     "text": [
      "[Parallel(n_jobs=-1)]: Using backend ThreadingBackend with 4 concurrent workers.\n",
      "[Parallel(n_jobs=-1)]: Done  42 tasks      | elapsed:    6.6s\n",
      "[Parallel(n_jobs=-1)]: Done 100 out of 100 | elapsed:   15.4s finished\n"
     ]
    },
    {
     "data": {
      "text/plain": [
       "ExtraTreesRegressor(n_jobs=-1, random_state=42, verbose=1)"
      ]
     },
     "execution_count": 138,
     "metadata": {},
     "output_type": "execute_result"
    },
    {
     "name": "stdout",
     "output_type": "stream",
     "text": [
      "The MAPE mertic for the ExtraTreesRegressor: 15.37%.\n"
     ]
    },
    {
     "name": "stderr",
     "output_type": "stream",
     "text": [
      "[Parallel(n_jobs=4)]: Using backend ThreadingBackend with 4 concurrent workers.\n",
      "[Parallel(n_jobs=4)]: Done  42 tasks      | elapsed:    0.1s\n",
      "[Parallel(n_jobs=4)]: Done 100 out of 100 | elapsed:    0.1s finished\n"
     ]
    }
   ],
   "source": [
    "# with log-transformation of the target variable\n",
    "etr_log = ExtraTreesRegressor(random_state=RANDOM_SEED, n_jobs=-1, verbose=1)\n",
    "etr_log.fit(X_train, np.log(y_train))\n",
    "etr_pred = np.exp(etr_log.predict(X_test))\n",
    "print(f\"The MAPE mertic for the ExtraTreesRegressor: {(mape(y_test, etr_pred) * 100):0.2f}%.\")\n",
    "# The MAPE mertic for the ExtraTreesRegressor: 15.37%.\n",
    "# 50.52248 LB"
   ]
  },
  {
   "cell_type": "markdown",
   "metadata": {},
   "source": [
    "# Model 6 : XGBoostRegressor"
   ]
  },
  {
   "cell_type": "code",
   "execution_count": 143,
   "metadata": {},
   "outputs": [
    {
     "name": "stdout",
     "output_type": "stream",
     "text": [
      "[21:15:09] WARNING: ../src/learner.cc:576: \n",
      "Parameters: { \"verbose\" } might not be used.\n",
      "\n",
      "  This could be a false alarm, with some parameters getting used by language bindings but\n",
      "  then being mistakenly passed down to XGBoost core, or some parameter actually being used\n",
      "  but getting flagged wrongly here. Please open an issue if you find any such cases.\n",
      "\n",
      "\n"
     ]
    },
    {
     "data": {
      "text/plain": [
       "XGBRegressor(alpha=1, base_score=0.5, booster='gbtree', colsample_bylevel=1,\n",
       "             colsample_bynode=1, colsample_bytree=0.5, enable_categorical=False,\n",
       "             gamma=0, gpu_id=-1, importance_type=None,\n",
       "             interaction_constraints='', learning_rate=0.05, max_delta_step=0,\n",
       "             max_depth=12, min_child_weight=1, missing=nan,\n",
       "             monotone_constraints='()', n_estimators=1000, n_jobs=-1,\n",
       "             num_parallel_tree=1, predictor='auto', random_state=42,\n",
       "             reg_alpha=1, reg_lambda=1, scale_pos_weight=1, subsample=1,\n",
       "             tree_method='exact', validate_parameters=1, verbose=1,\n",
       "             verbosity=None)"
      ]
     },
     "execution_count": 143,
     "metadata": {},
     "output_type": "execute_result"
    },
    {
     "name": "stdout",
     "output_type": "stream",
     "text": [
      "The MAPE mertic for the XGBoost: 13.31%.\n"
     ]
    }
   ],
   "source": [
    "xgb_log = xgb.XGBRegressor(\n",
    "    objective='reg:squarederror', \n",
    "    colsample_bytree=0.5,               \n",
    "    learning_rate=0.05, \n",
    "    max_depth=12, \n",
    "    alpha=1,                   \n",
    "    n_estimators=1000,\n",
    "    random_state=RANDOM_SEED,\n",
    "    verbose=1, \n",
    "    n_jobs=-1,\n",
    ")\n",
    "\n",
    "xgb_log.fit(X_train, np.log(y_train))\n",
    "y_pred = np.exp(xgb_log.predict(X_test))\n",
    "\n",
    "print(f\"The MAPE mertic for the XGBoost: {(mape(y_test, y_pred) * 100):0.2f}%.\")\n",
    "# The MAPE mertic for the XGBoost: 13.31%. \n",
    "# 36.33779 LB"
   ]
  },
  {
   "cell_type": "markdown",
   "metadata": {},
   "source": [
    "# Model 7 : StackingRegressor"
   ]
  },
  {
   "cell_type": "code",
   "execution_count": 140,
   "metadata": {},
   "outputs": [
    {
     "data": {
      "text/plain": [
       "StackingRegressor(estimators=[('cat',\n",
       "                               <catboost.core.CatBoostRegressor object at 0x7efd101874d0>),\n",
       "                              ('xgb',\n",
       "                               XGBRegressor(alpha=1, base_score=None,\n",
       "                                            booster=None,\n",
       "                                            colsample_bylevel=None,\n",
       "                                            colsample_bynode=None,\n",
       "                                            colsample_bytree=0.5,\n",
       "                                            enable_categorical=False,\n",
       "                                            gamma=None, gpu_id=None,\n",
       "                                            importance_type=None,\n",
       "                                            interaction_constraints=None,\n",
       "                                            learning_rate=0.05,\n",
       "                                            max_delta_step=None, max_depth=12,\n",
       "                                            min_child_weight=None, missing=nan,\n",
       "                                            monotone_constraints=None,\n",
       "                                            n_estimators=1000, n_jobs=-1,\n",
       "                                            num_parallel_tree=None,\n",
       "                                            predictor=None, random_state=42,\n",
       "                                            reg_alpha=None, reg_lambda=None,\n",
       "                                            scale_pos_weight=None,\n",
       "                                            subsample=None, tree_method=None,\n",
       "                                            validate_parameters=None,\n",
       "                                            verbosity=None))],\n",
       "                  final_estimator=LinearRegression())"
      ]
     },
     "execution_count": 140,
     "metadata": {},
     "output_type": "execute_result"
    },
    {
     "name": "stdout",
     "output_type": "stream",
     "text": [
      "The MAPE mertic for the default StackingRegressor: 12.96%.\n"
     ]
    }
   ],
   "source": [
    "# estimators = [\n",
    "#     ('cat', CatBoostRegressor(iterations = 5000,\n",
    "#                           random_seed = RANDOM_SEED,\n",
    "#                           eval_metric='MAPE',\n",
    "# #                           custom_metric=['R2', 'MAE'],\n",
    "#                           silent=True,\n",
    "#                          )),\n",
    "    \n",
    "#     ('xgb', xgb.XGBRegressor(objective='reg:squarederror', \n",
    "#                              colsample_bytree=0.5, \n",
    "#                              learning_rate=0.05, \n",
    "#                              max_depth=12, \n",
    "#                              alpha=1, \n",
    "#                              n_jobs=-1, \n",
    "#                              n_estimators=1000, \n",
    "#                              random_state=RANDOM_SEED))\n",
    "# ]\n",
    "\n",
    "# sr_log = StackingRegressor(\n",
    "#     estimators=estimators,\n",
    "#     final_estimator=LinearRegression()\n",
    "# )\n",
    "\n",
    "# sr_log.fit(X_train, np.log(y_train))\n",
    "# y_pred = np.exp(sr_log.predict(X_test))\n",
    "\n",
    "# print(f\"The MAPE mertic for the default StackingRegressor: {(mape(y_test, y_pred) * 100):0.2f}%.\")\n",
    "# The MAPE mertic for the default StackingRegressor: 12.96%.\n",
    "# 56.76500 LB"
   ]
  },
  {
   "cell_type": "markdown",
   "metadata": {
    "papermill": {
     "duration": 0.085876,
     "end_time": "2020-10-26T12:48:12.734207",
     "exception": false,
     "start_time": "2020-10-26T12:48:12.648331",
     "status": "completed"
    },
    "tags": []
   },
   "source": [
    "# Submission"
   ]
  },
  {
   "cell_type": "code",
   "execution_count": 147,
   "metadata": {},
   "outputs": [
    {
     "name": "stderr",
     "output_type": "stream",
     "text": [
      "[Parallel(n_jobs=4)]: Using backend ThreadingBackend with 4 concurrent workers.\n",
      "[Parallel(n_jobs=4)]: Done  42 tasks      | elapsed:    0.1s\n",
      "[Parallel(n_jobs=4)]: Done 100 out of 100 | elapsed:    0.2s finished\n"
     ]
    },
    {
     "data": {
      "text/html": [
       "<div>\n",
       "<style scoped>\n",
       "    .dataframe tbody tr th:only-of-type {\n",
       "        vertical-align: middle;\n",
       "    }\n",
       "\n",
       "    .dataframe tbody tr th {\n",
       "        vertical-align: top;\n",
       "    }\n",
       "\n",
       "    .dataframe thead th {\n",
       "        text-align: right;\n",
       "    }\n",
       "</style>\n",
       "<table border=\"1\" class=\"dataframe\">\n",
       "  <thead>\n",
       "    <tr style=\"text-align: right;\">\n",
       "      <th></th>\n",
       "      <th>sell_id</th>\n",
       "      <th>price</th>\n",
       "    </tr>\n",
       "  </thead>\n",
       "  <tbody>\n",
       "    <tr>\n",
       "      <th>0</th>\n",
       "      <td>1100575026</td>\n",
       "      <td>9.711879e+05</td>\n",
       "    </tr>\n",
       "    <tr>\n",
       "      <th>1</th>\n",
       "      <td>1100549428</td>\n",
       "      <td>1.489553e+06</td>\n",
       "    </tr>\n",
       "    <tr>\n",
       "      <th>2</th>\n",
       "      <td>1100658222</td>\n",
       "      <td>1.604374e+06</td>\n",
       "    </tr>\n",
       "    <tr>\n",
       "      <th>3</th>\n",
       "      <td>1100937408</td>\n",
       "      <td>1.171446e+06</td>\n",
       "    </tr>\n",
       "    <tr>\n",
       "      <th>4</th>\n",
       "      <td>1101037972</td>\n",
       "      <td>7.618852e+05</td>\n",
       "    </tr>\n",
       "    <tr>\n",
       "      <th>5</th>\n",
       "      <td>1100912634</td>\n",
       "      <td>8.176393e+05</td>\n",
       "    </tr>\n",
       "    <tr>\n",
       "      <th>6</th>\n",
       "      <td>1101228730</td>\n",
       "      <td>7.713010e+05</td>\n",
       "    </tr>\n",
       "    <tr>\n",
       "      <th>7</th>\n",
       "      <td>1100165896</td>\n",
       "      <td>6.512224e+05</td>\n",
       "    </tr>\n",
       "    <tr>\n",
       "      <th>8</th>\n",
       "      <td>1100768262</td>\n",
       "      <td>2.552039e+06</td>\n",
       "    </tr>\n",
       "    <tr>\n",
       "      <th>9</th>\n",
       "      <td>1101218501</td>\n",
       "      <td>7.694850e+05</td>\n",
       "    </tr>\n",
       "  </tbody>\n",
       "</table>\n",
       "</div>"
      ],
      "text/plain": [
       "      sell_id         price\n",
       "0  1100575026  9.711879e+05\n",
       "1  1100549428  1.489553e+06\n",
       "2  1100658222  1.604374e+06\n",
       "3  1100937408  1.171446e+06\n",
       "4  1101037972  7.618852e+05\n",
       "5  1100912634  8.176393e+05\n",
       "6  1101228730  7.713010e+05\n",
       "7  1100165896  6.512224e+05\n",
       "8  1100768262  2.552039e+06\n",
       "9  1101218501  7.694850e+05"
      ]
     },
     "execution_count": 147,
     "metadata": {},
     "output_type": "execute_result"
    }
   ],
   "source": [
    "predict_submission = np.exp(xgb_log.predict(X_sub))\n",
    "sample_submission['price'] = predict_submission\n",
    "sample_submission.to_csv(f'submission_xgb.csv', index=False)\n",
    "sample_submission.head(10)"
   ]
  },
  {
   "cell_type": "code",
   "execution_count": null,
   "metadata": {},
   "outputs": [],
   "source": []
  }
 ],
 "metadata": {
  "kernelspec": {
   "display_name": "Python 3",
   "language": "python",
   "name": "python3"
  },
  "language_info": {
   "codemirror_mode": {
    "name": "ipython",
    "version": 3
   },
   "file_extension": ".py",
   "mimetype": "text/x-python",
   "name": "python",
   "nbconvert_exporter": "python",
   "pygments_lexer": "ipython3",
   "version": "3.7.12"
  },
  "toc": {
   "base_numbering": 1,
   "nav_menu": {},
   "number_sections": true,
   "sideBar": true,
   "skip_h1_title": false,
   "title_cell": "Table of Contents",
   "title_sidebar": "Contents",
   "toc_cell": false,
   "toc_position": {},
   "toc_section_display": true,
   "toc_window_display": true
  },
  "varInspector": {
   "cols": {
    "lenName": 16,
    "lenType": 16,
    "lenVar": 40
   },
   "kernels_config": {
    "python": {
     "delete_cmd_postfix": "",
     "delete_cmd_prefix": "del ",
     "library": "var_list.py",
     "varRefreshCmd": "print(var_dic_list())"
    },
    "r": {
     "delete_cmd_postfix": ") ",
     "delete_cmd_prefix": "rm(",
     "library": "var_list.r",
     "varRefreshCmd": "cat(var_dic_list()) "
    }
   },
   "types_to_exclude": [
    "module",
    "function",
    "builtin_function_or_method",
    "instance",
    "_Feature"
   ],
   "window_display": false
  }
 },
 "nbformat": 4,
 "nbformat_minor": 4
}
