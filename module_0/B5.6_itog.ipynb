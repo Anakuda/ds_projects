{
 "cells": [
  {
   "cell_type": "code",
   "execution_count": null,
   "metadata": {},
   "outputs": [],
   "source": [
    "field = [ [\" \"] * 3 for i in range(3)]\n",
    "\n",
    "def show_field():\n",
    "    print(f\"   0 1 2\")\n",
    "    for i in range(3):\n",
    "        row_info = \" \".join(field[i])\n",
    "        print(f\" {i} {row_info} \")\n",
    "\n",
    "show_field()\n"
   ]
  },
  {
   "cell_type": "markdown",
   "metadata": {
    "pycharm": {
     "name": "#%% md\n"
    }
   },
   "source": [
    "Input coordinates from user"
   ]
  },
  {
   "cell_type": "code",
   "execution_count": null,
   "metadata": {
    "pycharm": {
     "name": "#%%\n"
    }
   },
   "outputs": [],
   "source": [
    "def ask():\n",
    "    while True:\n",
    "        coords = input(\"   Your turn: \").split()\n",
    "\n",
    "        if len(coords) != 2:\n",
    "            print(\" You should input 2 coordinates\")\n",
    "            continue\n",
    "\n",
    "        x, y = coords\n",
    "\n",
    "        if not(x.isdigit()) or not(y.isdigit()):\n",
    "            print(\" You should enter digits!\")\n",
    "            continue\n",
    "\n",
    "        x, y = int(x), int(y)\n",
    "\n",
    "        if 0 > x or x > 2 or 0 > y or y > 2:\n",
    "            print( \" Coordinates are out of range \")\n",
    "            continue\n",
    "\n",
    "        if field[x][y] != \" \":\n",
    "            print(\" The cell is not empty\")\n",
    "            continue\n",
    "\n",
    "        return x, y\n",
    "\n",
    "ask()\n",
    "\n",
    "\n"
   ]
  },
  {
   "cell_type": "code",
   "execution_count": 6,
   "metadata": {
    "pycharm": {
     "name": "#%%\n"
    }
   },
   "outputs": [
    {
     "name": "stdout",
     "output_type": "stream",
     "text": [
      "  0 1 2\n",
      " 0       \n",
      " 1       \n",
      " 2       \n",
      " Krestik\n",
      "   Your turn: 0 1 \n",
      "  0 1 2\n",
      " 0   X   \n",
      " 1       \n",
      " 2       \n",
      " Nolik\n",
      "   Your turn: 0 0 \n",
      "  0 1 2\n",
      " 0 0 X   \n",
      " 1       \n",
      " 2       \n",
      " Krestik\n",
      "   Your turn: 0 2\n",
      "  0 1 2\n",
      " 0 0 X X \n",
      " 1       \n",
      " 2       \n",
      " Nolik\n",
      "   Your turn: 1 0 \n",
      "  0 1 2\n",
      " 0 0 X X \n",
      " 1 0     \n",
      " 2       \n",
      " Krestik\n",
      "   Your turn: 2 0 \n",
      "  0 1 2\n",
      " 0 0 X X \n",
      " 1 0     \n",
      " 2 X     \n",
      " Nolik\n",
      "   Your turn: 2 1 \n",
      "  0 1 2\n",
      " 0 0 X X \n",
      " 1 0     \n",
      " 2 X 0   \n",
      " Krestik\n",
      "   Your turn: 2 2\n",
      "  0 1 2\n",
      " 0 0 X X \n",
      " 1 0     \n",
      " 2 X 0 X \n",
      " Nolik\n",
      "   Your turn: 1 2 \n",
      "  0 1 2\n",
      " 0 0 X X \n",
      " 1 0   0 \n",
      " 2 X 0 X \n",
      " Krestik\n",
      "   Your turn: 1 1 \n"
     ]
    }
   ],
   "source": [
    "num = 0\n",
    "while True:\n",
    "    num += 1\n",
    "    \n",
    "    show_field()\n",
    "    \n",
    "    if num % 2 == 1:\n",
    "        print( \" Krestik\")\n",
    "    else: \n",
    "        print( \" Nolik\")\n",
    "    \n",
    "    x, y = ask()\n",
    "    \n",
    "    if num % 2 == 1:\n",
    "        field[x][y] = \"X\"\n",
    "    else: \n",
    "        field[x][y] = \"0\"\n",
    "    \n",
    "    if num == 9:\n",
    "        break\n",
    "        print(\" Standoff\")\n",
    "        \n"
   ]
  },
  {
   "cell_type": "code",
   "execution_count": null,
   "outputs": [],
   "source": [
    "import numpy as np\n",
    "predict = np.random.randint(1,101)\n"
   ],
   "metadata": {
    "collapsed": false,
    "pycharm": {
     "name": "#%%\n"
    }
   }
  },
  {
   "cell_type": "code",
   "execution_count": 2,
   "metadata": {},
   "outputs": [
    {
     "ename": "ModuleNotFoundError",
     "evalue": "No module named 'numpy'",
     "output_type": "error",
     "traceback": [
      "\u001B[0;31m---------------------------------------------------------------------------\u001B[0m",
      "\u001B[0;31mModuleNotFoundError\u001B[0m                       Traceback (most recent call last)",
      "\u001B[0;32m<ipython-input-2-c385b0461f84>\u001B[0m in \u001B[0;36m<module>\u001B[0;34m\u001B[0m\n\u001B[0;32m----> 1\u001B[0;31m \u001B[0;32mimport\u001B[0m \u001B[0mnumpy\u001B[0m \u001B[0;32mas\u001B[0m \u001B[0mnp\u001B[0m\u001B[0;34m\u001B[0m\u001B[0;34m\u001B[0m\u001B[0m\n\u001B[0m\u001B[1;32m      2\u001B[0m \u001B[0mpredict\u001B[0m \u001B[0;34m=\u001B[0m \u001B[0mnp\u001B[0m\u001B[0;34m.\u001B[0m\u001B[0mrandom\u001B[0m\u001B[0;34m.\u001B[0m\u001B[0mrandint\u001B[0m\u001B[0;34m(\u001B[0m\u001B[0;36m1\u001B[0m\u001B[0;34m,\u001B[0m\u001B[0;36m101\u001B[0m\u001B[0;34m)\u001B[0m\u001B[0;34m\u001B[0m\u001B[0;34m\u001B[0m\u001B[0m\n",
      "\u001B[0;31mModuleNotFoundError\u001B[0m: No module named 'numpy'"
     ]
    }
   ],
   "source": [
    "import numpy as np\n",
    "predict = np.random.randint(1,101)\n"
   ]
  }
 ],
 "metadata": {
  "kernelspec": {
   "display_name": "Python 3",
   "language": "python",
   "name": "python3"
  },
  "language_info": {
   "codemirror_mode": {
    "name": "ipython",
    "version": 3
   },
   "file_extension": ".py",
   "mimetype": "text/x-python",
   "name": "python",
   "nbconvert_exporter": "python",
   "pygments_lexer": "ipython3",
   "version": "3.8.1"
  }
 },
 "nbformat": 4,
 "nbformat_minor": 1
}