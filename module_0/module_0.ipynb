{
 "cells": [
  {
   "cell_type": "code",
   "execution_count": 5,
   "outputs": [
    {
     "name": "stdout",
     "output_type": "stream",
     "text": [
      "Ваш алгоритм угадывает число в среднем за 5 попыток\n"
     ]
    },
    {
     "data": {
      "text/plain": "5"
     },
     "execution_count": 5,
     "metadata": {},
     "output_type": "execute_result"
    }
   ],
   "source": [
    "import numpy as np\n",
    "\n",
    "\n",
    "def game_core_v3(number):\n",
    "    \"\"\"Функция угадывает заданное число методом бинарного поиска.\n",
    "    Функция принимает загаданное число и возвращает число попыток.\"\"\"\n",
    "    num_range = range(1, 101)\n",
    "    mean = int(np.mean(num_range))\n",
    "    count = 1\n",
    "    while number != mean:\n",
    "        count += 1\n",
    "        if len(num_range) == 2:\n",
    "            print(f\"Загаданное число - одно из двух этих цифр: ***{num_range}***\")\n",
    "            break\n",
    "\n",
    "        if number > mean:\n",
    "            num_range = range(mean, max(num_range) + 1)\n",
    "        else:\n",
    "            num_range = range(min(num_range), mean + 1)\n",
    "        mean = int(np.mean(num_range))\n",
    "\n",
    "    return count\n",
    "\n",
    "\n",
    "def score_game(game_core):\n",
    "    \"\"\"Запускаем игру 1000 раз, чтобы узнать, как быстро игра угадывает число.\n",
    "    Функция принимает функцию, находящую загаданное число.\"\"\"\n",
    "    count_ls = []\n",
    "    np.random.seed(1)\n",
    "    random_array = np.random.randint(1, 101, size=1000)\n",
    "    for number in random_array:\n",
    "        count_ls.append(game_core(number))\n",
    "    score = int(np.mean(count_ls))\n",
    "    print(f\"Ваш алгоритм угадывает число в среднем за {score} попыток\")\n",
    "    return score\n",
    "\n",
    "\n",
    "score_game(game_core_v3)"
   ],
   "metadata": {
    "collapsed": false,
    "pycharm": {
     "name": "#%%\n"
    }
   }
  }
 ],
 "metadata": {
  "kernelspec": {
   "display_name": "Python 3",
   "language": "python",
   "name": "python3"
  },
  "language_info": {
   "codemirror_mode": {
    "name": "ipython",
    "version": 3
   },
   "file_extension": ".py",
   "mimetype": "text/x-python",
   "name": "python",
   "nbconvert_exporter": "python",
   "pygments_lexer": "ipython3",
   "version": "3.8.1"
  }
 },
 "nbformat": 4,
 "nbformat_minor": 1
}